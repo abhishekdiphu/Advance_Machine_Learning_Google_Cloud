{
  "nbformat": 4,
  "nbformat_minor": 0,
  "metadata": {
    "kernelspec": {
      "display_name": "Python 3",
      "language": "python",
      "name": "python3"
    },
    "language_info": {
      "codemirror_mode": {
        "name": "ipython",
        "version": 3
      },
      "file_extension": ".py",
      "mimetype": "text/x-python",
      "name": "python",
      "nbconvert_exporter": "python",
      "pygments_lexer": "ipython3",
      "version": "3.6.1"
    },
    "colab": {
      "name": "5_radon_machine_learning_models_training.ipynb",
      "provenance": [],
      "collapsed_sections": [],
      "toc_visible": true
    },
    "widgets": {
      "application/vnd.jupyter.widget-state+json": {
        "b58cda35af8a41abb2d94c23c98291ea": {
          "model_module": "@jupyter-widgets/controls",
          "model_name": "HBoxModel",
          "state": {
            "_view_name": "HBoxView",
            "_dom_classes": [],
            "_model_name": "HBoxModel",
            "_view_module": "@jupyter-widgets/controls",
            "_model_module_version": "1.5.0",
            "_view_count": null,
            "_view_module_version": "1.5.0",
            "box_style": "",
            "layout": "IPY_MODEL_9c7c84a29ec543f8a27e5c97cd5b87b8",
            "_model_module": "@jupyter-widgets/controls",
            "children": [
              "IPY_MODEL_0c109d113d1d45d88afb9a44a4742391",
              "IPY_MODEL_9cbf817c9daa4eeb835a5596a3b85cfd"
            ]
          }
        },
        "9c7c84a29ec543f8a27e5c97cd5b87b8": {
          "model_module": "@jupyter-widgets/base",
          "model_name": "LayoutModel",
          "state": {
            "_view_name": "LayoutView",
            "grid_template_rows": null,
            "right": null,
            "justify_content": null,
            "_view_module": "@jupyter-widgets/base",
            "overflow": null,
            "_model_module_version": "1.2.0",
            "_view_count": null,
            "flex_flow": null,
            "width": null,
            "min_width": null,
            "border": null,
            "align_items": null,
            "bottom": null,
            "_model_module": "@jupyter-widgets/base",
            "top": null,
            "grid_column": null,
            "overflow_y": null,
            "overflow_x": null,
            "grid_auto_flow": null,
            "grid_area": null,
            "grid_template_columns": null,
            "flex": null,
            "_model_name": "LayoutModel",
            "justify_items": null,
            "grid_row": null,
            "max_height": null,
            "align_content": null,
            "visibility": null,
            "align_self": null,
            "height": null,
            "min_height": null,
            "padding": null,
            "grid_auto_rows": null,
            "grid_gap": null,
            "max_width": null,
            "order": null,
            "_view_module_version": "1.2.0",
            "grid_template_areas": null,
            "object_position": null,
            "object_fit": null,
            "grid_auto_columns": null,
            "margin": null,
            "display": null,
            "left": null
          }
        },
        "0c109d113d1d45d88afb9a44a4742391": {
          "model_module": "@jupyter-widgets/controls",
          "model_name": "FloatProgressModel",
          "state": {
            "_view_name": "ProgressView",
            "style": "IPY_MODEL_f79a982d6db6452b80bd1ecef9e5b30d",
            "_dom_classes": [],
            "description": "Dl Completed...: 100%",
            "_model_name": "FloatProgressModel",
            "bar_style": "success",
            "max": 1,
            "_view_module": "@jupyter-widgets/controls",
            "_model_module_version": "1.5.0",
            "value": 1,
            "_view_count": null,
            "_view_module_version": "1.5.0",
            "orientation": "horizontal",
            "min": 0,
            "description_tooltip": null,
            "_model_module": "@jupyter-widgets/controls",
            "layout": "IPY_MODEL_3069559080ee43fe9376c0da9d7690c4"
          }
        },
        "9cbf817c9daa4eeb835a5596a3b85cfd": {
          "model_module": "@jupyter-widgets/controls",
          "model_name": "HTMLModel",
          "state": {
            "_view_name": "HTMLView",
            "style": "IPY_MODEL_78f5ab914f5144e7a14b81e3e340f093",
            "_dom_classes": [],
            "description": "",
            "_model_name": "HTMLModel",
            "placeholder": "​",
            "_view_module": "@jupyter-widgets/controls",
            "_model_module_version": "1.5.0",
            "value": " 2/2 [00:00&lt;00:00,  6.28 url/s]",
            "_view_count": null,
            "_view_module_version": "1.5.0",
            "description_tooltip": null,
            "_model_module": "@jupyter-widgets/controls",
            "layout": "IPY_MODEL_4bdc8a7617ef4c62b57621c0c07be915"
          }
        },
        "f79a982d6db6452b80bd1ecef9e5b30d": {
          "model_module": "@jupyter-widgets/controls",
          "model_name": "ProgressStyleModel",
          "state": {
            "_view_name": "StyleView",
            "_model_name": "ProgressStyleModel",
            "description_width": "initial",
            "_view_module": "@jupyter-widgets/base",
            "_model_module_version": "1.5.0",
            "_view_count": null,
            "_view_module_version": "1.2.0",
            "bar_color": null,
            "_model_module": "@jupyter-widgets/controls"
          }
        },
        "3069559080ee43fe9376c0da9d7690c4": {
          "model_module": "@jupyter-widgets/base",
          "model_name": "LayoutModel",
          "state": {
            "_view_name": "LayoutView",
            "grid_template_rows": null,
            "right": null,
            "justify_content": null,
            "_view_module": "@jupyter-widgets/base",
            "overflow": null,
            "_model_module_version": "1.2.0",
            "_view_count": null,
            "flex_flow": null,
            "width": null,
            "min_width": null,
            "border": null,
            "align_items": null,
            "bottom": null,
            "_model_module": "@jupyter-widgets/base",
            "top": null,
            "grid_column": null,
            "overflow_y": null,
            "overflow_x": null,
            "grid_auto_flow": null,
            "grid_area": null,
            "grid_template_columns": null,
            "flex": null,
            "_model_name": "LayoutModel",
            "justify_items": null,
            "grid_row": null,
            "max_height": null,
            "align_content": null,
            "visibility": null,
            "align_self": null,
            "height": null,
            "min_height": null,
            "padding": null,
            "grid_auto_rows": null,
            "grid_gap": null,
            "max_width": null,
            "order": null,
            "_view_module_version": "1.2.0",
            "grid_template_areas": null,
            "object_position": null,
            "object_fit": null,
            "grid_auto_columns": null,
            "margin": null,
            "display": null,
            "left": null
          }
        },
        "78f5ab914f5144e7a14b81e3e340f093": {
          "model_module": "@jupyter-widgets/controls",
          "model_name": "DescriptionStyleModel",
          "state": {
            "_view_name": "StyleView",
            "_model_name": "DescriptionStyleModel",
            "description_width": "",
            "_view_module": "@jupyter-widgets/base",
            "_model_module_version": "1.5.0",
            "_view_count": null,
            "_view_module_version": "1.2.0",
            "_model_module": "@jupyter-widgets/controls"
          }
        },
        "4bdc8a7617ef4c62b57621c0c07be915": {
          "model_module": "@jupyter-widgets/base",
          "model_name": "LayoutModel",
          "state": {
            "_view_name": "LayoutView",
            "grid_template_rows": null,
            "right": null,
            "justify_content": null,
            "_view_module": "@jupyter-widgets/base",
            "overflow": null,
            "_model_module_version": "1.2.0",
            "_view_count": null,
            "flex_flow": null,
            "width": null,
            "min_width": null,
            "border": null,
            "align_items": null,
            "bottom": null,
            "_model_module": "@jupyter-widgets/base",
            "top": null,
            "grid_column": null,
            "overflow_y": null,
            "overflow_x": null,
            "grid_auto_flow": null,
            "grid_area": null,
            "grid_template_columns": null,
            "flex": null,
            "_model_name": "LayoutModel",
            "justify_items": null,
            "grid_row": null,
            "max_height": null,
            "align_content": null,
            "visibility": null,
            "align_self": null,
            "height": null,
            "min_height": null,
            "padding": null,
            "grid_auto_rows": null,
            "grid_gap": null,
            "max_width": null,
            "order": null,
            "_view_module_version": "1.2.0",
            "grid_template_areas": null,
            "object_position": null,
            "object_fit": null,
            "grid_auto_columns": null,
            "margin": null,
            "display": null,
            "left": null
          }
        },
        "39eb2f0843594d659fd595d754a52ae1": {
          "model_module": "@jupyter-widgets/controls",
          "model_name": "HBoxModel",
          "state": {
            "_view_name": "HBoxView",
            "_dom_classes": [],
            "_model_name": "HBoxModel",
            "_view_module": "@jupyter-widgets/controls",
            "_model_module_version": "1.5.0",
            "_view_count": null,
            "_view_module_version": "1.5.0",
            "box_style": "",
            "layout": "IPY_MODEL_0a0bd16d4379436b8a4f8bfccb896b79",
            "_model_module": "@jupyter-widgets/controls",
            "children": [
              "IPY_MODEL_0937fa82890e460fa4f2a5c28e5f9ff4",
              "IPY_MODEL_3f8238c210c6499c8f6208d66c59068d"
            ]
          }
        },
        "0a0bd16d4379436b8a4f8bfccb896b79": {
          "model_module": "@jupyter-widgets/base",
          "model_name": "LayoutModel",
          "state": {
            "_view_name": "LayoutView",
            "grid_template_rows": null,
            "right": null,
            "justify_content": null,
            "_view_module": "@jupyter-widgets/base",
            "overflow": null,
            "_model_module_version": "1.2.0",
            "_view_count": null,
            "flex_flow": null,
            "width": null,
            "min_width": null,
            "border": null,
            "align_items": null,
            "bottom": null,
            "_model_module": "@jupyter-widgets/base",
            "top": null,
            "grid_column": null,
            "overflow_y": null,
            "overflow_x": null,
            "grid_auto_flow": null,
            "grid_area": null,
            "grid_template_columns": null,
            "flex": null,
            "_model_name": "LayoutModel",
            "justify_items": null,
            "grid_row": null,
            "max_height": null,
            "align_content": null,
            "visibility": null,
            "align_self": null,
            "height": null,
            "min_height": null,
            "padding": null,
            "grid_auto_rows": null,
            "grid_gap": null,
            "max_width": null,
            "order": null,
            "_view_module_version": "1.2.0",
            "grid_template_areas": null,
            "object_position": null,
            "object_fit": null,
            "grid_auto_columns": null,
            "margin": null,
            "display": null,
            "left": null
          }
        },
        "0937fa82890e460fa4f2a5c28e5f9ff4": {
          "model_module": "@jupyter-widgets/controls",
          "model_name": "FloatProgressModel",
          "state": {
            "_view_name": "ProgressView",
            "style": "IPY_MODEL_f78b53bc22c349adb8df803ea574572f",
            "_dom_classes": [],
            "description": "Dl Size...: 100%",
            "_model_name": "FloatProgressModel",
            "bar_style": "success",
            "max": 1,
            "_view_module": "@jupyter-widgets/controls",
            "_model_module_version": "1.5.0",
            "value": 1,
            "_view_count": null,
            "_view_module_version": "1.5.0",
            "orientation": "horizontal",
            "min": 0,
            "description_tooltip": null,
            "_model_module": "@jupyter-widgets/controls",
            "layout": "IPY_MODEL_bf59b568516e45859c630717ea95c83d"
          }
        },
        "3f8238c210c6499c8f6208d66c59068d": {
          "model_module": "@jupyter-widgets/controls",
          "model_name": "HTMLModel",
          "state": {
            "_view_name": "HTMLView",
            "style": "IPY_MODEL_0fbda2c9db2a48db8b74cb687c4b7afd",
            "_dom_classes": [],
            "description": "",
            "_model_name": "HTMLModel",
            "placeholder": "​",
            "_view_module": "@jupyter-widgets/controls",
            "_model_module_version": "1.5.0",
            "value": " 1/1 [00:00&lt;00:00,  3.47 MiB/s]",
            "_view_count": null,
            "_view_module_version": "1.5.0",
            "description_tooltip": null,
            "_model_module": "@jupyter-widgets/controls",
            "layout": "IPY_MODEL_b80b2a4306a14a5a9f4b5f4871df196d"
          }
        },
        "f78b53bc22c349adb8df803ea574572f": {
          "model_module": "@jupyter-widgets/controls",
          "model_name": "ProgressStyleModel",
          "state": {
            "_view_name": "StyleView",
            "_model_name": "ProgressStyleModel",
            "description_width": "initial",
            "_view_module": "@jupyter-widgets/base",
            "_model_module_version": "1.5.0",
            "_view_count": null,
            "_view_module_version": "1.2.0",
            "bar_color": null,
            "_model_module": "@jupyter-widgets/controls"
          }
        },
        "bf59b568516e45859c630717ea95c83d": {
          "model_module": "@jupyter-widgets/base",
          "model_name": "LayoutModel",
          "state": {
            "_view_name": "LayoutView",
            "grid_template_rows": null,
            "right": null,
            "justify_content": null,
            "_view_module": "@jupyter-widgets/base",
            "overflow": null,
            "_model_module_version": "1.2.0",
            "_view_count": null,
            "flex_flow": null,
            "width": null,
            "min_width": null,
            "border": null,
            "align_items": null,
            "bottom": null,
            "_model_module": "@jupyter-widgets/base",
            "top": null,
            "grid_column": null,
            "overflow_y": null,
            "overflow_x": null,
            "grid_auto_flow": null,
            "grid_area": null,
            "grid_template_columns": null,
            "flex": null,
            "_model_name": "LayoutModel",
            "justify_items": null,
            "grid_row": null,
            "max_height": null,
            "align_content": null,
            "visibility": null,
            "align_self": null,
            "height": null,
            "min_height": null,
            "padding": null,
            "grid_auto_rows": null,
            "grid_gap": null,
            "max_width": null,
            "order": null,
            "_view_module_version": "1.2.0",
            "grid_template_areas": null,
            "object_position": null,
            "object_fit": null,
            "grid_auto_columns": null,
            "margin": null,
            "display": null,
            "left": null
          }
        },
        "0fbda2c9db2a48db8b74cb687c4b7afd": {
          "model_module": "@jupyter-widgets/controls",
          "model_name": "DescriptionStyleModel",
          "state": {
            "_view_name": "StyleView",
            "_model_name": "DescriptionStyleModel",
            "description_width": "",
            "_view_module": "@jupyter-widgets/base",
            "_model_module_version": "1.5.0",
            "_view_count": null,
            "_view_module_version": "1.2.0",
            "_model_module": "@jupyter-widgets/controls"
          }
        },
        "b80b2a4306a14a5a9f4b5f4871df196d": {
          "model_module": "@jupyter-widgets/base",
          "model_name": "LayoutModel",
          "state": {
            "_view_name": "LayoutView",
            "grid_template_rows": null,
            "right": null,
            "justify_content": null,
            "_view_module": "@jupyter-widgets/base",
            "overflow": null,
            "_model_module_version": "1.2.0",
            "_view_count": null,
            "flex_flow": null,
            "width": null,
            "min_width": null,
            "border": null,
            "align_items": null,
            "bottom": null,
            "_model_module": "@jupyter-widgets/base",
            "top": null,
            "grid_column": null,
            "overflow_y": null,
            "overflow_x": null,
            "grid_auto_flow": null,
            "grid_area": null,
            "grid_template_columns": null,
            "flex": null,
            "_model_name": "LayoutModel",
            "justify_items": null,
            "grid_row": null,
            "max_height": null,
            "align_content": null,
            "visibility": null,
            "align_self": null,
            "height": null,
            "min_height": null,
            "padding": null,
            "grid_auto_rows": null,
            "grid_gap": null,
            "max_width": null,
            "order": null,
            "_view_module_version": "1.2.0",
            "grid_template_areas": null,
            "object_position": null,
            "object_fit": null,
            "grid_auto_columns": null,
            "margin": null,
            "display": null,
            "left": null
          }
        },
        "26e4f71220f24908b56528f69bb1de01": {
          "model_module": "@jupyter-widgets/controls",
          "model_name": "HBoxModel",
          "state": {
            "_view_name": "HBoxView",
            "_dom_classes": [],
            "_model_name": "HBoxModel",
            "_view_module": "@jupyter-widgets/controls",
            "_model_module_version": "1.5.0",
            "_view_count": null,
            "_view_module_version": "1.5.0",
            "box_style": "",
            "layout": "IPY_MODEL_9d0094063cc945f4b0cddabb4a0a9832",
            "_model_module": "@jupyter-widgets/controls",
            "children": [
              "IPY_MODEL_370170b11cff4719955eba41e497491f",
              "IPY_MODEL_ef6fd25cf5a94273973ac90ef42c6855"
            ]
          }
        },
        "9d0094063cc945f4b0cddabb4a0a9832": {
          "model_module": "@jupyter-widgets/base",
          "model_name": "LayoutModel",
          "state": {
            "_view_name": "LayoutView",
            "grid_template_rows": null,
            "right": null,
            "justify_content": null,
            "_view_module": "@jupyter-widgets/base",
            "overflow": null,
            "_model_module_version": "1.2.0",
            "_view_count": null,
            "flex_flow": null,
            "width": null,
            "min_width": null,
            "border": null,
            "align_items": null,
            "bottom": null,
            "_model_module": "@jupyter-widgets/base",
            "top": null,
            "grid_column": null,
            "overflow_y": null,
            "overflow_x": null,
            "grid_auto_flow": null,
            "grid_area": null,
            "grid_template_columns": null,
            "flex": null,
            "_model_name": "LayoutModel",
            "justify_items": null,
            "grid_row": null,
            "max_height": null,
            "align_content": null,
            "visibility": null,
            "align_self": null,
            "height": null,
            "min_height": null,
            "padding": null,
            "grid_auto_rows": null,
            "grid_gap": null,
            "max_width": null,
            "order": null,
            "_view_module_version": "1.2.0",
            "grid_template_areas": null,
            "object_position": null,
            "object_fit": null,
            "grid_auto_columns": null,
            "margin": null,
            "display": null,
            "left": null
          }
        },
        "370170b11cff4719955eba41e497491f": {
          "model_module": "@jupyter-widgets/controls",
          "model_name": "FloatProgressModel",
          "state": {
            "_view_name": "ProgressView",
            "style": "IPY_MODEL_a2e1210f288545f39270edd759e8ceda",
            "_dom_classes": [],
            "description": "",
            "_model_name": "FloatProgressModel",
            "bar_style": "info",
            "max": 1,
            "_view_module": "@jupyter-widgets/controls",
            "_model_module_version": "1.5.0",
            "value": 1,
            "_view_count": null,
            "_view_module_version": "1.5.0",
            "orientation": "horizontal",
            "min": 0,
            "description_tooltip": null,
            "_model_module": "@jupyter-widgets/controls",
            "layout": "IPY_MODEL_b09d7705b6f344949841ce98fc3ddcca"
          }
        },
        "ef6fd25cf5a94273973ac90ef42c6855": {
          "model_module": "@jupyter-widgets/controls",
          "model_name": "HTMLModel",
          "state": {
            "_view_name": "HTMLView",
            "style": "IPY_MODEL_40343fdc4eb94f75bd3c1bc4848efe29",
            "_dom_classes": [],
            "description": "",
            "_model_name": "HTMLModel",
            "placeholder": "​",
            "_view_module": "@jupyter-widgets/controls",
            "_model_module_version": "1.5.0",
            "value": " 12573/0 [00:27&lt;00:00, 600.48 examples/s]",
            "_view_count": null,
            "_view_module_version": "1.5.0",
            "description_tooltip": null,
            "_model_module": "@jupyter-widgets/controls",
            "layout": "IPY_MODEL_ad9080f6a28d455c8f35ebac028750fe"
          }
        },
        "a2e1210f288545f39270edd759e8ceda": {
          "model_module": "@jupyter-widgets/controls",
          "model_name": "ProgressStyleModel",
          "state": {
            "_view_name": "StyleView",
            "_model_name": "ProgressStyleModel",
            "description_width": "initial",
            "_view_module": "@jupyter-widgets/base",
            "_model_module_version": "1.5.0",
            "_view_count": null,
            "_view_module_version": "1.2.0",
            "bar_color": null,
            "_model_module": "@jupyter-widgets/controls"
          }
        },
        "b09d7705b6f344949841ce98fc3ddcca": {
          "model_module": "@jupyter-widgets/base",
          "model_name": "LayoutModel",
          "state": {
            "_view_name": "LayoutView",
            "grid_template_rows": null,
            "right": null,
            "justify_content": null,
            "_view_module": "@jupyter-widgets/base",
            "overflow": null,
            "_model_module_version": "1.2.0",
            "_view_count": null,
            "flex_flow": null,
            "width": null,
            "min_width": null,
            "border": null,
            "align_items": null,
            "bottom": null,
            "_model_module": "@jupyter-widgets/base",
            "top": null,
            "grid_column": null,
            "overflow_y": null,
            "overflow_x": null,
            "grid_auto_flow": null,
            "grid_area": null,
            "grid_template_columns": null,
            "flex": null,
            "_model_name": "LayoutModel",
            "justify_items": null,
            "grid_row": null,
            "max_height": null,
            "align_content": null,
            "visibility": null,
            "align_self": null,
            "height": null,
            "min_height": null,
            "padding": null,
            "grid_auto_rows": null,
            "grid_gap": null,
            "max_width": null,
            "order": null,
            "_view_module_version": "1.2.0",
            "grid_template_areas": null,
            "object_position": null,
            "object_fit": null,
            "grid_auto_columns": null,
            "margin": null,
            "display": null,
            "left": null
          }
        },
        "40343fdc4eb94f75bd3c1bc4848efe29": {
          "model_module": "@jupyter-widgets/controls",
          "model_name": "DescriptionStyleModel",
          "state": {
            "_view_name": "StyleView",
            "_model_name": "DescriptionStyleModel",
            "description_width": "",
            "_view_module": "@jupyter-widgets/base",
            "_model_module_version": "1.5.0",
            "_view_count": null,
            "_view_module_version": "1.2.0",
            "_model_module": "@jupyter-widgets/controls"
          }
        },
        "ad9080f6a28d455c8f35ebac028750fe": {
          "model_module": "@jupyter-widgets/base",
          "model_name": "LayoutModel",
          "state": {
            "_view_name": "LayoutView",
            "grid_template_rows": null,
            "right": null,
            "justify_content": null,
            "_view_module": "@jupyter-widgets/base",
            "overflow": null,
            "_model_module_version": "1.2.0",
            "_view_count": null,
            "flex_flow": null,
            "width": null,
            "min_width": null,
            "border": null,
            "align_items": null,
            "bottom": null,
            "_model_module": "@jupyter-widgets/base",
            "top": null,
            "grid_column": null,
            "overflow_y": null,
            "overflow_x": null,
            "grid_auto_flow": null,
            "grid_area": null,
            "grid_template_columns": null,
            "flex": null,
            "_model_name": "LayoutModel",
            "justify_items": null,
            "grid_row": null,
            "max_height": null,
            "align_content": null,
            "visibility": null,
            "align_self": null,
            "height": null,
            "min_height": null,
            "padding": null,
            "grid_auto_rows": null,
            "grid_gap": null,
            "max_width": null,
            "order": null,
            "_view_module_version": "1.2.0",
            "grid_template_areas": null,
            "object_position": null,
            "object_fit": null,
            "grid_auto_columns": null,
            "margin": null,
            "display": null,
            "left": null
          }
        },
        "1799002374f240bba89c0c3393444300": {
          "model_module": "@jupyter-widgets/controls",
          "model_name": "HBoxModel",
          "state": {
            "_view_name": "HBoxView",
            "_dom_classes": [],
            "_model_name": "HBoxModel",
            "_view_module": "@jupyter-widgets/controls",
            "_model_module_version": "1.5.0",
            "_view_count": null,
            "_view_module_version": "1.5.0",
            "box_style": "",
            "layout": "IPY_MODEL_4fa220dafc714bccb818dc5b41d2e139",
            "_model_module": "@jupyter-widgets/controls",
            "children": [
              "IPY_MODEL_582297c1dee8419e993cdf001c4ee904",
              "IPY_MODEL_c275349599f244e4aea8cff63b5e4469"
            ]
          }
        },
        "4fa220dafc714bccb818dc5b41d2e139": {
          "model_module": "@jupyter-widgets/base",
          "model_name": "LayoutModel",
          "state": {
            "_view_name": "LayoutView",
            "grid_template_rows": null,
            "right": null,
            "justify_content": null,
            "_view_module": "@jupyter-widgets/base",
            "overflow": null,
            "_model_module_version": "1.2.0",
            "_view_count": null,
            "flex_flow": null,
            "width": null,
            "min_width": null,
            "border": null,
            "align_items": null,
            "bottom": null,
            "_model_module": "@jupyter-widgets/base",
            "top": null,
            "grid_column": null,
            "overflow_y": null,
            "overflow_x": null,
            "grid_auto_flow": null,
            "grid_area": null,
            "grid_template_columns": null,
            "flex": null,
            "_model_name": "LayoutModel",
            "justify_items": null,
            "grid_row": null,
            "max_height": null,
            "align_content": null,
            "visibility": null,
            "align_self": null,
            "height": null,
            "min_height": null,
            "padding": null,
            "grid_auto_rows": null,
            "grid_gap": null,
            "max_width": null,
            "order": null,
            "_view_module_version": "1.2.0",
            "grid_template_areas": null,
            "object_position": null,
            "object_fit": null,
            "grid_auto_columns": null,
            "margin": null,
            "display": null,
            "left": null
          }
        },
        "582297c1dee8419e993cdf001c4ee904": {
          "model_module": "@jupyter-widgets/controls",
          "model_name": "FloatProgressModel",
          "state": {
            "_view_name": "ProgressView",
            "style": "IPY_MODEL_f520bee97b7f430a84a786c94fae5e70",
            "_dom_classes": [],
            "description": " 92%",
            "_model_name": "FloatProgressModel",
            "bar_style": "danger",
            "max": 12573,
            "_view_module": "@jupyter-widgets/controls",
            "_model_module_version": "1.5.0",
            "value": 11577,
            "_view_count": null,
            "_view_module_version": "1.5.0",
            "orientation": "horizontal",
            "min": 0,
            "description_tooltip": null,
            "_model_module": "@jupyter-widgets/controls",
            "layout": "IPY_MODEL_1a49d23076f642eb89fb48dd2425ee53"
          }
        },
        "c275349599f244e4aea8cff63b5e4469": {
          "model_module": "@jupyter-widgets/controls",
          "model_name": "HTMLModel",
          "state": {
            "_view_name": "HTMLView",
            "style": "IPY_MODEL_f58f0ee778fe40278e8f1daca746c3da",
            "_dom_classes": [],
            "description": "",
            "_model_name": "HTMLModel",
            "placeholder": "​",
            "_view_module": "@jupyter-widgets/controls",
            "_model_module_version": "1.5.0",
            "value": " 11577/12573 [00:00&lt;00:00, 115769.56 examples/s]",
            "_view_count": null,
            "_view_module_version": "1.5.0",
            "description_tooltip": null,
            "_model_module": "@jupyter-widgets/controls",
            "layout": "IPY_MODEL_6fdb0e8e5c344d45af7984be09b583f1"
          }
        },
        "f520bee97b7f430a84a786c94fae5e70": {
          "model_module": "@jupyter-widgets/controls",
          "model_name": "ProgressStyleModel",
          "state": {
            "_view_name": "StyleView",
            "_model_name": "ProgressStyleModel",
            "description_width": "initial",
            "_view_module": "@jupyter-widgets/base",
            "_model_module_version": "1.5.0",
            "_view_count": null,
            "_view_module_version": "1.2.0",
            "bar_color": null,
            "_model_module": "@jupyter-widgets/controls"
          }
        },
        "1a49d23076f642eb89fb48dd2425ee53": {
          "model_module": "@jupyter-widgets/base",
          "model_name": "LayoutModel",
          "state": {
            "_view_name": "LayoutView",
            "grid_template_rows": null,
            "right": null,
            "justify_content": null,
            "_view_module": "@jupyter-widgets/base",
            "overflow": null,
            "_model_module_version": "1.2.0",
            "_view_count": null,
            "flex_flow": null,
            "width": null,
            "min_width": null,
            "border": null,
            "align_items": null,
            "bottom": null,
            "_model_module": "@jupyter-widgets/base",
            "top": null,
            "grid_column": null,
            "overflow_y": null,
            "overflow_x": null,
            "grid_auto_flow": null,
            "grid_area": null,
            "grid_template_columns": null,
            "flex": null,
            "_model_name": "LayoutModel",
            "justify_items": null,
            "grid_row": null,
            "max_height": null,
            "align_content": null,
            "visibility": null,
            "align_self": null,
            "height": null,
            "min_height": null,
            "padding": null,
            "grid_auto_rows": null,
            "grid_gap": null,
            "max_width": null,
            "order": null,
            "_view_module_version": "1.2.0",
            "grid_template_areas": null,
            "object_position": null,
            "object_fit": null,
            "grid_auto_columns": null,
            "margin": null,
            "display": null,
            "left": null
          }
        },
        "f58f0ee778fe40278e8f1daca746c3da": {
          "model_module": "@jupyter-widgets/controls",
          "model_name": "DescriptionStyleModel",
          "state": {
            "_view_name": "StyleView",
            "_model_name": "DescriptionStyleModel",
            "description_width": "",
            "_view_module": "@jupyter-widgets/base",
            "_model_module_version": "1.5.0",
            "_view_count": null,
            "_view_module_version": "1.2.0",
            "_model_module": "@jupyter-widgets/controls"
          }
        },
        "6fdb0e8e5c344d45af7984be09b583f1": {
          "model_module": "@jupyter-widgets/base",
          "model_name": "LayoutModel",
          "state": {
            "_view_name": "LayoutView",
            "grid_template_rows": null,
            "right": null,
            "justify_content": null,
            "_view_module": "@jupyter-widgets/base",
            "overflow": null,
            "_model_module_version": "1.2.0",
            "_view_count": null,
            "flex_flow": null,
            "width": null,
            "min_width": null,
            "border": null,
            "align_items": null,
            "bottom": null,
            "_model_module": "@jupyter-widgets/base",
            "top": null,
            "grid_column": null,
            "overflow_y": null,
            "overflow_x": null,
            "grid_auto_flow": null,
            "grid_area": null,
            "grid_template_columns": null,
            "flex": null,
            "_model_name": "LayoutModel",
            "justify_items": null,
            "grid_row": null,
            "max_height": null,
            "align_content": null,
            "visibility": null,
            "align_self": null,
            "height": null,
            "min_height": null,
            "padding": null,
            "grid_auto_rows": null,
            "grid_gap": null,
            "max_width": null,
            "order": null,
            "_view_module_version": "1.2.0",
            "grid_template_areas": null,
            "object_position": null,
            "object_fit": null,
            "grid_auto_columns": null,
            "margin": null,
            "display": null,
            "left": null
          }
        }
      }
    }
  },
  "cells": [
    {
      "cell_type": "markdown",
      "metadata": {
        "id": "rB6jZTPkCdzk"
      },
      "source": [
        "# Data Scientist Nanodegree\n",
        "## Supervised Learning\n",
        "## Project: regression for RADIATION_US"
      ]
    },
    {
      "cell_type": "markdown",
      "metadata": {
        "id": "uc2jpJM4Cdzu"
      },
      "source": [
        "----\n",
        "## Exploring the Data\n",
        "Run the code cell below to load necessary Python libraries and load the census data. Note that the last column from this dataset, `'income'`, will be our target label (whether an individual makes more than, or at most, $50,000 annually). All other columns are features about each individual in the census database."
      ]
    },
    {
      "cell_type": "code",
      "metadata": {
        "id": "xw5hrZNkCNCA"
      },
      "source": [
        "# Import libraries necessary for this project\r\n",
        "import numpy as np\r\n",
        "import pandas as pd\r\n",
        "from time import time\r\n",
        "from IPython.display import display # Allows the use of display() for DataFrames\r\n",
        "\r\n",
        "# Import supplementary visualization code visuals.py\r\n",
        "import visuals as vs\r\n",
        "\r\n",
        "# Pretty display for notebooks\r\n",
        "%matplotlib inline\r\n",
        "import pathlib\r\n",
        "\r\n",
        "import numpy as np\r\n",
        "import pandas as pd\r\n",
        "\r\n",
        "import tensorflow as tf\r\n",
        "\r\n",
        "from tensorflow import feature_column\r\n",
        "from tensorflow.keras import layers\r\n",
        "from sklearn.model_selection import train_test_split\r\n",
        "import tensorflow_datasets as tfds"
      ],
      "execution_count": 3,
      "outputs": []
    },
    {
      "cell_type": "markdown",
      "metadata": {
        "id": "fVpPM71RSDCa"
      },
      "source": [
        "# LOADING THE DATASET RADON FROM TENSORFLOW"
      ]
    },
    {
      "cell_type": "code",
      "metadata": {
        "id": "S-jMQwZ04l0V",
        "colab": {
          "base_uri": "https://localhost:8080/",
          "height": 237,
          "referenced_widgets": [
            "b58cda35af8a41abb2d94c23c98291ea",
            "9c7c84a29ec543f8a27e5c97cd5b87b8",
            "0c109d113d1d45d88afb9a44a4742391",
            "9cbf817c9daa4eeb835a5596a3b85cfd",
            "f79a982d6db6452b80bd1ecef9e5b30d",
            "3069559080ee43fe9376c0da9d7690c4",
            "78f5ab914f5144e7a14b81e3e340f093",
            "4bdc8a7617ef4c62b57621c0c07be915",
            "39eb2f0843594d659fd595d754a52ae1",
            "0a0bd16d4379436b8a4f8bfccb896b79",
            "0937fa82890e460fa4f2a5c28e5f9ff4",
            "3f8238c210c6499c8f6208d66c59068d",
            "f78b53bc22c349adb8df803ea574572f",
            "bf59b568516e45859c630717ea95c83d",
            "0fbda2c9db2a48db8b74cb687c4b7afd",
            "b80b2a4306a14a5a9f4b5f4871df196d",
            "26e4f71220f24908b56528f69bb1de01",
            "9d0094063cc945f4b0cddabb4a0a9832",
            "370170b11cff4719955eba41e497491f",
            "ef6fd25cf5a94273973ac90ef42c6855",
            "a2e1210f288545f39270edd759e8ceda",
            "b09d7705b6f344949841ce98fc3ddcca",
            "40343fdc4eb94f75bd3c1bc4848efe29",
            "ad9080f6a28d455c8f35ebac028750fe",
            "1799002374f240bba89c0c3393444300",
            "4fa220dafc714bccb818dc5b41d2e139",
            "582297c1dee8419e993cdf001c4ee904",
            "c275349599f244e4aea8cff63b5e4469",
            "f520bee97b7f430a84a786c94fae5e70",
            "1a49d23076f642eb89fb48dd2425ee53",
            "f58f0ee778fe40278e8f1daca746c3da",
            "6fdb0e8e5c344d45af7984be09b583f1"
          ]
        },
        "outputId": "f13bf4d4-bfac-43c4-c8a3-7f96a402a3e9"
      },
      "source": [
        "data = tfds.load('radon' , split ='train')"
      ],
      "execution_count": 4,
      "outputs": [
        {
          "output_type": "stream",
          "text": [
            "\u001b[1mDownloading and preparing dataset radon/1.0.0 (download: 1.71 MiB, generated: 9.15 MiB, total: 10.86 MiB) to /root/tensorflow_datasets/radon/1.0.0...\u001b[0m\n"
          ],
          "name": "stdout"
        },
        {
          "output_type": "display_data",
          "data": {
            "application/vnd.jupyter.widget-view+json": {
              "model_id": "b58cda35af8a41abb2d94c23c98291ea",
              "version_minor": 0,
              "version_major": 2
            },
            "text/plain": [
              "HBox(children=(FloatProgress(value=1.0, bar_style='info', description='Dl Completed...', max=1.0, style=Progre…"
            ]
          },
          "metadata": {
            "tags": []
          }
        },
        {
          "output_type": "display_data",
          "data": {
            "application/vnd.jupyter.widget-view+json": {
              "model_id": "39eb2f0843594d659fd595d754a52ae1",
              "version_minor": 0,
              "version_major": 2
            },
            "text/plain": [
              "HBox(children=(FloatProgress(value=1.0, bar_style='info', description='Dl Size...', max=1.0, style=ProgressSty…"
            ]
          },
          "metadata": {
            "tags": []
          }
        },
        {
          "output_type": "stream",
          "text": [
            "\n",
            "\n",
            "\n",
            "\n"
          ],
          "name": "stdout"
        },
        {
          "output_type": "display_data",
          "data": {
            "application/vnd.jupyter.widget-view+json": {
              "model_id": "26e4f71220f24908b56528f69bb1de01",
              "version_minor": 0,
              "version_major": 2
            },
            "text/plain": [
              "HBox(children=(FloatProgress(value=1.0, bar_style='info', max=1.0), HTML(value='')))"
            ]
          },
          "metadata": {
            "tags": []
          }
        },
        {
          "output_type": "stream",
          "text": [
            "\rShuffling and writing examples to /root/tensorflow_datasets/radon/1.0.0.incomplete6YZ9AV/radon-train.tfrecord\n"
          ],
          "name": "stdout"
        },
        {
          "output_type": "display_data",
          "data": {
            "application/vnd.jupyter.widget-view+json": {
              "model_id": "1799002374f240bba89c0c3393444300",
              "version_minor": 0,
              "version_major": 2
            },
            "text/plain": [
              "HBox(children=(FloatProgress(value=0.0, max=12573.0), HTML(value='')))"
            ]
          },
          "metadata": {
            "tags": []
          }
        },
        {
          "output_type": "stream",
          "text": [
            "\u001b[1mDataset radon downloaded and prepared to /root/tensorflow_datasets/radon/1.0.0. Subsequent calls will reuse this data.\u001b[0m\n",
            "\r"
          ],
          "name": "stdout"
        }
      ]
    },
    {
      "cell_type": "markdown",
      "metadata": {
        "id": "l6gMrk_wSI5z"
      },
      "source": [
        "# SELECTING ONLY THE STATE = MN "
      ]
    },
    {
      "cell_type": "code",
      "metadata": {
        "id": "vYfxXbPx6DG2"
      },
      "source": [
        "state = 'MN' # Minosoata \r\n",
        "radon_data = tfds.as_dataframe(data)\r\n",
        "radon_data.rename(lambda s: s[9:] if s.startswith('feat') else s, axis=1, inplace=True)\r\n",
        "df = radon_data.copy(deep=True) #radon_data[radon_data.state==state.encode()].copy()"
      ],
      "execution_count": 5,
      "outputs": []
    },
    {
      "cell_type": "markdown",
      "metadata": {
        "id": "aWt6wZ_rSNWT"
      },
      "source": [
        "# VISUALIZING  THE DATAFRAME"
      ]
    },
    {
      "cell_type": "code",
      "metadata": {
        "colab": {
          "base_uri": "https://localhost:8080/",
          "height": 113
        },
        "id": "aWWMC5vm6ksC",
        "outputId": "6f16934b-5087-4eba-992b-31132d3307f3"
      },
      "source": [
        "df.head(1)"
      ],
      "execution_count": 6,
      "outputs": [
        {
          "output_type": "execute_result",
          "data": {
            "text/html": [
              "<div>\n",
              "<style scoped>\n",
              "    .dataframe tbody tr th:only-of-type {\n",
              "        vertical-align: middle;\n",
              "    }\n",
              "\n",
              "    .dataframe tbody tr th {\n",
              "        vertical-align: top;\n",
              "    }\n",
              "\n",
              "    .dataframe thead th {\n",
              "        text-align: right;\n",
              "    }\n",
              "</style>\n",
              "<table border=\"1\" class=\"dataframe\">\n",
              "  <thead>\n",
              "    <tr style=\"text-align: right;\">\n",
              "      <th></th>\n",
              "      <th>activity</th>\n",
              "      <th>Uppm</th>\n",
              "      <th>adjwt</th>\n",
              "      <th>basement</th>\n",
              "      <th>cntyfips</th>\n",
              "      <th>county</th>\n",
              "      <th>dupflag</th>\n",
              "      <th>floor</th>\n",
              "      <th>idnum</th>\n",
              "      <th>lat</th>\n",
              "      <th>lon</th>\n",
              "      <th>pcterr</th>\n",
              "      <th>region</th>\n",
              "      <th>rep</th>\n",
              "      <th>room</th>\n",
              "      <th>startdt</th>\n",
              "      <th>starttm</th>\n",
              "      <th>state</th>\n",
              "      <th>state2</th>\n",
              "      <th>stfips</th>\n",
              "      <th>stopdt</th>\n",
              "      <th>stoptm</th>\n",
              "      <th>stratum</th>\n",
              "      <th>typebldg</th>\n",
              "      <th>wave</th>\n",
              "      <th>windoor</th>\n",
              "      <th>zip</th>\n",
              "      <th>zipflag</th>\n",
              "    </tr>\n",
              "  </thead>\n",
              "  <tbody>\n",
              "    <tr>\n",
              "      <th>0</th>\n",
              "      <td>1.6</td>\n",
              "      <td>2.49759</td>\n",
              "      <td>292.219543</td>\n",
              "      <td>b'N'</td>\n",
              "      <td>3</td>\n",
              "      <td>b'ALLEN               '</td>\n",
              "      <td>0</td>\n",
              "      <td>1</td>\n",
              "      <td>1681</td>\n",
              "      <td>41.091</td>\n",
              "      <td>-85.067001</td>\n",
              "      <td>12.7</td>\n",
              "      <td>2</td>\n",
              "      <td>3</td>\n",
              "      <td>2</td>\n",
              "      <td>11489</td>\n",
              "      <td>2230</td>\n",
              "      <td>b'IN'</td>\n",
              "      <td>b'IN'</td>\n",
              "      <td>18</td>\n",
              "      <td>11689</td>\n",
              "      <td>2235</td>\n",
              "      <td>2</td>\n",
              "      <td>1</td>\n",
              "      <td>92</td>\n",
              "      <td>b' '</td>\n",
              "      <td>46835</td>\n",
              "      <td>0</td>\n",
              "    </tr>\n",
              "  </tbody>\n",
              "</table>\n",
              "</div>"
            ],
            "text/plain": [
              "   activity     Uppm       adjwt basement  ...  wave windoor    zip  zipflag\n",
              "0       1.6  2.49759  292.219543     b'N'  ...    92    b' '  46835        0\n",
              "\n",
              "[1 rows x 28 columns]"
            ]
          },
          "metadata": {
            "tags": []
          },
          "execution_count": 6
        }
      ]
    },
    {
      "cell_type": "markdown",
      "metadata": {
        "id": "MAwNIiIfSwd4"
      },
      "source": [
        "# INFO  ON DATA-TYPES"
      ]
    },
    {
      "cell_type": "code",
      "metadata": {
        "id": "wqiJiGip6lsM"
      },
      "source": [
        "#radon_data.info()"
      ],
      "execution_count": 7,
      "outputs": []
    },
    {
      "cell_type": "code",
      "metadata": {
        "id": "fxU5sHS7D7x8"
      },
      "source": [
        "#df.info()"
      ],
      "execution_count": 8,
      "outputs": []
    },
    {
      "cell_type": "markdown",
      "metadata": {
        "id": "E3bu4-8aIZMN"
      },
      "source": [
        "- there are 4  contineous values features and 9 categoriacal features and in total there are 45222 rows and 14 cols.\r\n",
        "- 4.6 mb data\r\n",
        "- dependent value id income, which is categoriacal  non qantitative. <=50K or >50K class. \r\n",
        "- so binary class problem.\r\n"
      ]
    },
    {
      "cell_type": "markdown",
      "metadata": {
        "id": "JEkCmZuUm2q2"
      },
      "source": [
        "# STATISTICS OF CONTINEOUS INDEPENDENT VARIABLES: "
      ]
    },
    {
      "cell_type": "code",
      "metadata": {
        "id": "EXAqf6nAEA2m"
      },
      "source": [
        "#df.describe()"
      ],
      "execution_count": 9,
      "outputs": []
    },
    {
      "cell_type": "markdown",
      "metadata": {
        "id": "mC4Id07mnJ5_"
      },
      "source": [
        "# STATISTICS OF CATEGORICAL VARIABLE FEATURES: "
      ]
    },
    {
      "cell_type": "code",
      "metadata": {
        "id": "xz-MnA4ATB-J"
      },
      "source": [
        "#df.describe(include = np.object).transpose()"
      ],
      "execution_count": 10,
      "outputs": []
    },
    {
      "cell_type": "markdown",
      "metadata": {
        "id": "x_KPfyuenan2"
      },
      "source": [
        "# NUMBERS OF THE MISSING NO OF VARIABLES :"
      ]
    },
    {
      "cell_type": "code",
      "metadata": {
        "id": "oDn_nDOsE6Pg"
      },
      "source": [
        "#df.isnull().sum()"
      ],
      "execution_count": 11,
      "outputs": []
    },
    {
      "cell_type": "markdown",
      "metadata": {
        "id": "vRXSXI-XnpUm"
      },
      "source": [
        "# DISTRIBUTION OF DEPENDENT VARIABLE :"
      ]
    },
    {
      "cell_type": "code",
      "metadata": {
        "colab": {
          "base_uri": "https://localhost:8080/",
          "height": 442
        },
        "id": "4suWeIiCKfYY",
        "outputId": "abab1bb3-efc5-4072-92ee-97beb9f7ecde"
      },
      "source": [
        "import seaborn as sns\r\n",
        "import matplotlib.pyplot as plt\r\n",
        "plt.figure(figsize =(10,7))\r\n",
        "#histogram\r\n",
        "plt.xlim(0, 50)\r\n",
        "sns.histplot(df['activity']);"
      ],
      "execution_count": 12,
      "outputs": [
        {
          "output_type": "display_data",
          "data": {
            "image/png": "[encoded data removed]",
            "text/plain": [
              "<Figure size 720x504 with 1 Axes>"
            ]
          },
          "metadata": {
            "tags": [],
            "needs_background": "light"
          }
        }
      ]
    },
    {
      "cell_type": "markdown",
      "metadata": {
        "id": "4wTEYTjoL_r3"
      },
      "source": [
        "- most of  them lies within 1 and 10 level in activity"
      ]
    },
    {
      "cell_type": "markdown",
      "metadata": {
        "id": "7kfoDi4mn8vr"
      },
      "source": [
        "# CO-RELATION  MATRIX BETWEEN DIFFERNT FEATURES :"
      ]
    },
    {
      "cell_type": "code",
      "metadata": {
        "id": "KaGYqsK8L9Yt"
      },
      "source": [
        "import matplotlib.pyplot as plt\r\n",
        "\r\n",
        "#correlation matrix\r\n",
        "#corrmat = df.corr()\r\n",
        "#f, ax = plt.subplots(figsize=(10, 7))\r\n",
        "#sns.heatmap(corrmat, vmax=1,vmin=-1 ,square=True , annot=True);"
      ],
      "execution_count": 13,
      "outputs": []
    },
    {
      "cell_type": "markdown",
      "metadata": {
        "id": "nT93fpzwodNo"
      },
      "source": [
        "# RELATIONSHIPS BETWEEN THE DIFFERNT FEATURES WITH REACH OTHER :(BOTH CATEGORICAL & CONTINEOUS):"
      ]
    },
    {
      "cell_type": "code",
      "metadata": {
        "id": "E4VOqOBcM-Je"
      },
      "source": [
        "sns.set()\r\n",
        "#cols = list(df.columns[10:14])\r\n",
        "#sns.pairplot(df[cols], height = 3)\r\n",
        "#plt.show();"
      ],
      "execution_count": 14,
      "outputs": []
    },
    {
      "cell_type": "code",
      "metadata": {
        "id": "6l2cYkHbOk5e"
      },
      "source": [
        "#df.hist(figsize=(10, 12), bins=30, xlabelsize=8, ylabelsize=8,legend = True); # ; avoid having the matplotlib verbose informations"
      ],
      "execution_count": 15,
      "outputs": []
    },
    {
      "cell_type": "markdown",
      "metadata": {
        "id": "ZybdsXFbCdzx"
      },
      "source": [
        "### Implementation: Data Exploration\n",
        "\n",
        "\n",
        "** HINT: ** You may need to look at the table above to understand how the `'income'` entries are formatted. "
      ]
    },
    {
      "cell_type": "code",
      "metadata": {
        "collapsed": true,
        "colab": {
          "base_uri": "https://localhost:8080/"
        },
        "id": "a4fecdWSCdzy",
        "outputId": "f98adbb0-1a28-4cff-ce2a-678b67e83cfc"
      },
      "source": [
        "# TODO: Total number of records\n",
        "data = df.copy(deep=True)\n",
        "n_records = len(data)\n",
        "\n",
        "# TODO: Number of records where individual's income is more than $50,000\n",
        "low = len(data[data['activity'] <= 4])\n",
        "\n",
        "## TODO: Number of records where individual's income is at most $50,000\n",
        "##medium = len(data[(data['activity'] > 4) & (data['activity'] < 8 )])\n",
        "\n",
        "# TODO: Number of records where individual's income is more than $50,000\n",
        "high = len(data[data['activity'] > 4])\n",
        "\n",
        "\n",
        "# TODO: Percentage of individuals whose income is more than $50,000\n",
        "very_percent = 100*(high/n_records)\n",
        "\n",
        "# Print the results\n",
        "print(\"Total number of records             : {}\".format(n_records))\n",
        "print(\"Individuals high               : {}\".format(high))\n",
        "print(\"Individuals low                     : {}\".format(low))\n",
        "\n",
        "print(\"Percentage of high                  : {}%\".format(100*high/n_records))\n",
        "#print(\"Percentage of medium                : {}%\".format(100*medium/n_records))\n",
        "print(\"Percentage of low                   : {}%\".format(100*low/n_records))"
      ],
      "execution_count": 16,
      "outputs": [
        {
          "output_type": "stream",
          "text": [
            "Total number of records             : 12573\n",
            "Individuals high               : 3780\n",
            "Individuals low                     : 8793\n",
            "Percentage of high                  : 30.064423765211167%\n",
            "Percentage of low                   : 69.93557623478884%\n"
          ],
          "name": "stdout"
        }
      ]
    },
    {
      "cell_type": "markdown",
      "metadata": {
        "id": "-ziPWMkfCdzy"
      },
      "source": [
        "# ** Featureset Exploration **\n",
        "\n",
        "#     Label\n",
        "- 'activity': tf.float32,\n",
        "\n",
        "#    'features':\n",
        "\n",
        "- 'Uppm': tf.float32,\n",
        "- 'adjwt': tf.float32,\n",
        "- 'basement': tf.string,\n",
        "- 'cntyfips': tf.int32,\n",
        "- 'county': tf.string,\n",
        "- 'dupflag': tf.int32,\n",
        "- 'floor': tf.int32,\n",
        "- 'idnum': tf.int32,\n",
        "- 'lat': tf.float32,\n",
        "- 'lon': tf.float32,\n",
        "- 'pcterr': tf.float32,\n",
        "- 'region': tf.int32,\n",
        "- 'rep': tf.int32,\n",
        "- 'room': tf.int32,\n",
        "- 'startdt': tf.int32,\n",
        "- 'starttm': tf.int32,\n",
        "- 'state': tf.string,\n",
        "- 'state2': tf.string,\n",
        "- 'stfips': tf.int32,\n",
        "- 'stopdt': tf.int32,\n",
        "- 'stoptm': tf.int32,\n",
        "- 'stratum': tf.int32,\n",
        "- 'typebldg': tf.int32,\n",
        "- 'wave': tf.int32,\n",
        "- 'windoor': tf.string,\n",
        "- 'zip': tf.int32,\n",
        "- 'zipflag': tf.int32,"
      ]
    },
    {
      "cell_type": "markdown",
      "metadata": {
        "id": "LOesLaonCdzz"
      },
      "source": [
        "----\n",
        "## Preparing the Data\n",
        "Before data can be used as input for machine learning algorithms, it often must be cleaned, formatted, and restructured — this is typically known as **preprocessing**. Fortunately, for this dataset, there are no invalid or missing entries we must deal with, however, there are some qualities about certain features that must be adjusted. This preprocessing can help tremendously with the outcome and predictive power of nearly all learning algorithms."
      ]
    },
    {
      "cell_type": "markdown",
      "metadata": {
        "id": "1G4CR0QoCdz0"
      },
      "source": [
        "### Transforming Skewed Continuous Features\n",
        "A dataset may sometimes contain at least one feature whose values tend to lie near a single number, but will also have a non-trivial number of vastly larger or smaller values than that single number.  Algorithms can be sensitive to such distributions of values and can underperform if the range is not properly normalized. With the census dataset two features fit this description: '`capital-gain'` and `'capital-loss'`. \n",
        "\n",
        "Run the code cell below to plot a histogram of these two features. Note the range of the values present and how they are distributed."
      ]
    },
    {
      "cell_type": "code",
      "metadata": {
        "id": "oDZsYkY6UUxQ"
      },
      "source": [
        "df['radiation'] = df['activity']"
      ],
      "execution_count": 17,
      "outputs": []
    },
    {
      "cell_type": "code",
      "metadata": {
        "id": "PBONkvl-AW4M"
      },
      "source": [
        "df['radiation'] = np.where(df['activity'] <=4 , \"low\" , df['radiation'])"
      ],
      "execution_count": 18,
      "outputs": []
    },
    {
      "cell_type": "code",
      "metadata": {
        "id": "k9zzL1CtAlja"
      },
      "source": [
        "#df['radiation']  = np.where((df['activity'] > 4) & (df['activity'] < 8), \"medium\" , df['radiation'])"
      ],
      "execution_count": 19,
      "outputs": []
    },
    {
      "cell_type": "code",
      "metadata": {
        "id": "qJUXgqMHCrgJ"
      },
      "source": [
        "df['radiation']  = np.where(df['activity'] > 4, \"high\" , df['radiation'])"
      ],
      "execution_count": 20,
      "outputs": []
    },
    {
      "cell_type": "code",
      "metadata": {
        "colab": {
          "base_uri": "https://localhost:8080/"
        },
        "id": "WXCAlL8uD6dd",
        "outputId": "87c4e6f0-512a-437d-8e87-ecc081b90cfa"
      },
      "source": [
        "df['radiation'].unique()"
      ],
      "execution_count": 21,
      "outputs": [
        {
          "output_type": "execute_result",
          "data": {
            "text/plain": [
              "array(['low', 'high'], dtype=object)"
            ]
          },
          "metadata": {
            "tags": []
          },
          "execution_count": 21
        }
      ]
    },
    {
      "cell_type": "code",
      "metadata": {
        "collapsed": true,
        "id": "BdVFZFMrCdz0"
      },
      "source": [
        "# Split the data into features and target label\n",
        "\n",
        "income_raw = df['radiation']\n",
        "\n",
        "features_raw = df.drop(['activity','radiation','county' , 'state', 'state2'], axis = 1)\n",
        "\n",
        "# Visualize skewed continuous features of original data\n",
        "#vs.distribution(data)"
      ],
      "execution_count": 22,
      "outputs": []
    },
    {
      "cell_type": "code",
      "metadata": {
        "colab": {
          "base_uri": "https://localhost:8080/",
          "height": 164
        },
        "id": "ifj-uNdS-R-9",
        "outputId": "0b719036-5941-4b2c-cd8e-b865a31fedd9"
      },
      "source": [
        "df.describe(include = np.object)"
      ],
      "execution_count": 23,
      "outputs": [
        {
          "output_type": "execute_result",
          "data": {
            "text/html": [
              "<div>\n",
              "<style scoped>\n",
              "    .dataframe tbody tr th:only-of-type {\n",
              "        vertical-align: middle;\n",
              "    }\n",
              "\n",
              "    .dataframe tbody tr th {\n",
              "        vertical-align: top;\n",
              "    }\n",
              "\n",
              "    .dataframe thead th {\n",
              "        text-align: right;\n",
              "    }\n",
              "</style>\n",
              "<table border=\"1\" class=\"dataframe\">\n",
              "  <thead>\n",
              "    <tr style=\"text-align: right;\">\n",
              "      <th></th>\n",
              "      <th>basement</th>\n",
              "      <th>county</th>\n",
              "      <th>state</th>\n",
              "      <th>state2</th>\n",
              "      <th>windoor</th>\n",
              "      <th>radiation</th>\n",
              "    </tr>\n",
              "  </thead>\n",
              "  <tbody>\n",
              "    <tr>\n",
              "      <th>count</th>\n",
              "      <td>12573</td>\n",
              "      <td>12573</td>\n",
              "      <td>12573</td>\n",
              "      <td>12573</td>\n",
              "      <td>12573</td>\n",
              "      <td>12573</td>\n",
              "    </tr>\n",
              "    <tr>\n",
              "      <th>unique</th>\n",
              "      <td>4</td>\n",
              "      <td>386</td>\n",
              "      <td>8</td>\n",
              "      <td>9</td>\n",
              "      <td>1</td>\n",
              "      <td>2</td>\n",
              "    </tr>\n",
              "    <tr>\n",
              "      <th>top</th>\n",
              "      <td>b'Y'</td>\n",
              "      <td>b'MARICOPA            '</td>\n",
              "      <td>b'PA'</td>\n",
              "      <td>b'PA'</td>\n",
              "      <td>b' '</td>\n",
              "      <td>low</td>\n",
              "    </tr>\n",
              "    <tr>\n",
              "      <th>freq</th>\n",
              "      <td>8469</td>\n",
              "      <td>765</td>\n",
              "      <td>2389</td>\n",
              "      <td>2389</td>\n",
              "      <td>12573</td>\n",
              "      <td>8793</td>\n",
              "    </tr>\n",
              "  </tbody>\n",
              "</table>\n",
              "</div>"
            ],
            "text/plain": [
              "       basement                   county  state state2 windoor radiation\n",
              "count     12573                    12573  12573  12573   12573     12573\n",
              "unique        4                      386      8      9       1         2\n",
              "top        b'Y'  b'MARICOPA            '  b'PA'  b'PA'    b' '       low\n",
              "freq       8469                      765   2389   2389   12573      8793"
            ]
          },
          "metadata": {
            "tags": []
          },
          "execution_count": 23
        }
      ]
    },
    {
      "cell_type": "markdown",
      "metadata": {
        "id": "WwAVv680Cdz1"
      },
      "source": [
        "For highly-skewed feature distributions such as `'capital-gain'` and `'capital-loss'`, it is common practice to apply a <a href=\"https://en.wikipedia.org/wiki/Data_transformation_(statistics)\">logarithmic transformation</a> on the data so that the very large and very small values do not negatively affect the performance of a learning algorithm. Using a logarithmic transformation significantly reduces the range of values caused by outliers. Care must be taken when applying this transformation however: The logarithm of `0` is undefined, so we must translate the values by a small amount above `0` to apply the the logarithm successfully.\n",
        "\n",
        "Run the code cell below to perform a transformation on the data and visualize the results. Again, note the range of values and how they are distributed. "
      ]
    },
    {
      "cell_type": "code",
      "metadata": {
        "id": "j9QbghfBEH-J"
      },
      "source": [
        "#features_raw.columns"
      ],
      "execution_count": 24,
      "outputs": []
    },
    {
      "cell_type": "markdown",
      "metadata": {
        "id": "ZySYOFIeCdz2"
      },
      "source": [
        "### Normalizing Numerical Features\n",
        "In addition to performing transformations on features that are highly skewed, it is often good practice to perform some type of scaling on numerical features. Applying a scaling to the data does not change the shape of each feature's distribution (such as `'capital-gain'` or `'capital-loss'` above); however, normalization ensures that each feature is treated equally when applying supervised learners. Note that once scaling is applied, observing the data in its raw form will no longer have the same original meaning, as exampled below.\n",
        "\n",
        "Run the code cell below to normalize each numerical feature. We will use [`sklearn.preprocessing.MinMaxScaler`](http://scikit-learn.org/stable/modules/generated/sklearn.preprocessing.MinMaxScaler.html) for this."
      ]
    },
    {
      "cell_type": "code",
      "metadata": {
        "collapsed": true,
        "colab": {
          "base_uri": "https://localhost:8080/",
          "height": 214
        },
        "id": "RzFAVEY0Cdz3",
        "outputId": "bd5e5ef5-6bf0-49fc-c9d0-cd20d69d8084"
      },
      "source": [
        "# Import sklearn.preprocessing.StandardScaler\n",
        "from sklearn.preprocessing import MinMaxScaler\n",
        "\n",
        "# Initialize a scaler, then apply it to the features\n",
        "scaler = MinMaxScaler() # default=(0, 1)\n",
        "numerical = [ 'Uppm', 'adjwt', 'cntyfips', 'dupflag', 'floor',\n",
        "       'idnum', 'lat', 'lon', 'pcterr', 'region', 'rep', 'room', 'startdt',\n",
        "       'starttm', 'stfips', 'stopdt', 'stoptm', 'stratum',\n",
        "       'typebldg', 'wave' , 'zip', 'zipflag']\n",
        "\n",
        "features_log_minmax_transform = pd.DataFrame(data = features_raw)\n",
        "features_log_minmax_transform[numerical] = scaler.fit_transform(features_raw[numerical])\n",
        "#features_log_minmax_transform = features_log_minmax_transform.drop(['stfips','state2'] , axis =1)\n",
        "\n",
        "# Show an example of a record with scaling applied\n",
        "display(features_log_minmax_transform.head(n = 5))"
      ],
      "execution_count": 25,
      "outputs": [
        {
          "output_type": "display_data",
          "data": {
            "text/html": [
              "<div>\n",
              "<style scoped>\n",
              "    .dataframe tbody tr th:only-of-type {\n",
              "        vertical-align: middle;\n",
              "    }\n",
              "\n",
              "    .dataframe tbody tr th {\n",
              "        vertical-align: top;\n",
              "    }\n",
              "\n",
              "    .dataframe thead th {\n",
              "        text-align: right;\n",
              "    }\n",
              "</style>\n",
              "<table border=\"1\" class=\"dataframe\">\n",
              "  <thead>\n",
              "    <tr style=\"text-align: right;\">\n",
              "      <th></th>\n",
              "      <th>Uppm</th>\n",
              "      <th>adjwt</th>\n",
              "      <th>basement</th>\n",
              "      <th>cntyfips</th>\n",
              "      <th>dupflag</th>\n",
              "      <th>floor</th>\n",
              "      <th>idnum</th>\n",
              "      <th>lat</th>\n",
              "      <th>lon</th>\n",
              "      <th>pcterr</th>\n",
              "      <th>region</th>\n",
              "      <th>rep</th>\n",
              "      <th>room</th>\n",
              "      <th>startdt</th>\n",
              "      <th>starttm</th>\n",
              "      <th>stfips</th>\n",
              "      <th>stopdt</th>\n",
              "      <th>stoptm</th>\n",
              "      <th>stratum</th>\n",
              "      <th>typebldg</th>\n",
              "      <th>wave</th>\n",
              "      <th>windoor</th>\n",
              "      <th>zip</th>\n",
              "      <th>zipflag</th>\n",
              "    </tr>\n",
              "  </thead>\n",
              "  <tbody>\n",
              "    <tr>\n",
              "      <th>0</th>\n",
              "      <td>0.662995</td>\n",
              "      <td>0.122800</td>\n",
              "      <td>b'N'</td>\n",
              "      <td>0.003929</td>\n",
              "      <td>0.0</td>\n",
              "      <td>0.111111</td>\n",
              "      <td>0.131497</td>\n",
              "      <td>0.553242</td>\n",
              "      <td>0.661277</td>\n",
              "      <td>0.025897</td>\n",
              "      <td>0.1</td>\n",
              "      <td>0.666667</td>\n",
              "      <td>0.285714</td>\n",
              "      <td>0.011513</td>\n",
              "      <td>0.945316</td>\n",
              "      <td>0.274510</td>\n",
              "      <td>0.013283</td>\n",
              "      <td>0.947435</td>\n",
              "      <td>0.035714</td>\n",
              "      <td>0.2</td>\n",
              "      <td>0.659574</td>\n",
              "      <td>b' '</td>\n",
              "      <td>0.541375</td>\n",
              "      <td>0.0</td>\n",
              "    </tr>\n",
              "    <tr>\n",
              "      <th>1</th>\n",
              "      <td>0.707507</td>\n",
              "      <td>0.153587</td>\n",
              "      <td>b'N'</td>\n",
              "      <td>0.047151</td>\n",
              "      <td>0.0</td>\n",
              "      <td>0.111111</td>\n",
              "      <td>0.113964</td>\n",
              "      <td>0.177801</td>\n",
              "      <td>0.032614</td>\n",
              "      <td>0.000000</td>\n",
              "      <td>0.1</td>\n",
              "      <td>1.000000</td>\n",
              "      <td>0.285714</td>\n",
              "      <td>0.110619</td>\n",
              "      <td>0.353116</td>\n",
              "      <td>0.000000</td>\n",
              "      <td>0.112389</td>\n",
              "      <td>0.428148</td>\n",
              "      <td>0.035714</td>\n",
              "      <td>0.2</td>\n",
              "      <td>0.404255</td>\n",
              "      <td>b' '</td>\n",
              "      <td>0.997838</td>\n",
              "      <td>0.0</td>\n",
              "    </tr>\n",
              "    <tr>\n",
              "      <th>2</th>\n",
              "      <td>0.645964</td>\n",
              "      <td>0.264311</td>\n",
              "      <td>b'Y'</td>\n",
              "      <td>0.031434</td>\n",
              "      <td>0.0</td>\n",
              "      <td>0.000000</td>\n",
              "      <td>0.330542</td>\n",
              "      <td>0.633871</td>\n",
              "      <td>0.974041</td>\n",
              "      <td>0.019780</td>\n",
              "      <td>0.5</td>\n",
              "      <td>0.333333</td>\n",
              "      <td>0.285714</td>\n",
              "      <td>0.195575</td>\n",
              "      <td>0.423908</td>\n",
              "      <td>0.411765</td>\n",
              "      <td>0.197345</td>\n",
              "      <td>0.423908</td>\n",
              "      <td>0.000000</td>\n",
              "      <td>0.2</td>\n",
              "      <td>0.170213</td>\n",
              "      <td>b' '</td>\n",
              "      <td>0.020563</td>\n",
              "      <td>0.0</td>\n",
              "    </tr>\n",
              "    <tr>\n",
              "      <th>3</th>\n",
              "      <td>0.645964</td>\n",
              "      <td>0.240629</td>\n",
              "      <td>b'N'</td>\n",
              "      <td>0.031434</td>\n",
              "      <td>0.0</td>\n",
              "      <td>0.111111</td>\n",
              "      <td>0.320366</td>\n",
              "      <td>0.633871</td>\n",
              "      <td>0.974041</td>\n",
              "      <td>0.056281</td>\n",
              "      <td>0.5</td>\n",
              "      <td>0.666667</td>\n",
              "      <td>0.428571</td>\n",
              "      <td>0.197345</td>\n",
              "      <td>0.296736</td>\n",
              "      <td>0.411765</td>\n",
              "      <td>0.199115</td>\n",
              "      <td>0.508690</td>\n",
              "      <td>0.000000</td>\n",
              "      <td>0.2</td>\n",
              "      <td>0.446809</td>\n",
              "      <td>b' '</td>\n",
              "      <td>0.016564</td>\n",
              "      <td>0.0</td>\n",
              "    </tr>\n",
              "    <tr>\n",
              "      <th>4</th>\n",
              "      <td>0.559606</td>\n",
              "      <td>0.179761</td>\n",
              "      <td>b'Y'</td>\n",
              "      <td>0.184676</td>\n",
              "      <td>0.0</td>\n",
              "      <td>0.000000</td>\n",
              "      <td>0.536005</td>\n",
              "      <td>0.432761</td>\n",
              "      <td>0.449031</td>\n",
              "      <td>0.047920</td>\n",
              "      <td>0.0</td>\n",
              "      <td>0.666667</td>\n",
              "      <td>0.571429</td>\n",
              "      <td>0.195575</td>\n",
              "      <td>0.256465</td>\n",
              "      <td>0.490196</td>\n",
              "      <td>0.197345</td>\n",
              "      <td>0.258584</td>\n",
              "      <td>0.035714</td>\n",
              "      <td>0.2</td>\n",
              "      <td>0.652482</td>\n",
              "      <td>b' '</td>\n",
              "      <td>0.741334</td>\n",
              "      <td>0.0</td>\n",
              "    </tr>\n",
              "  </tbody>\n",
              "</table>\n",
              "</div>"
            ],
            "text/plain": [
              "       Uppm     adjwt basement  cntyfips  ...      wave  windoor       zip  zipflag\n",
              "0  0.662995  0.122800     b'N'  0.003929  ...  0.659574     b' '  0.541375      0.0\n",
              "1  0.707507  0.153587     b'N'  0.047151  ...  0.404255     b' '  0.997838      0.0\n",
              "2  0.645964  0.264311     b'Y'  0.031434  ...  0.170213     b' '  0.020563      0.0\n",
              "3  0.645964  0.240629     b'N'  0.031434  ...  0.446809     b' '  0.016564      0.0\n",
              "4  0.559606  0.179761     b'Y'  0.184676  ...  0.652482     b' '  0.741334      0.0\n",
              "\n",
              "[5 rows x 24 columns]"
            ]
          },
          "metadata": {
            "tags": []
          }
        }
      ]
    },
    {
      "cell_type": "code",
      "metadata": {
        "colab": {
          "base_uri": "https://localhost:8080/",
          "height": 106
        },
        "id": "1ghbjq30K60l",
        "outputId": "0c57e053-c8b7-4c62-e75a-45c494e645fa"
      },
      "source": [
        "features_log_minmax_transform.describe(include=np.object).transpose()"
      ],
      "execution_count": 26,
      "outputs": [
        {
          "output_type": "execute_result",
          "data": {
            "text/html": [
              "<div>\n",
              "<style scoped>\n",
              "    .dataframe tbody tr th:only-of-type {\n",
              "        vertical-align: middle;\n",
              "    }\n",
              "\n",
              "    .dataframe tbody tr th {\n",
              "        vertical-align: top;\n",
              "    }\n",
              "\n",
              "    .dataframe thead th {\n",
              "        text-align: right;\n",
              "    }\n",
              "</style>\n",
              "<table border=\"1\" class=\"dataframe\">\n",
              "  <thead>\n",
              "    <tr style=\"text-align: right;\">\n",
              "      <th></th>\n",
              "      <th>count</th>\n",
              "      <th>unique</th>\n",
              "      <th>top</th>\n",
              "      <th>freq</th>\n",
              "    </tr>\n",
              "  </thead>\n",
              "  <tbody>\n",
              "    <tr>\n",
              "      <th>basement</th>\n",
              "      <td>12573</td>\n",
              "      <td>4</td>\n",
              "      <td>b'Y'</td>\n",
              "      <td>8469</td>\n",
              "    </tr>\n",
              "    <tr>\n",
              "      <th>windoor</th>\n",
              "      <td>12573</td>\n",
              "      <td>1</td>\n",
              "      <td>b' '</td>\n",
              "      <td>12573</td>\n",
              "    </tr>\n",
              "  </tbody>\n",
              "</table>\n",
              "</div>"
            ],
            "text/plain": [
              "          count unique   top   freq\n",
              "basement  12573      4  b'Y'   8469\n",
              "windoor   12573      1  b' '  12573"
            ]
          },
          "metadata": {
            "tags": []
          },
          "execution_count": 26
        }
      ]
    },
    {
      "cell_type": "markdown",
      "metadata": {
        "id": "fgYkcsXlCdz3"
      },
      "source": [
        "### Implementation: Data Preprocessing\n",
        "\n",
        "From the table in **Exploring the Data** above, we can see there are several features for each record that are non-numeric. Typically, learning algorithms expect input to be numeric, which requires that non-numeric features (called *categorical variables*) be converted. One popular way to convert categorical variables is by using the **one-hot encoding** scheme. One-hot encoding creates a _\"dummy\"_ variable for each possible category of each non-numeric feature. For example, assume `someFeature` has three possible entries: `A`, `B`, or `C`. We then encode this feature into `someFeature_A`, `someFeature_B` and `someFeature_C`.\n",
        "\n",
        "|   | someFeature |                    | someFeature_A | someFeature_B | someFeature_C |\n",
        "| :-: | :-: |                            | :-: | :-: | :-: |\n",
        "| 0 |  B  |  | 0 | 1 | 0 |\n",
        "| 1 |  C  | ----> one-hot encode ----> | 0 | 0 | 1 |\n",
        "| 2 |  A  |  | 1 | 0 | 0 |\n",
        "\n",
        "Additionally, as with the non-numeric features, we need to convert the non-numeric target label, `'income'` to numerical values for the learning algorithm to work. Since there are only two possible categories for this label (\"<=50K\" and \">50K\"), we can avoid using one-hot encoding and simply encode these two categories as `0` and `1`, respectively. In code cell below, you will need to implement the following:\n",
        " - Use [`pandas.get_dummies()`](http://pandas.pydata.org/pandas-docs/stable/generated/pandas.get_dummies.html?highlight=get_dummies#pandas.get_dummies) to perform one-hot encoding on the `'features_log_minmax_transform'` data.\n",
        " - Convert the target label `'income_raw'` to numerical entries.\n",
        "   - Set records with \"<=50K\" to `0` and records with \">50K\" to `1`."
      ]
    },
    {
      "cell_type": "code",
      "metadata": {
        "collapsed": true,
        "scrolled": true,
        "colab": {
          "base_uri": "https://localhost:8080/"
        },
        "id": "FZRGp53vCdz4",
        "outputId": "6c6f95cf-3c57-4b50-fefa-88a3a0d7f407"
      },
      "source": [
        "# import preprocessing from sklearn\n",
        "from sklearn import preprocessing\n",
        "\n",
        "\n",
        "# TODO: One-hot encode the 'features_log_minmax_transform' data using pandas.get_dummies()\n",
        "features_log_minmax_transform = features_log_minmax_transform#.drop('Description', axis = 1)\n",
        "features_final = pd.get_dummies(data= features_log_minmax_transform)\n",
        "\n",
        "# TODO: Encode the 'income_raw' data to numerical values\n",
        "#income = pd.get_dummies(data=)\n",
        "multi_label = preprocessing.LabelEncoder()\n",
        "multi_label = multi_label.fit(income_raw)\n",
        "income = multi_label.transform(income_raw)\n",
        "\n",
        "# Print the number of features after one-hot encoding\n",
        "encoded = list(features_final.columns)\n",
        "print(\"{} total features after one-hot encoding.\".format(len(encoded)))\n",
        "\n",
        "# Uncomment the following line to see the encoded feature names\n",
        "#print(encoded)\n"
      ],
      "execution_count": 27,
      "outputs": [
        {
          "output_type": "stream",
          "text": [
            "27 total features after one-hot encoding.\n"
          ],
          "name": "stdout"
        }
      ]
    },
    {
      "cell_type": "code",
      "metadata": {
        "id": "yMcUJ5oljnP3"
      },
      "source": [
        "#print(encoded)"
      ],
      "execution_count": 28,
      "outputs": []
    },
    {
      "cell_type": "code",
      "metadata": {
        "id": "NwEur48SRsRc"
      },
      "source": [
        "#features_final.head(2)"
      ],
      "execution_count": 29,
      "outputs": []
    },
    {
      "cell_type": "markdown",
      "metadata": {
        "id": "DBqoYRhLCdz5"
      },
      "source": [
        "### Shuffle and Split Data\n",
        "Now all _categorical variables_ have been converted into numerical features, and all numerical features have been normalized. As always, we will now split the data (both features and their labels) into training and test sets. 80% of the data will be used for training and 20% for testing.\n",
        "\n",
        "Run the code cell below to perform this split."
      ]
    },
    {
      "cell_type": "code",
      "metadata": {
        "collapsed": true,
        "colab": {
          "base_uri": "https://localhost:8080/"
        },
        "id": "C4duiWVQCdz5",
        "outputId": "05f80783-b1cd-44c3-c9b3-06a52d345656"
      },
      "source": [
        "# Import train_test_split\n",
        "from sklearn.model_selection import train_test_split\n",
        "\n",
        "# Split the 'features' and 'income' data into training and testing sets\n",
        "X_train, X_test, y_train, y_test = train_test_split(features_final, \n",
        "                                                    income, \n",
        "                                                    test_size = 0.4, \n",
        "                                                    random_state = 0)\n",
        "\n",
        "# Show the results of the split\n",
        "print(\"Training set has {} samples.\".format(X_train.shape[0]))\n",
        "print(\"Testing set has {} samples.\".format(X_test.shape[0]))"
      ],
      "execution_count": 30,
      "outputs": [
        {
          "output_type": "stream",
          "text": [
            "Training set has 7543 samples.\n",
            "Testing set has 5030 samples.\n"
          ],
          "name": "stdout"
        }
      ]
    },
    {
      "cell_type": "code",
      "metadata": {
        "colab": {
          "base_uri": "https://localhost:8080/"
        },
        "id": "9mlT24qLNlYk",
        "outputId": "5db59903-0d03-4a5d-a933-856908206ed9"
      },
      "source": [
        "X_train.shape , y_train.shape"
      ],
      "execution_count": 31,
      "outputs": [
        {
          "output_type": "execute_result",
          "data": {
            "text/plain": [
              "((7543, 27), (7543,))"
            ]
          },
          "metadata": {
            "tags": []
          },
          "execution_count": 31
        }
      ]
    },
    {
      "cell_type": "code",
      "metadata": {
        "id": "RfQ198D_oJLL"
      },
      "source": [
        "labeling = y_train"
      ],
      "execution_count": 32,
      "outputs": []
    },
    {
      "cell_type": "code",
      "metadata": {
        "colab": {
          "base_uri": "https://localhost:8080/"
        },
        "id": "7zrL57Dgp3sm",
        "outputId": "b0960dff-bee4-4f65-9bcd-89dbcccc40b3"
      },
      "source": [
        "labeling[:20]"
      ],
      "execution_count": 33,
      "outputs": [
        {
          "output_type": "execute_result",
          "data": {
            "text/plain": [
              "array([0, 1, 1, 0, 0, 1, 1, 0, 0, 1, 1, 1, 1, 1, 1, 1, 1, 1, 1, 1])"
            ]
          },
          "metadata": {
            "tags": []
          },
          "execution_count": 33
        }
      ]
    },
    {
      "cell_type": "markdown",
      "metadata": {
        "id": "8MwaQ1e3k-ti"
      },
      "source": [
        "# BASE LINE MODEL"
      ]
    },
    {
      "cell_type": "code",
      "metadata": {
        "colab": {
          "base_uri": "https://localhost:8080/"
        },
        "id": "yG5gSgeIkw0W",
        "outputId": "c4d8f7ab-4284-423d-9477-ed8ba3af029a"
      },
      "source": [
        "\r\n",
        "TP = np.sum(income) # Counting the ones as this is the naive case. Note that 'income' is the 'income_raw' data \r\n",
        "#encoded to numerical values done in the data preprocessing step.\r\n",
        "FP = len(income) - TP # Specific to the naive case\r\n",
        "\r\n",
        "TN = 0 # No predicted negatives in the naive case\r\n",
        "FN = 0 # No predicted negatives in the naive case\r\n",
        "\r\n",
        "print(\"TP {} , FP {} , TN 0 , TN 0\".format(TP , FP))\r\n",
        "\r\n",
        "# TODO: Calculate accuracy, precision and recall\r\n",
        "accuracy = TP + TN / (TP + TN + FP + FN)\r\n",
        "recall = TP /(TP + FN)\r\n",
        "precision =TP /(TP + FP) \r\n",
        "\r\n",
        "# TODO: Calculate F-score using the formula above for beta = 0.5 and correct values for precision and recall.\r\n",
        "fscore =(1+np.square(0.5)) * precision * recall/((np.square(0.5)*precision)+recall)\r\n",
        "\r\n",
        "# Print the results \r\n",
        "print(\"Naive Predictor: [Accuracy score: {}, F-score: {}]\".format(accuracy, fscore))"
      ],
      "execution_count": 34,
      "outputs": [
        {
          "output_type": "stream",
          "text": [
            "TP 8793 , FP 3780 , TN 0 , TN 0\n",
            "Naive Predictor: [Accuracy score: 8793.0, F-score: 0.7440974866717441]\n"
          ],
          "name": "stdout"
        }
      ]
    },
    {
      "cell_type": "markdown",
      "metadata": {
        "id": "vhQf27tulCoU"
      },
      "source": [
        "# VARIOUS MACHINE LEARNING CLASSIFIERS"
      ]
    },
    {
      "cell_type": "code",
      "metadata": {
        "id": "1ZaEekfylOW8"
      },
      "source": [
        "# TODO: Import two metrics from sklearn - fbeta_score and accuracy_score\r\n",
        "from sklearn.metrics import fbeta_score\r\n",
        "from sklearn.metrics import accuracy_score\r\n",
        "from sklearn.pipeline import Pipeline\r\n",
        "from sklearn.metrics import classification_report\r\n",
        "from sklearn.decomposition import PCA\r\n",
        "\r\n",
        "def train_predict(learner, sample_size, X_train, y_train, X_test, y_test): \r\n",
        "    '''\r\n",
        "    inputs:\r\n",
        "       - learner: the learning algorithm to be trained and predicted on\r\n",
        "       - sample_size: the size of samples (number) to be drawn from training set\r\n",
        "       - X_train: features training set\r\n",
        "       - y_train: income training set\r\n",
        "       - X_test: features testing set\r\n",
        "       - y_test: income testing set\r\n",
        "    '''\r\n",
        "    \r\n",
        "    results = {}\r\n",
        "    \r\n",
        "    # TODO: Fit the learner to the training data using slicing with 'sample_size' using .fit(training_features[:], training_labels[:])\r\n",
        "    start = time() # Get start time\r\n",
        "    #pipe = Pipeline([('pca', PCA(n_components=20)),\r\n",
        "    #                ('clf', learner)])\r\n",
        "\r\n",
        "    learner = learner.fit(X_train[:sample_size], y_train[:sample_size])\r\n",
        "\r\n",
        "    end = time() # Get end time\r\n",
        "    \r\n",
        "    # TODO: Calculate the training time\r\n",
        "    results['train_time'] = end - start\r\n",
        "        \r\n",
        "    # TODO: Get the predictions on the test set(X_test),\r\n",
        "    #       then get predictions on the first 300 training samples(X_train) using .predict()\r\n",
        "    start = time() # Get start time\r\n",
        "    predictions_test = learner.predict(X_test)\r\n",
        "    predictions_train = learner.predict(X_train[:300])\r\n",
        "    results['predictions_train'] = predictions_train\r\n",
        "    end = time() # Get end time\r\n",
        "    \r\n",
        "    # TODO: Calculate the total prediction time\r\n",
        "    results['pred_time'] = end - start\r\n",
        "            \r\n",
        "    # TODO: Compute accuracy on the first 300 training samples which is y_train[:300]\r\n",
        "    results['acc_train'] = accuracy_score(predictions_train, y_train[:300])\r\n",
        "        \r\n",
        "    # TODO: Compute accuracy on test set using accuracy_score()\r\n",
        "    results['acc_test'] =  accuracy_score(predictions_test, y_test)\r\n",
        "    \r\n",
        "    # TODO: Compute F-score on the the first 300 training samples using fbeta_score()\r\n",
        "    results['f_train'] = fbeta_score(y_train[:300], predictions_train,pos_label=1,average='binary',beta=0.5)\r\n",
        "        \r\n",
        "    # TODO: Compute F-score on the test set which is y_test\r\n",
        "    results['f_test'] = fbeta_score(y_test,predictions_test,pos_label=1,average='binary' ,beta=0.5)\r\n",
        "       \r\n",
        "    # Success\r\n",
        "    print(\"{} trained on {} samples.\".format(learner.__class__.__name__, sample_size))\r\n",
        "        \r\n",
        "    # Return the results\r\n",
        "    return results"
      ],
      "execution_count": 37,
      "outputs": []
    },
    {
      "cell_type": "markdown",
      "metadata": {
        "id": "MiFd9EVklXbA"
      },
      "source": [
        "#TRAINING OF THE CLASSIFIERS"
      ]
    },
    {
      "cell_type": "code",
      "metadata": {
        "colab": {
          "base_uri": "https://localhost:8080/",
          "height": 1000
        },
        "id": "LHSfac31lWOG",
        "outputId": "225f6f3b-f553-4c84-b0de-13c6244d0733"
      },
      "source": [
        "# TODO: Import the three supervised learning models from sklearn\r\n",
        "\r\n",
        "from sklearn.model_selection import GridSearchCV\r\n",
        "\r\n",
        "from sklearn.metrics import make_scorer\r\n",
        "from sklearn.metrics import fbeta_score\r\n",
        "from sklearn.ensemble import GradientBoostingClassifier \r\n",
        "from sklearn.ensemble import AdaBoostClassifier \r\n",
        "from sklearn.ensemble import RandomForestClassifier\r\n",
        "\r\n",
        "\r\n",
        "\r\n",
        "# TODO: Initialize the three models\r\n",
        "clf_A = GradientBoostingClassifier(random_state=42 , n_estimators=300,max_depth=3 , learning_rate=0.1)\r\n",
        "clf_B = RandomForestClassifier(n_estimators=100 , max_depth=5)\r\n",
        "clf_C = AdaBoostClassifier(n_estimators=60, learning_rate = 1.0)\r\n",
        "\r\n",
        "\r\n",
        "# TODO: Calculate the number of samples for 1%, 10%, and 100% of the training data\r\n",
        "# HINT: samples_100 is the entire training set i.e. len(y_train)\r\n",
        "# HINT: samples_10 is 10% of samples_100 (ensure to set the count of the values to be `int` and not `float`)\r\n",
        "# HINT: samples_1 is 1% of samples_100 (ensure to set the count of the values to be `int` and not `float`)\r\n",
        "\r\n",
        "\r\n",
        "\r\n",
        "samples_100 = len(y_train)\r\n",
        "samples_10 = int(0.1 * samples_100)\r\n",
        "samples_1 =  int(0.01 * samples_100)\r\n",
        "\r\n",
        "# Collect results on the learners\r\n",
        "results = {}\r\n",
        "for clf in [clf_A, clf_B, clf_C]:\r\n",
        "    clf_name = clf.__class__.__name__\r\n",
        "    results[clf_name] = {}\r\n",
        "    for i, samples in enumerate([samples_1, samples_10, samples_100]):\r\n",
        "        results[clf_name][i] = train_predict(clf, samples, X_train, y_train, X_test, y_test)\r\n",
        "\r\n",
        "# Run metrics visualization for the three supervised learning models chosen\r\n",
        "\r\n",
        "vs.evaluate(results, accuracy, fscore)"
      ],
      "execution_count": 41,
      "outputs": [
        {
          "output_type": "stream",
          "text": [
            "GradientBoostingClassifier trained on 75 samples.\n",
            "GradientBoostingClassifier trained on 754 samples.\n",
            "GradientBoostingClassifier trained on 7543 samples.\n",
            "RandomForestClassifier trained on 75 samples.\n",
            "RandomForestClassifier trained on 754 samples.\n",
            "RandomForestClassifier trained on 7543 samples.\n",
            "AdaBoostClassifier trained on 75 samples.\n",
            "AdaBoostClassifier trained on 754 samples.\n",
            "AdaBoostClassifier trained on 7543 samples.\n"
          ],
          "name": "stdout"
        },
        {
          "output_type": "stream",
          "text": [
            "/content/visuals.py:121: UserWarning: Tight layout not applied. tight_layout cannot make axes width small enough to accommodate all axes decorations\n",
            "  pl.tight_layout()\n"
          ],
          "name": "stderr"
        },
        {
          "output_type": "display_data",
          "data": {
            "image/png": "[encoded data removed]",
            "text/plain": [
              "<Figure size 1440x1080 with 6 Axes>"
            ]
          },
          "metadata": {
            "tags": []
          }
        }
      ]
    },
    {
      "cell_type": "markdown",
      "metadata": {
        "id": "Zu-YVBzqodkd"
      },
      "source": [
        "# HYPERPARAMETER SEARCH FOR A ALGO"
      ]
    },
    {
      "cell_type": "code",
      "metadata": {
        "id": "53CywDDPooEa"
      },
      "source": [
        "# TODO: Import 'GridSearchCV', 'make_scorer', and any other necessary libraries\r\n",
        "from sklearn.ensemble import GradientBoostingClassifier\r\n",
        "from sklearn.metrics import make_scorer\r\n",
        "from sklearn.metrics import f1_score\r\n",
        "from sklearn.model_selection import GridSearchCV\r\n",
        "from sklearn.naive_bayes import GaussianNB\r\n",
        "\r\n",
        "# TODO: Initialize the classifier\r\n",
        "clf = GradientBoostingClassifier( random_state=42,learning_rate=0.1)\r\n",
        "\r\n",
        "# TODO: Create the parameters list you wish to tune, using a dictionary if needed.\r\n",
        "# HINT: parameters = {'n_': [value1, value2], 'parameter_2': [value1, value2]}\r\n",
        "parameters = {'n_estimators' :[400, 300] , 'max_depth':[3,5] }\r\n",
        "\r\n",
        "# TODO: Make an fbeta_score scoring object using make_scorer()\r\n",
        "scorer = make_scorer(fbeta_score, average = 'binary' , pos_label =1, beta =0.5)\r\n",
        "\r\n",
        "# TODO: Perform grid search on the classifier using 'scorer' as the scoring method using GridSearchCV()\r\n",
        "grid_obj = GridSearchCV(clf, parameters, scorer)\r\n",
        "\r\n",
        "# TODO: Fit the grid search object to the training data and find the optimal parameters using fit()\r\n",
        "grid_fit = grid_obj.fit(X_train , y_train)\r\n",
        "\r\n",
        "# Get the estimator\r\n",
        "best_clf = grid_fit.best_estimator_\r\n",
        "\r\n",
        "# Make predictions using the unoptimized and model\r\n",
        "predictions = (clf.fit(X_train, y_train)).predict(X_test)\r\n",
        "best_predictions = best_clf.predict(X_test)\r\n",
        "\r\n"
      ],
      "execution_count": 82,
      "outputs": []
    },
    {
      "cell_type": "markdown",
      "metadata": {
        "id": "iSUqlHrBovkQ"
      },
      "source": [
        "#  Evaluation of test data :"
      ]
    },
    {
      "cell_type": "code",
      "metadata": {
        "colab": {
          "base_uri": "https://localhost:8080/"
        },
        "id": "F5Q9uIiVox8n",
        "outputId": "b798cf68-4617-4a07-f317-2dc776507246"
      },
      "source": [
        "# Report the before-and-afterscores\r\n",
        "print(\"Unoptimized model\\n------\")\r\n",
        "print(\"Accuracy score on testing data: {:.4f}\".format(accuracy_score(y_test, predictions)))\r\n",
        "print(\"F-score on testing data: {:.4f}\".format(f1_score(y_test, predictions,average='binary', pos_label=1)))\r\n",
        "print(\"\\nOptimized Model\\n------\")\r\n",
        "print(\"Final accuracy score on the testing data: {:.4f}\".format(accuracy_score(y_test, best_predictions)))\r\n",
        "print(\"Final F-score on the testing data: {:.4f}\".format(f1_score(y_test, best_predictions,average='binary', pos_label =1)))"
      ],
      "execution_count": 83,
      "outputs": [
        {
          "output_type": "stream",
          "text": [
            "Unoptimized model\n",
            "------\n",
            "Accuracy score on testing data: 0.9274\n",
            "F-score on testing data: 0.9485\n",
            "\n",
            "Optimized Model\n",
            "------\n",
            "Final accuracy score on the testing data: 0.9292\n",
            "Final F-score on the testing data: 0.9498\n"
          ],
          "name": "stdout"
        }
      ]
    },
    {
      "cell_type": "markdown",
      "metadata": {
        "id": "AmRZgYB-IMAm"
      },
      "source": [
        "# CLASSIFICATION REPORT"
      ]
    },
    {
      "cell_type": "code",
      "metadata": {
        "id": "nngax0AnHkLG"
      },
      "source": [
        "from sklearn.metrics import classification_report\r\n",
        "from sklearn.metrics import plot_confusion_matrix\r\n",
        "from sklearn.metrics import plot_roc_curve\r\n",
        "from sklearn.metrics import plot_precision_recall_curve\r\n",
        "\r\n",
        "clf_report = classification_report(y_test,\r\n",
        "                                   best_predictions,\r\n",
        "                                   target_names=['high' , 'low'],\r\n",
        "                                   output_dict=True)\r\n",
        "\r\n",
        "# .iloc[:-1, :] to exclude support\r\n",
        "#sns.heatmap(pd.DataFrame(clf_report).iloc[:-1, :].T, annot=True, linewidths=0.5, ax)\r\n",
        "\r\n",
        "#print(classification_report(y_test, best_predictions, target_names=['high radiation' , 'low radiation']))"
      ],
      "execution_count": 84,
      "outputs": []
    },
    {
      "cell_type": "markdown",
      "metadata": {
        "id": "C1GAtHxFxSME"
      },
      "source": [
        ""
      ]
    },
    {
      "cell_type": "markdown",
      "metadata": {
        "id": "xwY_Wp6Cq62V"
      },
      "source": [
        "# EXTRACTING  THE FEATURE IMPORTANCE:"
      ]
    },
    {
      "cell_type": "code",
      "metadata": {
        "id": "JmIzYgVFuCK5"
      },
      "source": [
        "def plot_feature_importance(best_clf , features_final):\r\n",
        "    importances  = best_clf.feature_importances_*100\r\n",
        "    sort_index =  np.argsort(importances)[::-1]\r\n",
        "    x = range(len(importances))\r\n",
        "  \r\n",
        "    labels = (features_final.columns)[sort_index]    \r\n",
        "    return importances , sort_index , x , labels\r\n"
      ],
      "execution_count": 85,
      "outputs": []
    },
    {
      "cell_type": "code",
      "metadata": {
        "id": "X2_iZNJsu-qX"
      },
      "source": [
        "importances , sort_index , x , labels = plot_feature_importance(best_clf , features_final)"
      ],
      "execution_count": 86,
      "outputs": []
    },
    {
      "cell_type": "markdown",
      "metadata": {
        "id": "k4OIGUqDxKXE"
      },
      "source": [
        "# PLOTTING THE SOME METRICS\r\n",
        "- ROC\r\n",
        "- CONFIUSION MATRIX\r\n",
        "- CLASSIFICATION REPORT\r\n",
        "-FEATURE IMPORTANCES"
      ]
    },
    {
      "cell_type": "code",
      "metadata": {
        "colab": {
          "base_uri": "https://localhost:8080/",
          "height": 971
        },
        "id": "2FgzYdjXt1Ak",
        "outputId": "5a5b4f69-8fa3-42d5-ceb3-94e6b9386ab6"
      },
      "source": [
        "\r\n",
        "\r\n",
        "\r\n",
        "fig, axs = plt.subplots(2, 2, figsize =(15,15))\r\n",
        "# .iloc[:-1, :] to exclude support\r\n",
        "sns.heatmap(pd.DataFrame(clf_report).iloc[:-1, :].T, annot=True, linewidths=0.5, ax=axs[0, 0] )\r\n",
        "plot_roc_curve(best_clf , X_test, y_test, ax= axs[0,1])\r\n",
        "plot_confusion_matrix(best_clf, X_test, y_test , normalize='true' , ax= axs[1,0]) \r\n",
        "axs[1,1].bar(x , importances[sort_index] , tick_label = labels )\r\n",
        "plt.xticks(rotation =90) \r\n",
        "\r\n",
        "axs[0, 0].set_title('CLASSIFICATION REPORT')\r\n",
        "\r\n",
        "axs[0, 1].set_title('ROC CURVE')\r\n",
        "\r\n",
        "axs[1, 0].set_title('CONFUSION MATRIX')\r\n",
        "\r\n",
        "axs[1, 1].set_title('FEATURE IMPORTANCE OF THE CLASSIFIER')\r\n",
        "\r\n",
        "\r\n",
        "\r\n",
        "\r\n"
      ],
      "execution_count": 87,
      "outputs": [
        {
          "output_type": "execute_result",
          "data": {
            "text/plain": [
              "Text(0.5, 1.0, 'FEATURE IMPORTANCE OF THE CLASSIFIER')"
            ]
          },
          "metadata": {
            "tags": []
          },
          "execution_count": 87
        },
        {
          "output_type": "display_data",
          "data": {
            "image/png": "[encoded data removed]",
            "text/plain": [
              "<Figure size 1080x1080 with 6 Axes>"
            ]
          },
          "metadata": {
            "tags": []
          }
        }
      ]
    },
    {
      "cell_type": "markdown",
      "metadata": {
        "id": "__nEUNi57Uyt"
      },
      "source": [
        "# FEATURE IMPORTANCE OF THE THE CLASSIFIER"
      ]
    },
    {
      "cell_type": "code",
      "metadata": {
        "id": "7G8tZkE21_wC"
      },
      "source": [
        "importances  = best_clf.feature_importances_*100\r\n",
        "sort_index =  np.argsort(importances)[::-1]\r\n",
        "x = range(len(importances))\r\n",
        "plt.figure(figsize=(10,10))\r\n",
        "labels = (features_final.columns)[sort_index]\r\n",
        "plt.bar(x , importances[sort_index] , tick_label = labels )\r\n",
        "plt.xticks(rotation =90)\r\n",
        "plt.show()"
      ],
      "execution_count": null,
      "outputs": []
    },
    {
      "cell_type": "markdown",
      "metadata": {
        "id": "KUHKJ9TcIjW4"
      },
      "source": [
        "# PCA AND TNSE IMPLEMENTATION"
      ]
    },
    {
      "cell_type": "code",
      "metadata": {
        "id": "R4-i-jdb5mU4"
      },
      "source": [
        "\r\n",
        "\r\n",
        "import pandas as pd\r\n",
        "import plotly.express as px\r\n",
        "from sklearn.decomposition import PCA\r\n",
        "from sklearn.manifold import TSNE\r\n",
        "import seaborn as sns\r\n",
        "\r\n",
        "def tnse_pipeline(X_train , pca_componts =2 , tnse_components= 2 , perplex = 50.0):\r\n",
        "\r\n",
        "      pca = PCA(n_components= pca_componts)#pca_componts)\r\n",
        "      components = pca.fit_transform(X_train)\r\n",
        "\r\n",
        "      total_var = pca.explained_variance_ratio_.sum() * 100\r\n",
        "      print(\"total amamout of variation : {}\".format(total_var))\r\n",
        "\r\n",
        "      labels = {str(i): f\"PC {i+1} ({var:.1f}%)\" for i, var in enumerate(pca.explained_variance_ratio_ * 100)}\r\n",
        "\r\n",
        "      # The default of 1,000 iterations gives fine results, but I'm training for longer just \r\n",
        "      # out some marginal improvements. NB: This takes almost an hour!\r\n",
        "\r\n",
        "      tsne = TSNE(random_state=1, n_iter=6000, metric=\"cosine\", n_components= tnse_components , perplexity= perplex)\r\n",
        "      embs = tsne.fit_transform(X_train)\r\n",
        "      tsne_data = np.vstack((embs.T, labeling)).T\r\n",
        "      tsne_df = pd.DataFrame(data=tsne_data, columns=('Dim_1', 'Dim_2', 'label'))\r\n",
        "      # Ploting the result of tsne\r\n",
        "      sns.FacetGrid(tsne_df, hue='label', height=10).map(plt.scatter, 'Dim_1', 'Dim_2').add_legend()\r\n",
        "      plt.show()\r\n",
        "\r\n",
        "      return pca, tsne_df, components\r\n"
      ],
      "execution_count": null,
      "outputs": []
    },
    {
      "cell_type": "code",
      "metadata": {
        "id": "dV9WxxdVIoGi"
      },
      "source": [
        ""
      ],
      "execution_count": null,
      "outputs": []
    },
    {
      "cell_type": "markdown",
      "metadata": {
        "id": "9McD0bbKIo2b"
      },
      "source": [
        "# tNSE VISUALIZATION :"
      ]
    },
    {
      "cell_type": "code",
      "metadata": {
        "id": "TgL_1AOi14rs"
      },
      "source": [
        "\r\n",
        "pca , tnse, components = tnse_pipeline(X_train , pca_componts =20 , tnse_components= 2 , perplex = 60.0)"
      ],
      "execution_count": null,
      "outputs": []
    },
    {
      "cell_type": "markdown",
      "metadata": {
        "id": "hShM37YuIupj"
      },
      "source": [
        "# PCA VISUALIZATION"
      ]
    },
    {
      "cell_type": "code",
      "metadata": {
        "id": "dWc-bqAHuXWn"
      },
      "source": [
        "#print(class_names)\r\n",
        "fig = px.scatter_3d(\r\n",
        "    components, x=0, y=1, z=2, color=labeling,\r\n",
        "    #title=f'Total Explained Variance: {total_var:.2f}%',\r\n",
        "    labels={'0': 'PC 1', '1': 'PC 2', '2': 'PC 3'},\r\n",
        "\r\n",
        "    size_max = 15,\r\n",
        "    width =  1024,\r\n",
        "    height = 1024\r\n",
        "    \r\n",
        ")\r\n",
        "fig.show()"
      ],
      "execution_count": null,
      "outputs": []
    },
    {
      "cell_type": "markdown",
      "metadata": {
        "id": "afRFg_uYI2S3"
      },
      "source": [
        "# PRINCIPAL COMPONETS EXPLAINATIONS OF VARIANCE"
      ]
    },
    {
      "cell_type": "code",
      "metadata": {
        "id": "MgYgJ-9QzdmP"
      },
      "source": [
        "variance_exp_cumsum = pca.explained_variance_ratio_.cumsum().round(2)\r\n",
        "fig, axes = plt.subplots(1,1,figsize=(16,7), dpi=100)\r\n",
        "plt.plot(variance_exp_cumsum, color='firebrick')\r\n",
        "plt.title('Screeplot of Variance Explained %', fontsize=22)\r\n",
        "plt.xlabel('# of PCs', fontsize=16)\r\n",
        "plt.show()"
      ],
      "execution_count": null,
      "outputs": []
    },
    {
      "cell_type": "markdown",
      "metadata": {
        "id": "mNYxT6FQI_92"
      },
      "source": [
        "# PRINCIPAL COMPONETS VARIENCE EXPLANATION BY EACH PCs"
      ]
    },
    {
      "cell_type": "code",
      "metadata": {
        "id": "cP-iDS5pzwW7"
      },
      "source": [
        "# Plot the explained variances\r\n",
        "plt.figure(figsize=(60,20))\r\n",
        "features = range(pca.n_components_)\r\n",
        "plt.bar(features, pca.explained_variance_ratio_, color='red')\r\n",
        "plt.xlabel('PCA features')\r\n",
        "plt.ylabel('variance %')\r\n",
        "#plt.xticks(features)"
      ],
      "execution_count": null,
      "outputs": []
    },
    {
      "cell_type": "markdown",
      "metadata": {
        "id": "UUBbzwmBJJ3T"
      },
      "source": [
        "# More statistics on the PCs"
      ]
    },
    {
      "cell_type": "code",
      "metadata": {
        "colab": {
          "base_uri": "https://localhost:8080/"
        },
        "id": "-5BrrYJ9z18k",
        "outputId": "14220577-e31c-4efa-e3db-a469afbe94a3"
      },
      "source": [
        "# get basic info\r\n",
        "n_components = len(pca.explained_variance_ratio_)\r\n",
        "explained_variance = pca.explained_variance_ratio_\r\n",
        "cum_explained_variance = np.cumsum(explained_variance)\r\n",
        "idx = np.arange(n_components)+1\r\n",
        "\r\n",
        "df_explained_variance = pd.DataFrame([explained_variance, cum_explained_variance], \r\n",
        "                                     index=['explained variance', 'cumulative'], \r\n",
        "                                     columns=idx).T\r\n",
        "\r\n",
        "mean_explained_variance = df_explained_variance.iloc[:37,0].mean() # calculate mean explained variance\r\n",
        "\r\n",
        "# DISPLAY info about PCs\r\n",
        "print('PCA Overview')\r\n",
        "print('='*40)\r\n",
        "print(\"Total: {} components\".format(n_components))\r\n",
        "print('-'*40)\r\n",
        "print('Mean explained variance:', round(mean_explained_variance,3))\r\n",
        "print('-'*40)\r\n",
        "print(df_explained_variance.head(45))\r\n",
        "print('-'*40)"
      ],
      "execution_count": null,
      "outputs": [
        {
          "output_type": "stream",
          "text": [
            "PCA Overview\n",
            "========================================\n",
            "Total: 20 components\n",
            "----------------------------------------\n",
            "Mean explained variance: 0.05\n",
            "----------------------------------------\n",
            "    explained variance  cumulative\n",
            "1             0.339092    0.339092\n",
            "2             0.116067    0.455159\n",
            "3             0.099920    0.555079\n",
            "4             0.086983    0.642062\n",
            "5             0.063928    0.705991\n",
            "6             0.050190    0.756181\n",
            "7             0.044621    0.800802\n",
            "8             0.037192    0.837994\n",
            "9             0.029595    0.867589\n",
            "10            0.027206    0.894795\n",
            "11            0.023233    0.918028\n",
            "12            0.017055    0.935083\n",
            "13            0.012597    0.947680\n",
            "14            0.009442    0.957122\n",
            "15            0.007541    0.964663\n",
            "16            0.007094    0.971757\n",
            "17            0.006329    0.978086\n",
            "18            0.005434    0.983520\n",
            "19            0.005027    0.988547\n",
            "20            0.004572    0.993119\n",
            "----------------------------------------\n"
          ],
          "name": "stdout"
        }
      ]
    },
    {
      "cell_type": "code",
      "metadata": {
        "colab": {
          "base_uri": "https://localhost:8080/"
        },
        "id": "TR0A1Zeg0Vuj",
        "outputId": "55eaee31-94dd-4d7c-c4c1-e28189a22477"
      },
      "source": [
        "# Store as dataframe and print\r\n",
        "df_pca = components\r\n",
        "df_pca = pd.DataFrame(df_pca)\r\n",
        "print(df_pca.shape)  #> (3147, 784)\r\n",
        "#df_pca.round(2).head(1)"
      ],
      "execution_count": null,
      "outputs": [
        {
          "output_type": "stream",
          "text": [
            "(827, 20)\n"
          ],
          "name": "stdout"
        }
      ]
    },
    {
      "cell_type": "code",
      "metadata": {
        "colab": {
          "base_uri": "https://localhost:8080/"
        },
        "id": "cCsZTCbv0lS8",
        "outputId": "01292490-1d07-4f60-c6c0-17060215bd99"
      },
      "source": [
        "# Principal Components Weights (Eigenvectors)\r\n",
        "df_pca_loadings = pd.DataFrame(pca.components_)\r\n",
        "print(\"the pca loading shape: \", df_pca_loadings.shape)\r\n",
        "#df_pca_loadings.head()"
      ],
      "execution_count": null,
      "outputs": [
        {
          "output_type": "stream",
          "text": [
            "the pca loading shape:  (20, 111)\n"
          ],
          "name": "stdout"
        }
      ]
    },
    {
      "cell_type": "code",
      "metadata": {
        "colab": {
          "base_uri": "https://localhost:8080/"
        },
        "id": "d5uxh5a70vXM",
        "outputId": "897d4d0d-2b01-448e-d2d0-926d56817876"
      },
      "source": [
        "############### DEFINE PARAMS\r\n",
        "top_k = 3\r\n",
        "#select data based on percentile (top_q) or top-k features\r\n",
        "top_q = .50\r\n",
        "top_pc = 3\r\n",
        "###############\r\n",
        "\r\n",
        "# PCA factor loadings\r\n",
        "df_c = pd.DataFrame(pca.components_, columns=features_final.columns).T\r\n",
        "\r\n",
        "print(\"Factor Loadings for the 1. component \\n(explains {0:.2f} of the variance)\".format(df_explained_variance.iloc[0,0]))\r\n",
        "print('='*40,'\\n')\r\n",
        "print('Top {} highest'.format(top_k))\r\n",
        "print('-'*40)\r\n",
        "print(df_c.iloc[:,0].sort_values(ascending=False)[:top_k], '\\n')\r\n",
        "\r\n",
        "print('Top {} lowest'.format(top_k))\r\n",
        "print('-'*40)\r\n",
        "print(df_c.iloc[:,0].sort_values()[:top_k])"
      ],
      "execution_count": null,
      "outputs": [
        {
          "output_type": "stream",
          "text": [
            "Factor Loadings for the 1. component \n",
            "(explains 0.15 of the variance)\n",
            "======================================== \n",
            "\n",
            "Top 3 highest\n",
            "----------------------------------------\n",
            "startdt                           0.652099\n",
            "stopdt                            0.645959\n",
            "county_b'ST LOUIS            '    0.125170\n",
            "Name: 0, dtype: float64 \n",
            "\n",
            "Top 3 lowest\n",
            "----------------------------------------\n",
            "adjwt                            -0.152749\n",
            "stratum                          -0.142259\n",
            "county_b'HENNEPIN            '   -0.122514\n",
            "Name: 0, dtype: float64\n"
          ],
          "name": "stdout"
        }
      ]
    },
    {
      "cell_type": "markdown",
      "metadata": {
        "id": "yHlCYxF_G2gr"
      },
      "source": [
        "# CORRELATION BETWEEN THE INDEPENDENT VARIABLES AND THE PRINCIPAL COMPONENTS "
      ]
    },
    {
      "cell_type": "code",
      "metadata": {
        "id": "WUZFBbRD08Qo"
      },
      "source": [
        "# Plot heatmap\r\n",
        "size_yaxis = round(features_final.shape[1]*0.5 )\r\n",
        "\r\n",
        "fig, ax = plt.subplots(figsize=(10,size_yaxis))\r\n",
        "sns.heatmap(df_c.iloc[:,:3], annot=True, cmap=\"YlGnBu\", ax=ax, linewidths=0.5)\r\n",
        "plt.show()"
      ],
      "execution_count": null,
      "outputs": []
    },
    {
      "cell_type": "markdown",
      "metadata": {
        "id": "ZZCDQLInJRHt"
      },
      "source": [
        "VISUALIZING THE EFFECT(CORR) OF THE INDEPENDENT VARIABLES ON THE PRINCIPICAL COMPONENTS \r\n",
        "- PC1\r\n",
        "- PC2\r\n",
        "- PC3"
      ]
    },
    {
      "cell_type": "code",
      "metadata": {
        "id": "fdfbihPROYMD"
      },
      "source": [
        "def pca_results(df, pca, component_no, features_no, show_plot=True):\r\n",
        "    \r\n",
        "    # Build a dataframe with features_no features capturing most variability\r\n",
        "    # for a given component number (component_no)\r\n",
        "    pca_comp = pd.DataFrame(np.round(pca.components_, 4), columns=df.keys()).iloc[component_no - 1]\r\n",
        "    pca_comp.sort_values(ascending=False, inplace=True)\r\n",
        "    pca_comp = pd.concat([pca_comp.head(features_no), pca_comp.tail(features_no)])\r\n",
        "    \r\n",
        "    if show_plot:\r\n",
        "        # Plot the result\r\n",
        "        pca_comp.plot(kind='bar', \r\n",
        "                  title='Most {} weighted features for PCA component {}'.format(features_no*2, component_no),\r\n",
        "                  figsize=(12, 6))\r\n",
        "        plt.show()\r\n",
        "    \r\n",
        "    return pca_comp"
      ],
      "execution_count": null,
      "outputs": []
    },
    {
      "cell_type": "code",
      "metadata": {
        "colab": {
          "base_uri": "https://localhost:8080/",
          "height": 1000
        },
        "id": "QbTw4L8mOgwx",
        "outputId": "e86b2583-956e-455d-9606-d71d2b57e539"
      },
      "source": [
        "for i in np.arange(0, 3, 1):\r\n",
        "    res = pca_results(features_final, pca, i, 5)\r\n",
        "    print(res)"
      ],
      "execution_count": null,
      "outputs": [
        {
          "output_type": "display_data",
          "data": {
            "image/png": "[encoded data removed]",
            "text/plain": [
              "<Figure size 864x432 with 1 Axes>"
            ]
          },
          "metadata": {
            "tags": []
          }
        },
        {
          "output_type": "stream",
          "text": [
            "county_b'OLMSTED             '    0.5504\n",
            "county_b'ANOKA               '    0.2978\n",
            "county_b'DAKOTA              '    0.1868\n",
            "county_b'ROSEAU              '    0.1546\n",
            "county_b'CLAY                '    0.1525\n",
            "county_b'BLUE EARTH          '   -0.1136\n",
            "county_b'LAKE                '   -0.1325\n",
            "lon                              -0.1648\n",
            "county_b'GOODHUE             '   -0.2490\n",
            "county_b'STEARNS             '   -0.5145\n",
            "Name: 19, dtype: float64\n"
          ],
          "name": "stdout"
        },
        {
          "output_type": "display_data",
          "data": {
            "image/png": "[encoded data removed]",
            "text/plain": [
              "<Figure size 864x432 with 1 Axes>"
            ]
          },
          "metadata": {
            "tags": []
          }
        },
        {
          "output_type": "stream",
          "text": [
            "startdt                           0.6521\n",
            "stopdt                            0.6460\n",
            "county_b'ST LOUIS            '    0.1252\n",
            "cntyfips                          0.1186\n",
            "lat                               0.1161\n",
            "region                           -0.1190\n",
            "wave                             -0.1204\n",
            "county_b'HENNEPIN            '   -0.1225\n",
            "stratum                          -0.1423\n",
            "adjwt                            -0.1527\n",
            "Name: 0, dtype: float64\n"
          ],
          "name": "stdout"
        },
        {
          "output_type": "display_data",
          "data": {
            "image/png": "[encoded data removed]",
            "text/plain": [
              "<Figure size 864x432 with 1 Axes>"
            ]
          },
          "metadata": {
            "tags": []
          }
        },
        {
          "output_type": "stream",
          "text": [
            "county_b'ST LOUIS            '    0.4232\n",
            "lat                               0.3187\n",
            "cntyfips                          0.2257\n",
            "idnum                             0.2168\n",
            "zip                               0.1012\n",
            "stopdt                           -0.2523\n",
            "startdt                          -0.2547\n",
            "stratum                          -0.3380\n",
            "adjwt                            -0.3400\n",
            "region                           -0.3778\n",
            "Name: 1, dtype: float64\n"
          ],
          "name": "stdout"
        }
      ]
    }
  ]
}
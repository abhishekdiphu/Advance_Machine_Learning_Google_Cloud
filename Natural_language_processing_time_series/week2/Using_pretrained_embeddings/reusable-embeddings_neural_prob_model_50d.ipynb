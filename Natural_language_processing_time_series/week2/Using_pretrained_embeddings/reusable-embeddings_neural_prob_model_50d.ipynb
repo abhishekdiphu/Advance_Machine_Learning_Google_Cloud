{
 "cells": [
  {
   "cell_type": "markdown",
   "metadata": {},
   "source": [
    "# Using pre-trained embedding with Tensorflow Hub\n",
    "\n",
    "**Learning Objectives**\n",
    "1. How to instantiate a Tensorflow Hub module\n",
    "1. How to find pretrained Tensorflow Hub module for variety of purposes\n",
    "1. How to use a pre-trained TF Hub text modules to generate sentence vectors\n",
    "1. How to incorporate a pre-trained TF-Hub module into a Keras model\n",
    "\n",
    "\n",
    "\n",
    "## Introduction\n",
    "\n",
    "\n",
    "In this notebook, we will implement text models to recognize the probable source (Github, Tech-Crunch, or The New-York Times) of the titles we have in the title dataset.\n",
    "\n",
    "First, we will load and pre-process the texts and labels so that they are suitable to be fed to sequential Keras models with first layer being TF-hub pre-trained modules. Thanks to this first layer, we won't need to tokenize and integerize the text before passing it to our models. The pre-trained layer will take care of that for us, and consume directly raw text. However, we will still have to one-hot-encode each of the 3 classes into a 3 dimensional basis vector.\n",
    "\n",
    "Then we will build, train and compare simple models starting with different pre-trained TF-Hub layers."
   ]
  },
  {
   "cell_type": "code",
   "execution_count": 1,
   "metadata": {
    "colab": {},
    "colab_type": "code",
    "id": "Nny3m465gKkY"
   },
   "outputs": [],
   "source": [
    "!sudo chown -R jupyter:jupyter /home/jupyter/training-data-analyst"
   ]
  },
  {
   "cell_type": "code",
   "execution_count": 2,
   "metadata": {
    "colab": {},
    "colab_type": "code",
    "id": "Nny3m465gKkY"
   },
   "outputs": [
    {
     "name": "stdout",
     "output_type": "stream",
     "text": [
      "Requirement already satisfied: google-cloud-bigquery==1.25.0 in /home/jupyter/.local/lib/python3.7/site-packages (1.25.0)\n",
      "Requirement already satisfied: google-auth<2.0dev,>=1.9.0 in /opt/conda/lib/python3.7/site-packages (from google-cloud-bigquery==1.25.0) (1.23.0)\n",
      "Requirement already satisfied: google-api-core<2.0dev,>=1.15.0 in /opt/conda/lib/python3.7/site-packages (from google-cloud-bigquery==1.25.0) (1.22.4)\n",
      "Requirement already satisfied: six<2.0.0dev,>=1.13.0 in /opt/conda/lib/python3.7/site-packages (from google-cloud-bigquery==1.25.0) (1.15.0)\n",
      "Requirement already satisfied: google-cloud-core<2.0dev,>=1.1.0 in /opt/conda/lib/python3.7/site-packages (from google-cloud-bigquery==1.25.0) (1.3.0)\n",
      "Requirement already satisfied: protobuf>=3.6.0 in /opt/conda/lib/python3.7/site-packages (from google-cloud-bigquery==1.25.0) (3.13.0)\n",
      "Requirement already satisfied: google-resumable-media<0.6dev,>=0.5.0 in /home/jupyter/.local/lib/python3.7/site-packages (from google-cloud-bigquery==1.25.0) (0.5.1)\n",
      "Requirement already satisfied: setuptools>=40.3.0 in /opt/conda/lib/python3.7/site-packages (from google-auth<2.0dev,>=1.9.0->google-cloud-bigquery==1.25.0) (50.3.2)\n",
      "Requirement already satisfied: pyasn1-modules>=0.2.1 in /opt/conda/lib/python3.7/site-packages (from google-auth<2.0dev,>=1.9.0->google-cloud-bigquery==1.25.0) (0.2.8)\n",
      "Requirement already satisfied: cachetools<5.0,>=2.0.0 in /opt/conda/lib/python3.7/site-packages (from google-auth<2.0dev,>=1.9.0->google-cloud-bigquery==1.25.0) (4.1.1)\n",
      "Requirement already satisfied: rsa<5,>=3.1.4; python_version >= \"3.5\" in /opt/conda/lib/python3.7/site-packages (from google-auth<2.0dev,>=1.9.0->google-cloud-bigquery==1.25.0) (4.6)\n",
      "Requirement already satisfied: googleapis-common-protos<2.0dev,>=1.6.0 in /opt/conda/lib/python3.7/site-packages (from google-api-core<2.0dev,>=1.15.0->google-cloud-bigquery==1.25.0) (1.52.0)\n",
      "Requirement already satisfied: pytz in /opt/conda/lib/python3.7/site-packages (from google-api-core<2.0dev,>=1.15.0->google-cloud-bigquery==1.25.0) (2020.4)\n",
      "Requirement already satisfied: requests<3.0.0dev,>=2.18.0 in /opt/conda/lib/python3.7/site-packages (from google-api-core<2.0dev,>=1.15.0->google-cloud-bigquery==1.25.0) (2.24.0)\n",
      "Requirement already satisfied: pyasn1<0.5.0,>=0.4.6 in /opt/conda/lib/python3.7/site-packages (from pyasn1-modules>=0.2.1->google-auth<2.0dev,>=1.9.0->google-cloud-bigquery==1.25.0) (0.4.8)\n",
      "Requirement already satisfied: urllib3!=1.25.0,!=1.25.1,<1.26,>=1.21.1 in /opt/conda/lib/python3.7/site-packages (from requests<3.0.0dev,>=2.18.0->google-api-core<2.0dev,>=1.15.0->google-cloud-bigquery==1.25.0) (1.25.11)\n",
      "Requirement already satisfied: idna<3,>=2.5 in /opt/conda/lib/python3.7/site-packages (from requests<3.0.0dev,>=2.18.0->google-api-core<2.0dev,>=1.15.0->google-cloud-bigquery==1.25.0) (2.10)\n",
      "Requirement already satisfied: certifi>=2017.4.17 in /opt/conda/lib/python3.7/site-packages (from requests<3.0.0dev,>=2.18.0->google-api-core<2.0dev,>=1.15.0->google-cloud-bigquery==1.25.0) (2020.11.8)\n",
      "Requirement already satisfied: chardet<4,>=3.0.2 in /opt/conda/lib/python3.7/site-packages (from requests<3.0.0dev,>=2.18.0->google-api-core<2.0dev,>=1.15.0->google-cloud-bigquery==1.25.0) (3.0.4)\n"
     ]
    }
   ],
   "source": [
    "!pip install --user google-cloud-bigquery==1.25.0"
   ]
  },
  {
   "cell_type": "markdown",
   "metadata": {},
   "source": [
    "**Note**: Restart your kernel to use updated packages."
   ]
  },
  {
   "cell_type": "markdown",
   "metadata": {},
   "source": [
    "Kindly ignore the deprecation warnings and incompatibility errors related to google-cloud-storage."
   ]
  },
  {
   "cell_type": "code",
   "execution_count": 3,
   "metadata": {},
   "outputs": [],
   "source": [
    "import os\n",
    "\n",
    "from google.cloud import bigquery\n",
    "import pandas as pd"
   ]
  },
  {
   "cell_type": "code",
   "execution_count": 4,
   "metadata": {},
   "outputs": [
    {
     "name": "stdout",
     "output_type": "stream",
     "text": [
      "The google.cloud.bigquery extension is already loaded. To reload it, use:\n",
      "  %reload_ext google.cloud.bigquery\n"
     ]
    }
   ],
   "source": [
    "%load_ext google.cloud.bigquery"
   ]
  },
  {
   "cell_type": "markdown",
   "metadata": {},
   "source": [
    "Replace the variable values in the cell below:"
   ]
  },
  {
   "cell_type": "code",
   "execution_count": 5,
   "metadata": {},
   "outputs": [],
   "source": [
    "PROJECT = \"qwiklabs-gcp-03-0ac1fdb352f9\"  # Replace with your PROJECT\n",
    "BUCKET = PROJECT  # defaults to PROJECT\n",
    "REGION = \"us-central1\"  # Replace with your REGION\n",
    "SEED = 0"
   ]
  },
  {
   "cell_type": "markdown",
   "metadata": {},
   "source": [
    "## Create a Dataset from BigQuery \n",
    "\n",
    "Hacker news headlines are available as a BigQuery public dataset. The [dataset](https://bigquery.cloud.google.com/table/bigquery-public-data:hacker_news.stories?tab=details) contains all headlines from the sites inception in October 2006 until October 2015. \n",
    "\n",
    "Here is a sample of the dataset:"
   ]
  },
  {
   "cell_type": "code",
   "execution_count": 6,
   "metadata": {},
   "outputs": [
    {
     "data": {
      "text/html": [
       "<div>\n",
       "<style scoped>\n",
       "    .dataframe tbody tr th:only-of-type {\n",
       "        vertical-align: middle;\n",
       "    }\n",
       "\n",
       "    .dataframe tbody tr th {\n",
       "        vertical-align: top;\n",
       "    }\n",
       "\n",
       "    .dataframe thead th {\n",
       "        text-align: right;\n",
       "    }\n",
       "</style>\n",
       "<table border=\"1\" class=\"dataframe\">\n",
       "  <thead>\n",
       "    <tr style=\"text-align: right;\">\n",
       "      <th></th>\n",
       "      <th>id</th>\n",
       "      <th>by</th>\n",
       "      <th>score</th>\n",
       "      <th>time</th>\n",
       "      <th>time_ts</th>\n",
       "      <th>title</th>\n",
       "      <th>url</th>\n",
       "      <th>text</th>\n",
       "      <th>deleted</th>\n",
       "      <th>dead</th>\n",
       "      <th>descendants</th>\n",
       "      <th>author</th>\n",
       "    </tr>\n",
       "  </thead>\n",
       "  <tbody>\n",
       "    <tr>\n",
       "      <th>0</th>\n",
       "      <td>7982594</td>\n",
       "      <td>mariogintili</td>\n",
       "      <td>11</td>\n",
       "      <td>1404389867</td>\n",
       "      <td>2014-07-03 12:17:47+00:00</td>\n",
       "      <td>Show HN: Code Cards, Like Texas hold 'em for p...</td>\n",
       "      <td>https://www.kickstarter.com/projects/carlosxcl...</td>\n",
       "      <td>I found learning to code extremely hard, I stu...</td>\n",
       "      <td>None</td>\n",
       "      <td>True</td>\n",
       "      <td>NaN</td>\n",
       "      <td>mariogintili</td>\n",
       "    </tr>\n",
       "    <tr>\n",
       "      <th>1</th>\n",
       "      <td>1892950</td>\n",
       "      <td>story</td>\n",
       "      <td>11</td>\n",
       "      <td>1289451503</td>\n",
       "      <td>2010-11-11 04:58:23+00:00</td>\n",
       "      <td>Best Roommate Ad Ever</td>\n",
       "      <td>http://vancouver.en.craigslist.ca/van/roo/2035...</td>\n",
       "      <td>eHarmony launches \"roommate compatibility quiz...</td>\n",
       "      <td>None</td>\n",
       "      <td>True</td>\n",
       "      <td>0.0</td>\n",
       "      <td>story</td>\n",
       "    </tr>\n",
       "    <tr>\n",
       "      <th>2</th>\n",
       "      <td>7535639</td>\n",
       "      <td>aortega</td>\n",
       "      <td>11</td>\n",
       "      <td>1396662334</td>\n",
       "      <td>2014-04-05 01:45:34+00:00</td>\n",
       "      <td>Deep-Submicron Backdoors</td>\n",
       "      <td>https://github.com/Groundworkstech/Submicron</td>\n",
       "      <td>Repository of resources and documentation to b...</td>\n",
       "      <td>None</td>\n",
       "      <td>None</td>\n",
       "      <td>0.0</td>\n",
       "      <td>aortega</td>\n",
       "    </tr>\n",
       "    <tr>\n",
       "      <th>3</th>\n",
       "      <td>3456280</td>\n",
       "      <td>Jamesmagno</td>\n",
       "      <td>11</td>\n",
       "      <td>1326376182</td>\n",
       "      <td>2012-01-12 13:49:42+00:00</td>\n",
       "      <td>Could this be the solution for the 99%?</td>\n",
       "      <td>http://empowerunited.com/</td>\n",
       "      <td>This might actually work AND make a difference.</td>\n",
       "      <td>None</td>\n",
       "      <td>True</td>\n",
       "      <td>0.0</td>\n",
       "      <td>Jamesmagno</td>\n",
       "    </tr>\n",
       "    <tr>\n",
       "      <th>4</th>\n",
       "      <td>4477485</td>\n",
       "      <td>hackernew</td>\n",
       "      <td>11</td>\n",
       "      <td>1346809401</td>\n",
       "      <td>2012-09-05 01:43:21+00:00</td>\n",
       "      <td>Braun vs. Apple: Is copying designs theft or i...</td>\n",
       "      <td>http://themanufacturingrevolution.com/braun-vs...</td>\n",
       "      <td>Braun’s biggest victory over Apple underscores...</td>\n",
       "      <td>None</td>\n",
       "      <td>None</td>\n",
       "      <td>1.0</td>\n",
       "      <td>hackernew</td>\n",
       "    </tr>\n",
       "    <tr>\n",
       "      <th>5</th>\n",
       "      <td>3738463</td>\n",
       "      <td>ajinkyadot</td>\n",
       "      <td>11</td>\n",
       "      <td>1332392401</td>\n",
       "      <td>2012-03-22 05:00:01+00:00</td>\n",
       "      <td>GitHub Styleguide - CSS, HTML, JS, Ruby</td>\n",
       "      <td>https://github.com/styleguide/</td>\n",
       "      <td>Welcome to the GitHub styleguide. This is wher...</td>\n",
       "      <td>None</td>\n",
       "      <td>None</td>\n",
       "      <td>1.0</td>\n",
       "      <td>ajinkyadot</td>\n",
       "    </tr>\n",
       "    <tr>\n",
       "      <th>6</th>\n",
       "      <td>3611921</td>\n",
       "      <td>mintusingh</td>\n",
       "      <td>11</td>\n",
       "      <td>1329732304</td>\n",
       "      <td>2012-02-20 10:05:04+00:00</td>\n",
       "      <td>Essential Firefox Add-Ons to Make You More Pro...</td>\n",
       "      <td>http://zoomzum.com/10-best-firefox-add-ons-to-...</td>\n",
       "      <td>Firefox can de undoubtedly termed as the best ...</td>\n",
       "      <td>None</td>\n",
       "      <td>True</td>\n",
       "      <td>1.0</td>\n",
       "      <td>mintusingh</td>\n",
       "    </tr>\n",
       "    <tr>\n",
       "      <th>7</th>\n",
       "      <td>243057</td>\n",
       "      <td>jjersin</td>\n",
       "      <td>11</td>\n",
       "      <td>1215733888</td>\n",
       "      <td>2008-07-10 23:51:28+00:00</td>\n",
       "      <td>Feedback on our social media iPhone app</td>\n",
       "      <td>http://www.zintin.com</td>\n",
       "      <td>We, zintin, have just launched our social medi...</td>\n",
       "      <td>None</td>\n",
       "      <td>True</td>\n",
       "      <td>2.0</td>\n",
       "      <td>jjersin</td>\n",
       "    </tr>\n",
       "    <tr>\n",
       "      <th>8</th>\n",
       "      <td>3532209</td>\n",
       "      <td>jmalter</td>\n",
       "      <td>11</td>\n",
       "      <td>1327993531</td>\n",
       "      <td>2012-01-31 07:05:31+00:00</td>\n",
       "      <td>Guess Who’s Coming to Dinner…To Save Our Company</td>\n",
       "      <td>http://founderdating.com/comingtodinner/</td>\n",
       "      <td>The true story of how the Get Satisfaction co-...</td>\n",
       "      <td>None</td>\n",
       "      <td>None</td>\n",
       "      <td>2.0</td>\n",
       "      <td>jmalter</td>\n",
       "    </tr>\n",
       "    <tr>\n",
       "      <th>9</th>\n",
       "      <td>4128922</td>\n",
       "      <td>amcgregor</td>\n",
       "      <td>11</td>\n",
       "      <td>1340058339</td>\n",
       "      <td>2012-06-18 22:25:39+00:00</td>\n",
       "      <td>Poor Man's Template A/B Testing (in Django)</td>\n",
       "      <td>http://tech.matchfwd.com/poor-mans-template-ab...</td>\n",
       "      <td>Ever wanted to A/B test your templates in Djan...</td>\n",
       "      <td>None</td>\n",
       "      <td>None</td>\n",
       "      <td>2.0</td>\n",
       "      <td>amcgregor</td>\n",
       "    </tr>\n",
       "  </tbody>\n",
       "</table>\n",
       "</div>"
      ],
      "text/plain": [
       "        id            by  score        time                   time_ts  \\\n",
       "0  7982594  mariogintili     11  1404389867 2014-07-03 12:17:47+00:00   \n",
       "1  1892950         story     11  1289451503 2010-11-11 04:58:23+00:00   \n",
       "2  7535639       aortega     11  1396662334 2014-04-05 01:45:34+00:00   \n",
       "3  3456280    Jamesmagno     11  1326376182 2012-01-12 13:49:42+00:00   \n",
       "4  4477485     hackernew     11  1346809401 2012-09-05 01:43:21+00:00   \n",
       "5  3738463    ajinkyadot     11  1332392401 2012-03-22 05:00:01+00:00   \n",
       "6  3611921    mintusingh     11  1329732304 2012-02-20 10:05:04+00:00   \n",
       "7   243057       jjersin     11  1215733888 2008-07-10 23:51:28+00:00   \n",
       "8  3532209       jmalter     11  1327993531 2012-01-31 07:05:31+00:00   \n",
       "9  4128922     amcgregor     11  1340058339 2012-06-18 22:25:39+00:00   \n",
       "\n",
       "                                               title  \\\n",
       "0  Show HN: Code Cards, Like Texas hold 'em for p...   \n",
       "1                              Best Roommate Ad Ever   \n",
       "2                           Deep-Submicron Backdoors   \n",
       "3            Could this be the solution for the 99%?   \n",
       "4  Braun vs. Apple: Is copying designs theft or i...   \n",
       "5            GitHub Styleguide - CSS, HTML, JS, Ruby   \n",
       "6  Essential Firefox Add-Ons to Make You More Pro...   \n",
       "7            Feedback on our social media iPhone app   \n",
       "8   Guess Who’s Coming to Dinner…To Save Our Company   \n",
       "9        Poor Man's Template A/B Testing (in Django)   \n",
       "\n",
       "                                                 url  \\\n",
       "0  https://www.kickstarter.com/projects/carlosxcl...   \n",
       "1  http://vancouver.en.craigslist.ca/van/roo/2035...   \n",
       "2       https://github.com/Groundworkstech/Submicron   \n",
       "3                          http://empowerunited.com/   \n",
       "4  http://themanufacturingrevolution.com/braun-vs...   \n",
       "5                     https://github.com/styleguide/   \n",
       "6  http://zoomzum.com/10-best-firefox-add-ons-to-...   \n",
       "7                              http://www.zintin.com   \n",
       "8           http://founderdating.com/comingtodinner/   \n",
       "9  http://tech.matchfwd.com/poor-mans-template-ab...   \n",
       "\n",
       "                                                text deleted  dead  \\\n",
       "0  I found learning to code extremely hard, I stu...    None  True   \n",
       "1  eHarmony launches \"roommate compatibility quiz...    None  True   \n",
       "2  Repository of resources and documentation to b...    None  None   \n",
       "3    This might actually work AND make a difference.    None  True   \n",
       "4  Braun’s biggest victory over Apple underscores...    None  None   \n",
       "5  Welcome to the GitHub styleguide. This is wher...    None  None   \n",
       "6  Firefox can de undoubtedly termed as the best ...    None  True   \n",
       "7  We, zintin, have just launched our social medi...    None  True   \n",
       "8  The true story of how the Get Satisfaction co-...    None  None   \n",
       "9  Ever wanted to A/B test your templates in Djan...    None  None   \n",
       "\n",
       "   descendants        author  \n",
       "0          NaN  mariogintili  \n",
       "1          0.0         story  \n",
       "2          0.0       aortega  \n",
       "3          0.0    Jamesmagno  \n",
       "4          1.0     hackernew  \n",
       "5          1.0    ajinkyadot  \n",
       "6          1.0    mintusingh  \n",
       "7          2.0       jjersin  \n",
       "8          2.0       jmalter  \n",
       "9          2.0     amcgregor  "
      ]
     },
     "execution_count": 6,
     "metadata": {},
     "output_type": "execute_result"
    }
   ],
   "source": [
    "%%bigquery --project $PROJECT\n",
    "\n",
    "SELECT *\n",
    "FROM\n",
    "    `bigquery-public-data.hacker_news.stories`\n",
    "WHERE\n",
    "    LENGTH(title) > 10\n",
    "    AND score > 10\n",
    "    AND LENGTH(url) > 0\n",
    "LIMIT 10"
   ]
  },
  {
   "cell_type": "markdown",
   "metadata": {},
   "source": [
    "Let's do some regular expression parsing in BigQuery to get the source of the newspaper article from the URL."
   ]
  },
  {
   "cell_type": "code",
   "execution_count": 7,
   "metadata": {},
   "outputs": [
    {
     "data": {
      "text/html": [
       "<div>\n",
       "<style scoped>\n",
       "    .dataframe tbody tr th:only-of-type {\n",
       "        vertical-align: middle;\n",
       "    }\n",
       "\n",
       "    .dataframe tbody tr th {\n",
       "        vertical-align: top;\n",
       "    }\n",
       "\n",
       "    .dataframe thead th {\n",
       "        text-align: right;\n",
       "    }\n",
       "</style>\n",
       "<table border=\"1\" class=\"dataframe\">\n",
       "  <thead>\n",
       "    <tr style=\"text-align: right;\">\n",
       "      <th></th>\n",
       "      <th>source</th>\n",
       "      <th>num_articles</th>\n",
       "    </tr>\n",
       "  </thead>\n",
       "  <tbody>\n",
       "    <tr>\n",
       "      <th>0</th>\n",
       "      <td>blogspot</td>\n",
       "      <td>41386</td>\n",
       "    </tr>\n",
       "    <tr>\n",
       "      <th>1</th>\n",
       "      <td>github</td>\n",
       "      <td>36525</td>\n",
       "    </tr>\n",
       "    <tr>\n",
       "      <th>2</th>\n",
       "      <td>techcrunch</td>\n",
       "      <td>30891</td>\n",
       "    </tr>\n",
       "    <tr>\n",
       "      <th>3</th>\n",
       "      <td>youtube</td>\n",
       "      <td>30848</td>\n",
       "    </tr>\n",
       "    <tr>\n",
       "      <th>4</th>\n",
       "      <td>nytimes</td>\n",
       "      <td>28787</td>\n",
       "    </tr>\n",
       "    <tr>\n",
       "      <th>...</th>\n",
       "      <td>...</td>\n",
       "      <td>...</td>\n",
       "    </tr>\n",
       "    <tr>\n",
       "      <th>995</th>\n",
       "      <td>itwire</td>\n",
       "      <td>111</td>\n",
       "    </tr>\n",
       "    <tr>\n",
       "      <th>996</th>\n",
       "      <td>allroofingsolutionsde</td>\n",
       "      <td>111</td>\n",
       "    </tr>\n",
       "    <tr>\n",
       "      <th>997</th>\n",
       "      <td>codebetter</td>\n",
       "      <td>111</td>\n",
       "    </tr>\n",
       "    <tr>\n",
       "      <th>998</th>\n",
       "      <td>betaboston</td>\n",
       "      <td>111</td>\n",
       "    </tr>\n",
       "    <tr>\n",
       "      <th>999</th>\n",
       "      <td>domaininvesting</td>\n",
       "      <td>111</td>\n",
       "    </tr>\n",
       "  </tbody>\n",
       "</table>\n",
       "<p>1000 rows × 2 columns</p>\n",
       "</div>"
      ],
      "text/plain": [
       "                    source  num_articles\n",
       "0                 blogspot         41386\n",
       "1                   github         36525\n",
       "2               techcrunch         30891\n",
       "3                  youtube         30848\n",
       "4                  nytimes         28787\n",
       "..                     ...           ...\n",
       "995                 itwire           111\n",
       "996  allroofingsolutionsde           111\n",
       "997             codebetter           111\n",
       "998             betaboston           111\n",
       "999        domaininvesting           111\n",
       "\n",
       "[1000 rows x 2 columns]"
      ]
     },
     "execution_count": 7,
     "metadata": {},
     "output_type": "execute_result"
    }
   ],
   "source": [
    "%%bigquery --project $PROJECT\n",
    "\n",
    "SELECT\n",
    "    ARRAY_REVERSE(SPLIT(REGEXP_EXTRACT(url, '.*://(.[^/]+)/'), '.'))[OFFSET(1)] AS source,\n",
    "    COUNT(title) AS num_articles\n",
    "FROM\n",
    "    `bigquery-public-data.hacker_news.stories`\n",
    "WHERE\n",
    "    REGEXP_CONTAINS(REGEXP_EXTRACT(url, '.*://(.[^/]+)/'), '.com$')\n",
    "    AND LENGTH(title) > 10\n",
    "GROUP BY\n",
    "    source\n",
    "ORDER BY num_articles DESC\n",
    "  LIMIT 1000"
   ]
  },
  {
   "cell_type": "markdown",
   "metadata": {},
   "source": [
    "Now that we have good parsing of the URL to get the source, let's put together a dataset of source and titles. This will be our labeled dataset for machine learning."
   ]
  },
  {
   "cell_type": "code",
   "execution_count": 10,
   "metadata": {},
   "outputs": [
    {
     "name": "stdout",
     "output_type": "stream",
     "text": [
      "\n",
      "SELECT \n",
      "    LOWER(REGEXP_REPLACE(title, '[^a-zA-Z0-9 $.-]', ' ')) AS title,\n",
      "    source\n",
      "FROM\n",
      "  (\n",
      "SELECT\n",
      "    title,\n",
      "    ARRAY_REVERSE(SPLIT(REGEXP_EXTRACT(url, '.*://(.[^/]+)/'), '.'))[OFFSET(1)] AS source\n",
      "    \n",
      "FROM\n",
      "    `bigquery-public-data.hacker_news.stories`\n",
      "WHERE\n",
      "    REGEXP_CONTAINS(REGEXP_EXTRACT(url, '.*://(.[^/]+)/'), '.com$')\n",
      "    AND LENGTH(title) > 10\n",
      ")\n",
      "WHERE (source = 'github' OR source = 'nytimes' OR source = 'techcrunch')\n",
      "\n"
     ]
    }
   ],
   "source": [
    "regex = '.*://(.[^/]+)/'\n",
    "\n",
    "\n",
    "sub_query = \"\"\"\n",
    "SELECT\n",
    "    title,\n",
    "    ARRAY_REVERSE(SPLIT(REGEXP_EXTRACT(url, '{0}'), '.'))[OFFSET(1)] AS source\n",
    "    \n",
    "FROM\n",
    "    `bigquery-public-data.hacker_news.stories`\n",
    "WHERE\n",
    "    REGEXP_CONTAINS(REGEXP_EXTRACT(url, '{0}'), '.com$')\n",
    "    AND LENGTH(title) > 10\n",
    "\"\"\".format(regex)\n",
    "\n",
    "\n",
    "query = \"\"\"\n",
    "SELECT \n",
    "    LOWER(REGEXP_REPLACE(title, '[^a-zA-Z0-9 $.-]', ' ')) AS title,\n",
    "    source\n",
    "FROM\n",
    "  ({sub_query})\n",
    "WHERE (source = 'github' OR source = 'nytimes' OR source = 'techcrunch')\n",
    "\"\"\".format(sub_query=sub_query)\n",
    "\n",
    "print(query)"
   ]
  },
  {
   "cell_type": "markdown",
   "metadata": {},
   "source": [
    "blogspot       41386\n",
    "github         36525\n",
    "techcrunch     30891\n",
    "youtube        30848\n",
    "nytimes        28787\n",
    "medium         18422\n",
    "google         18235\n",
    "wordpress      17667\n",
    "arstechnica    13749\n",
    "wired          12841"
   ]
  },
  {
   "cell_type": "markdown",
   "metadata": {},
   "source": [
    "For ML training, we usually need to split our dataset into training and evaluation datasets (and perhaps an independent test dataset if we are going to do model or feature selection based on the evaluation dataset). AutoML however figures out on its own how to create these splits, so we won't need to do that here. \n",
    "\n"
   ]
  },
  {
   "cell_type": "code",
   "execution_count": 11,
   "metadata": {},
   "outputs": [
    {
     "data": {
      "text/html": [
       "<div>\n",
       "<style scoped>\n",
       "    .dataframe tbody tr th:only-of-type {\n",
       "        vertical-align: middle;\n",
       "    }\n",
       "\n",
       "    .dataframe tbody tr th {\n",
       "        vertical-align: top;\n",
       "    }\n",
       "\n",
       "    .dataframe thead th {\n",
       "        text-align: right;\n",
       "    }\n",
       "</style>\n",
       "<table border=\"1\" class=\"dataframe\">\n",
       "  <thead>\n",
       "    <tr style=\"text-align: right;\">\n",
       "      <th></th>\n",
       "      <th>title</th>\n",
       "      <th>source</th>\n",
       "    </tr>\n",
       "  </thead>\n",
       "  <tbody>\n",
       "    <tr>\n",
       "      <th>0</th>\n",
       "      <td>this guy just found out how to bypass adblocker</td>\n",
       "      <td>github</td>\n",
       "    </tr>\n",
       "    <tr>\n",
       "      <th>1</th>\n",
       "      <td>show hn  dodo   command line task management f...</td>\n",
       "      <td>github</td>\n",
       "    </tr>\n",
       "    <tr>\n",
       "      <th>2</th>\n",
       "      <td>without coding test  test automation for javas...</td>\n",
       "      <td>github</td>\n",
       "    </tr>\n",
       "    <tr>\n",
       "      <th>3</th>\n",
       "      <td>clojure s first code commit  authored 8 years ...</td>\n",
       "      <td>github</td>\n",
       "    </tr>\n",
       "    <tr>\n",
       "      <th>4</th>\n",
       "      <td>hikaricp a solid high-performance jdbc connect...</td>\n",
       "      <td>github</td>\n",
       "    </tr>\n",
       "  </tbody>\n",
       "</table>\n",
       "</div>"
      ],
      "text/plain": [
       "                                               title  source\n",
       "0    this guy just found out how to bypass adblocker  github\n",
       "1  show hn  dodo   command line task management f...  github\n",
       "2  without coding test  test automation for javas...  github\n",
       "3  clojure s first code commit  authored 8 years ...  github\n",
       "4  hikaricp a solid high-performance jdbc connect...  github"
      ]
     },
     "execution_count": 11,
     "metadata": {},
     "output_type": "execute_result"
    }
   ],
   "source": [
    "bq = bigquery.Client(project=PROJECT)\n",
    "title_dataset = bq.query(query).to_dataframe()\n",
    "title_dataset.head()"
   ]
  },
  {
   "cell_type": "code",
   "execution_count": 12,
   "metadata": {},
   "outputs": [
    {
     "name": "stdout",
     "output_type": "stream",
     "text": [
      "<class 'pandas.core.frame.DataFrame'>\n",
      "RangeIndex: 96203 entries, 0 to 96202\n",
      "Data columns (total 2 columns):\n",
      " #   Column  Non-Null Count  Dtype \n",
      "---  ------  --------------  ----- \n",
      " 0   title   96203 non-null  object\n",
      " 1   source  96203 non-null  object\n",
      "dtypes: object(2)\n",
      "memory usage: 1.5+ MB\n"
     ]
    }
   ],
   "source": [
    "title_dataset.info()"
   ]
  },
  {
   "cell_type": "code",
   "execution_count": 13,
   "metadata": {},
   "outputs": [
    {
     "data": {
      "text/html": [
       "<div>\n",
       "<style scoped>\n",
       "    .dataframe tbody tr th:only-of-type {\n",
       "        vertical-align: middle;\n",
       "    }\n",
       "\n",
       "    .dataframe tbody tr th {\n",
       "        vertical-align: top;\n",
       "    }\n",
       "\n",
       "    .dataframe thead th {\n",
       "        text-align: right;\n",
       "    }\n",
       "</style>\n",
       "<table border=\"1\" class=\"dataframe\">\n",
       "  <thead>\n",
       "    <tr style=\"text-align: right;\">\n",
       "      <th></th>\n",
       "      <th>count</th>\n",
       "      <th>unique</th>\n",
       "      <th>top</th>\n",
       "      <th>freq</th>\n",
       "    </tr>\n",
       "  </thead>\n",
       "  <tbody>\n",
       "    <tr>\n",
       "      <th>title</th>\n",
       "      <td>96203</td>\n",
       "      <td>92395</td>\n",
       "      <td>github is down</td>\n",
       "      <td>31</td>\n",
       "    </tr>\n",
       "    <tr>\n",
       "      <th>source</th>\n",
       "      <td>96203</td>\n",
       "      <td>3</td>\n",
       "      <td>github</td>\n",
       "      <td>36525</td>\n",
       "    </tr>\n",
       "  </tbody>\n",
       "</table>\n",
       "</div>"
      ],
      "text/plain": [
       "        count unique             top   freq\n",
       "title   96203  92395  github is down     31\n",
       "source  96203      3          github  36525"
      ]
     },
     "execution_count": 13,
     "metadata": {},
     "output_type": "execute_result"
    }
   ],
   "source": [
    "title_dataset.describe().transpose()"
   ]
  },
  {
   "cell_type": "markdown",
   "metadata": {},
   "source": [
    "AutoML for text classification requires that\n",
    "* the dataset be in csv form with \n",
    "* the first column being the texts to classify or a GCS path to the text \n",
    "* the last column to be the text labels\n",
    "\n",
    "The dataset we pulled from BiqQuery satisfies these requirements."
   ]
  },
  {
   "cell_type": "code",
   "execution_count": 14,
   "metadata": {},
   "outputs": [
    {
     "name": "stdout",
     "output_type": "stream",
     "text": [
      "The full dataset contains 96203 titles\n"
     ]
    }
   ],
   "source": [
    "print(\"The full dataset contains {n} titles\".format(n=len(title_dataset)))"
   ]
  },
  {
   "cell_type": "markdown",
   "metadata": {},
   "source": [
    "Let's make sure we have roughly the same number of labels for each of our three labels:"
   ]
  },
  {
   "cell_type": "code",
   "execution_count": 15,
   "metadata": {},
   "outputs": [
    {
     "data": {
      "text/plain": [
       "github        36525\n",
       "techcrunch    30891\n",
       "nytimes       28787\n",
       "Name: source, dtype: int64"
      ]
     },
     "execution_count": 15,
     "metadata": {},
     "output_type": "execute_result"
    }
   ],
   "source": [
    "title_dataset.source.value_counts()"
   ]
  },
  {
   "cell_type": "code",
   "execution_count": null,
   "metadata": {},
   "outputs": [],
   "source": []
  },
  {
   "cell_type": "markdown",
   "metadata": {},
   "source": [
    "Finally we will save our data, which is currently in-memory, to disk.\n",
    "\n",
    "We will create a csv file containing the full dataset and another containing only 1000 articles for development.\n",
    "\n",
    "**Note:** It may take a long time to train AutoML on the full dataset, so we recommend to use the sample dataset for the purpose of learning the tool. \n"
   ]
  },
  {
   "cell_type": "code",
   "execution_count": 17,
   "metadata": {},
   "outputs": [],
   "source": [
    "DATADIR = './data/'\n",
    "\n",
    "if not os.path.exists(DATADIR):\n",
    "    os.makedirs(DATADIR)"
   ]
  },
  {
   "cell_type": "code",
   "execution_count": 18,
   "metadata": {},
   "outputs": [],
   "source": [
    "FULL_DATASET_NAME = 'titles_full.csv'\n",
    "FULL_DATASET_PATH = os.path.join(DATADIR, FULL_DATASET_NAME)\n",
    "\n",
    "# Let's shuffle the data before writing it to disk.\n",
    "title_dataset = title_dataset.sample(n=len(title_dataset))\n",
    "\n",
    "#title_dataset.to_csv(\n",
    "#    FULL_DATASET_PATH, header=False, index=False, encoding='utf-8')"
   ]
  },
  {
   "cell_type": "markdown",
   "metadata": {},
   "source": [
    "Now let's sample 1000 articles from the full dataset and make sure we have enough examples for each label in our sample dataset (see [here](https://cloud.google.com/natural-language/automl/docs/beginners-guide) for further details on how to prepare data for AutoML)."
   ]
  },
  {
   "cell_type": "code",
   "execution_count": 19,
   "metadata": {},
   "outputs": [
    {
     "data": {
      "text/plain": [
       "github        369\n",
       "techcrunch    320\n",
       "nytimes       311\n",
       "Name: source, dtype: int64"
      ]
     },
     "execution_count": 19,
     "metadata": {},
     "output_type": "execute_result"
    }
   ],
   "source": [
    "sample_title_dataset = title_dataset.sample(n=1000)\n",
    "sample_title_dataset.source.value_counts()"
   ]
  },
  {
   "cell_type": "markdown",
   "metadata": {},
   "source": [
    "Let's write the sample datatset to disk."
   ]
  },
  {
   "cell_type": "code",
   "execution_count": 20,
   "metadata": {},
   "outputs": [],
   "source": [
    "SAMPLE_DATASET_NAME = 'titles_sample.csv'\n",
    "SAMPLE_DATASET_PATH = os.path.join(DATADIR, SAMPLE_DATASET_NAME)\n",
    "\n",
    "sample_title_dataset.to_csv(\n",
    "    SAMPLE_DATASET_PATH, header=False, index=False, encoding='utf-8')"
   ]
  },
  {
   "cell_type": "code",
   "execution_count": 21,
   "metadata": {},
   "outputs": [
    {
     "data": {
      "text/html": [
       "<div>\n",
       "<style scoped>\n",
       "    .dataframe tbody tr th:only-of-type {\n",
       "        vertical-align: middle;\n",
       "    }\n",
       "\n",
       "    .dataframe tbody tr th {\n",
       "        vertical-align: top;\n",
       "    }\n",
       "\n",
       "    .dataframe thead th {\n",
       "        text-align: right;\n",
       "    }\n",
       "</style>\n",
       "<table border=\"1\" class=\"dataframe\">\n",
       "  <thead>\n",
       "    <tr style=\"text-align: right;\">\n",
       "      <th></th>\n",
       "      <th>title</th>\n",
       "      <th>source</th>\n",
       "    </tr>\n",
       "  </thead>\n",
       "  <tbody>\n",
       "    <tr>\n",
       "      <th>84947</th>\n",
       "      <td>samsung s iron man galaxy s6 edge is coming   ...</td>\n",
       "      <td>techcrunch</td>\n",
       "    </tr>\n",
       "    <tr>\n",
       "      <th>38175</th>\n",
       "      <td>the sun is the best optometrist</td>\n",
       "      <td>nytimes</td>\n",
       "    </tr>\n",
       "    <tr>\n",
       "      <th>89980</th>\n",
       "      <td>askmarkets launches prediction market for crun...</td>\n",
       "      <td>techcrunch</td>\n",
       "    </tr>\n",
       "    <tr>\n",
       "      <th>7453</th>\n",
       "      <td>bigfoot - scalable web framework  made of vapour</td>\n",
       "      <td>github</td>\n",
       "    </tr>\n",
       "    <tr>\n",
       "      <th>67545</th>\n",
       "      <td>rockyou raises a whopper   $50 million in vent...</td>\n",
       "      <td>techcrunch</td>\n",
       "    </tr>\n",
       "  </tbody>\n",
       "</table>\n",
       "</div>"
      ],
      "text/plain": [
       "                                                   title      source\n",
       "84947  samsung s iron man galaxy s6 edge is coming   ...  techcrunch\n",
       "38175                   the sun is the best optometrist      nytimes\n",
       "89980  askmarkets launches prediction market for crun...  techcrunch\n",
       "7453   bigfoot - scalable web framework  made of vapour       github\n",
       "67545  rockyou raises a whopper   $50 million in vent...  techcrunch"
      ]
     },
     "execution_count": 21,
     "metadata": {},
     "output_type": "execute_result"
    }
   ],
   "source": [
    "sample_title_dataset.head()"
   ]
  },
  {
   "cell_type": "code",
   "execution_count": 22,
   "metadata": {},
   "outputs": [
    {
     "name": "stdout",
     "output_type": "stream",
     "text": [
      "2.3.1\n"
     ]
    }
   ],
   "source": [
    "import datetime\n",
    "import os\n",
    "import shutil\n",
    "\n",
    "import pandas as pd\n",
    "import tensorflow as tf\n",
    "from tensorflow.keras.callbacks import TensorBoard, EarlyStopping\n",
    "from tensorflow_hub import KerasLayer\n",
    "from tensorflow.keras.layers import Dense\n",
    "from tensorflow.keras.models import Sequential\n",
    "from tensorflow.keras.preprocessing.text import Tokenizer\n",
    "from tensorflow.keras.utils import to_categorical\n",
    "\n",
    "\n",
    "print(tf.__version__)"
   ]
  },
  {
   "cell_type": "code",
   "execution_count": 23,
   "metadata": {},
   "outputs": [],
   "source": [
    "%matplotlib inline"
   ]
  },
  {
   "cell_type": "markdown",
   "metadata": {},
   "source": [
    "Let's start by specifying where the information about the trained models will be saved as well as where our dataset is located:"
   ]
  },
  {
   "cell_type": "code",
   "execution_count": 24,
   "metadata": {},
   "outputs": [],
   "source": [
    "MODEL_DIR = \"./text_models\"\n",
    "DATA_DIR = \"./data\""
   ]
  },
  {
   "cell_type": "markdown",
   "metadata": {},
   "source": [
    "## Loading the dataset"
   ]
  },
  {
   "cell_type": "markdown",
   "metadata": {},
   "source": [
    "As in the previous labs, our dataset consists of titles of articles along with the label indicating from which source these articles have been taken from (GitHub, Tech-Crunch, or the New-York Times):"
   ]
  },
  {
   "cell_type": "code",
   "execution_count": 25,
   "metadata": {},
   "outputs": [
    {
     "name": "stdout",
     "output_type": "stream",
     "text": [
      "titles_full.csv  titles_sample.csv\n"
     ]
    }
   ],
   "source": [
    "ls ./data/"
   ]
  },
  {
   "cell_type": "code",
   "execution_count": 26,
   "metadata": {},
   "outputs": [
    {
     "data": {
      "text/html": [
       "<div>\n",
       "<style scoped>\n",
       "    .dataframe tbody tr th:only-of-type {\n",
       "        vertical-align: middle;\n",
       "    }\n",
       "\n",
       "    .dataframe tbody tr th {\n",
       "        vertical-align: top;\n",
       "    }\n",
       "\n",
       "    .dataframe thead th {\n",
       "        text-align: right;\n",
       "    }\n",
       "</style>\n",
       "<table border=\"1\" class=\"dataframe\">\n",
       "  <thead>\n",
       "    <tr style=\"text-align: right;\">\n",
       "      <th></th>\n",
       "      <th>title</th>\n",
       "      <th>source</th>\n",
       "    </tr>\n",
       "  </thead>\n",
       "  <tbody>\n",
       "    <tr>\n",
       "      <th>0</th>\n",
       "      <td>sv computer history museum overhauled</td>\n",
       "      <td>nytimes</td>\n",
       "    </tr>\n",
       "    <tr>\n",
       "      <th>1</th>\n",
       "      <td>speedtrack sues just about every major online ...</td>\n",
       "      <td>techcrunch</td>\n",
       "    </tr>\n",
       "    <tr>\n",
       "      <th>2</th>\n",
       "      <td>show hn  shortcut   system-wide hot key api</td>\n",
       "      <td>github</td>\n",
       "    </tr>\n",
       "    <tr>\n",
       "      <th>3</th>\n",
       "      <td>a ruby interface to yammer s rest api</td>\n",
       "      <td>github</td>\n",
       "    </tr>\n",
       "    <tr>\n",
       "      <th>4</th>\n",
       "      <td>live photo stream from sochi olympics  using p...</td>\n",
       "      <td>nytimes</td>\n",
       "    </tr>\n",
       "  </tbody>\n",
       "</table>\n",
       "</div>"
      ],
      "text/plain": [
       "                                               title      source\n",
       "0              sv computer history museum overhauled     nytimes\n",
       "1  speedtrack sues just about every major online ...  techcrunch\n",
       "2        show hn  shortcut   system-wide hot key api      github\n",
       "3              a ruby interface to yammer s rest api      github\n",
       "4  live photo stream from sochi olympics  using p...     nytimes"
      ]
     },
     "execution_count": 26,
     "metadata": {},
     "output_type": "execute_result"
    }
   ],
   "source": [
    "DATASET_NAME = \"titles_full.csv\"\n",
    "TITLE_SAMPLE_PATH = os.path.join(DATA_DIR, DATASET_NAME)\n",
    "COLUMNS = ['title', 'source']\n",
    "\n",
    "titles_df = pd.read_csv(TITLE_SAMPLE_PATH, header=None, names=COLUMNS)\n",
    "titles_df.head()"
   ]
  },
  {
   "cell_type": "markdown",
   "metadata": {},
   "source": [
    "Let's look again at the number of examples per label to make sure we have a well-balanced dataset:"
   ]
  },
  {
   "cell_type": "code",
   "execution_count": 27,
   "metadata": {},
   "outputs": [
    {
     "data": {
      "text/plain": [
       "github        36525\n",
       "techcrunch    30891\n",
       "nytimes       28787\n",
       "Name: source, dtype: int64"
      ]
     },
     "execution_count": 27,
     "metadata": {},
     "output_type": "execute_result"
    }
   ],
   "source": [
    "titles_df.source.value_counts()"
   ]
  },
  {
   "cell_type": "markdown",
   "metadata": {},
   "source": [
    "## Preparing the labels"
   ]
  },
  {
   "cell_type": "markdown",
   "metadata": {},
   "source": [
    "In this lab, we will use pre-trained [TF-Hub embeddings modules for english](https://tfhub.dev/s?q=tf2%20embeddings%20text%20english) for the first layer of our models. One immediate\n",
    "advantage of doing so is that the TF-Hub embedding module will take care for us of processing the raw text. \n",
    "This also means that our model will be able to consume text directly instead of sequences of integers representing the words.\n",
    "\n",
    "However, as before, we still need to preprocess the labels into one-hot-encoded vectors:"
   ]
  },
  {
   "cell_type": "code",
   "execution_count": 28,
   "metadata": {},
   "outputs": [],
   "source": [
    "CLASSES = {\n",
    "    'github': 0,\n",
    "    'nytimes': 1,\n",
    "    'techcrunch': 2\n",
    "}\n",
    "N_CLASSES = len(CLASSES)"
   ]
  },
  {
   "cell_type": "code",
   "execution_count": 29,
   "metadata": {},
   "outputs": [],
   "source": [
    "def encode_labels(sources):\n",
    "    classes = [CLASSES[source] for source in sources]\n",
    "    one_hots = to_categorical(classes, num_classes=N_CLASSES)\n",
    "    return one_hots"
   ]
  },
  {
   "cell_type": "code",
   "execution_count": 30,
   "metadata": {},
   "outputs": [
    {
     "data": {
      "text/plain": [
       "array([[0., 1., 0.],\n",
       "       [0., 0., 1.],\n",
       "       [1., 0., 0.],\n",
       "       [1., 0., 0.]], dtype=float32)"
      ]
     },
     "execution_count": 30,
     "metadata": {},
     "output_type": "execute_result"
    }
   ],
   "source": [
    "encode_labels(titles_df.source[:4])"
   ]
  },
  {
   "cell_type": "markdown",
   "metadata": {},
   "source": [
    "## Preparing the train/test splits"
   ]
  },
  {
   "cell_type": "markdown",
   "metadata": {},
   "source": [
    "Let's split our data into train and test splits:"
   ]
  },
  {
   "cell_type": "code",
   "execution_count": 31,
   "metadata": {},
   "outputs": [
    {
     "name": "stdout",
     "output_type": "stream",
     "text": [
      "91392\n"
     ]
    }
   ],
   "source": [
    "N_TRAIN = int(len(titles_df) * 0.95)\n",
    "print(N_TRAIN)\n",
    "\n",
    "titles_train, sources_train = (\n",
    "    titles_df.title[:N_TRAIN], titles_df.source[:N_TRAIN])\n",
    "\n",
    "titles_valid, sources_valid = (\n",
    "    titles_df.title[N_TRAIN:], titles_df.source[N_TRAIN:])"
   ]
  },
  {
   "cell_type": "markdown",
   "metadata": {},
   "source": [
    "To be on the safe side, we verify that the train and test splits\n",
    "have roughly the same number of examples per class.\n",
    "\n",
    "Since it is the case, accuracy will be a good metric to use to measure\n",
    "the performance of our models."
   ]
  },
  {
   "cell_type": "code",
   "execution_count": 32,
   "metadata": {},
   "outputs": [
    {
     "data": {
      "text/plain": [
       "github        34748\n",
       "techcrunch    29337\n",
       "nytimes       27307\n",
       "Name: source, dtype: int64"
      ]
     },
     "execution_count": 32,
     "metadata": {},
     "output_type": "execute_result"
    }
   ],
   "source": [
    "sources_train.value_counts()"
   ]
  },
  {
   "cell_type": "code",
   "execution_count": 33,
   "metadata": {},
   "outputs": [
    {
     "data": {
      "text/plain": [
       "github        1777\n",
       "techcrunch    1554\n",
       "nytimes       1480\n",
       "Name: source, dtype: int64"
      ]
     },
     "execution_count": 33,
     "metadata": {},
     "output_type": "execute_result"
    }
   ],
   "source": [
    "sources_valid.value_counts()"
   ]
  },
  {
   "cell_type": "code",
   "execution_count": 35,
   "metadata": {},
   "outputs": [
    {
     "data": {
      "text/plain": [
       "array(['sv computer history museum overhauled',\n",
       "       'speedtrack sues just about every major online retailer over patent infringement',\n",
       "       'show hn  shortcut   system-wide hot key api',\n",
       "       'a ruby interface to yammer s rest api',\n",
       "       'live photo stream from sochi olympics  using pusher.js ',\n",
       "       'generate logic gate diagrams automatically',\n",
       "       'facebook lures advertisers with educational fasttrack and start to success',\n",
       "       'hipcamp raises $2m to get people camping',\n",
       "       'the guts of a new machine  2003 ',\n",
       "       'what a merged sprint and t-mobile would look like'], dtype=object)"
      ]
     },
     "execution_count": 35,
     "metadata": {},
     "output_type": "execute_result"
    }
   ],
   "source": [
    "titles_train[:10].values"
   ]
  },
  {
   "cell_type": "markdown",
   "metadata": {},
   "source": [
    "Now let's create the features and labels we will feed our models with:"
   ]
  },
  {
   "cell_type": "code",
   "execution_count": 36,
   "metadata": {},
   "outputs": [],
   "source": [
    "X_train, Y_train = titles_train.values, encode_labels(sources_train)\n",
    "X_valid, Y_valid = titles_valid.values, encode_labels(sources_valid)"
   ]
  },
  {
   "cell_type": "code",
   "execution_count": 37,
   "metadata": {},
   "outputs": [
    {
     "data": {
      "text/plain": [
       "array(['sv computer history museum overhauled',\n",
       "       'speedtrack sues just about every major online retailer over patent infringement',\n",
       "       'show hn  shortcut   system-wide hot key api'], dtype=object)"
      ]
     },
     "execution_count": 37,
     "metadata": {},
     "output_type": "execute_result"
    }
   ],
   "source": [
    "X_train[:3]"
   ]
  },
  {
   "cell_type": "code",
   "execution_count": 38,
   "metadata": {},
   "outputs": [
    {
     "data": {
      "text/plain": [
       "array([[0., 1., 0.],\n",
       "       [0., 0., 1.],\n",
       "       [1., 0., 0.]], dtype=float32)"
      ]
     },
     "execution_count": 38,
     "metadata": {},
     "output_type": "execute_result"
    }
   ],
   "source": [
    "Y_train[:3]"
   ]
  },
  {
   "cell_type": "markdown",
   "metadata": {},
   "source": [
    "## NNLM Model"
   ]
  },
  {
   "cell_type": "markdown",
   "metadata": {},
   "source": [
    "We will first try a word embedding pre-trained using a [Neural Probabilistic Language Model](http://www.jmlr.org/papers/volume3/bengio03a/bengio03a.pdf). TF-Hub has a 50-dimensional one called \n",
    "[nnlm-en-dim50-with-normalization](https://tfhub.dev/google/tf2-preview/nnlm-en-dim50/1), which also\n",
    "normalizes the vectors produced. \n",
    "\n",
    "Once loaded from its url, the TF-hub module can be used as a normal Keras layer in a sequential or functional model. Since we have enough data to fine-tune the parameters of the pre-trained embedding itself, we will set `trainable=True` in the `KerasLayer` that loads the pre-trained embedding:"
   ]
  },
  {
   "cell_type": "code",
   "execution_count": 40,
   "metadata": {},
   "outputs": [],
   "source": [
    "NNLM = \"https://tfhub.dev/google/nnlm-en-dim50/2\"\n",
    "\n",
    "nnlm_module = KerasLayer(\n",
    "    NNLM, output_shape=[50], input_shape=[], dtype=tf.string, trainable=True)"
   ]
  },
  {
   "cell_type": "markdown",
   "metadata": {},
   "source": [
    "Note that this TF-Hub embedding produces a single 50-dimensional vector when passed a sentence:"
   ]
  },
  {
   "cell_type": "code",
   "execution_count": 41,
   "metadata": {},
   "outputs": [
    {
     "name": "stdout",
     "output_type": "stream",
     "text": [
      "WARNING:tensorflow:5 out of the last 5 calls to <function recreate_function.<locals>.restored_function_body at 0x7f336093e440> triggered tf.function retracing. Tracing is expensive and the excessive number of tracings could be due to (1) creating @tf.function repeatedly in a loop, (2) passing tensors with different shapes, (3) passing Python objects instead of tensors. For (1), please define your @tf.function outside of the loop. For (2), @tf.function has experimental_relax_shapes=True option that relaxes argument shapes that can avoid unnecessary retracing. For (3), please refer to https://www.tensorflow.org/tutorials/customization/performance#python_or_tensor_args and https://www.tensorflow.org/api_docs/python/tf/function for  more details.\n"
     ]
    },
    {
     "name": "stderr",
     "output_type": "stream",
     "text": [
      "WARNING:tensorflow:5 out of the last 5 calls to <function recreate_function.<locals>.restored_function_body at 0x7f336093e440> triggered tf.function retracing. Tracing is expensive and the excessive number of tracings could be due to (1) creating @tf.function repeatedly in a loop, (2) passing tensors with different shapes, (3) passing Python objects instead of tensors. For (1), please define your @tf.function outside of the loop. For (2), @tf.function has experimental_relax_shapes=True option that relaxes argument shapes that can avoid unnecessary retracing. For (3), please refer to https://www.tensorflow.org/tutorials/customization/performance#python_or_tensor_args and https://www.tensorflow.org/api_docs/python/tf/function for  more details.\n"
     ]
    },
    {
     "data": {
      "text/plain": [
       "<tf.Tensor: shape=(1, 50), dtype=float32, numpy=\n",
       "array([[ 0.19331802,  0.05893906,  0.15330684,  0.2505918 ,  0.19369544,\n",
       "         0.03578748,  0.07387847, -0.10962156, -0.11377034,  0.07172022,\n",
       "         0.12458669, -0.02289705, -0.18177685, -0.07084437, -0.00225849,\n",
       "        -0.36875236,  0.05772953, -0.14222091,  0.08765972, -0.14068899,\n",
       "        -0.07005888, -0.20634466,  0.07220475,  0.04258814,  0.0955702 ,\n",
       "         0.19424029, -0.42492998, -0.00706906, -0.02095   , -0.05055764,\n",
       "        -0.18988201, -0.02841404,  0.13222624, -0.01459922, -0.31255388,\n",
       "        -0.09577855,  0.05469003, -0.13858607,  0.01141668, -0.12352604,\n",
       "        -0.07250367, -0.11605677, -0.06976165,  0.14313601, -0.15183711,\n",
       "        -0.06836402,  0.03054246, -0.13259597, -0.14599673,  0.05094011]],\n",
       "      dtype=float32)>"
      ]
     },
     "execution_count": 41,
     "metadata": {},
     "output_type": "execute_result"
    }
   ],
   "source": [
    "nnlm_module(tf.constant([\"The dog is happy to see people in the street.\"]))"
   ]
  },
  {
   "cell_type": "markdown",
   "metadata": {},
   "source": [
    "## Building the models"
   ]
  },
  {
   "cell_type": "markdown",
   "metadata": {},
   "source": [
    "Let's write a function that \n",
    "\n",
    "* takes as input an instance of a `KerasLayer` (i.e. the `nnlm_module` we constructed above) as well as the name of the model (say `nnlm`)\n",
    "* returns a compiled Keras sequential model starting with this pre-trained TF-hub layer, adding one or more dense relu layers to it, and ending with a softmax layer giving the probability of each of the classes:"
   ]
  },
  {
   "cell_type": "code",
   "execution_count": 63,
   "metadata": {},
   "outputs": [],
   "source": [
    "def build_model(hub_module, name):\n",
    "    model = Sequential([\n",
    "        hub_module, # TODO \n",
    "        Dense(32, activation='relu'),\n",
    "        Dense(N_CLASSES, activation='softmax')\n",
    "    ], name=name)\n",
    "\n",
    "    model.compile(\n",
    "        optimizer=tf.keras.optimizers.Adam(lr = 0.0001,beta_1 =0.5),\n",
    "        loss='categorical_crossentropy',\n",
    "        metrics=['accuracy']\n",
    "    )\n",
    "    return model"
   ]
  },
  {
   "cell_type": "markdown",
   "metadata": {},
   "source": [
    "Let's also wrap the training code into a `train_and_evaluate` function that \n",
    "* takes as input the training and validation data, as well as the compiled model itself, and the `batch_size`\n",
    "* trains the compiled model for 100 epochs at most, and does early-stopping when the validation loss is no longer decreasing\n",
    "* returns an `history` object, which will help us to plot the learning curves"
   ]
  },
  {
   "cell_type": "code",
   "execution_count": 64,
   "metadata": {},
   "outputs": [
    {
     "name": "stdout",
     "output_type": "stream",
     "text": [
      "The tensorboard extension is already loaded. To reload it, use:\n",
      "  %reload_ext tensorboard\n"
     ]
    }
   ],
   "source": [
    "# Load the TensorBoard notebook extension\n",
    "%load_ext tensorboard"
   ]
  },
  {
   "cell_type": "code",
   "execution_count": 65,
   "metadata": {},
   "outputs": [],
   "source": [
    "def train_and_evaluate(train_data, val_data, model, batch_size=8000):\n",
    "    X_train, Y_train = train_data\n",
    "\n",
    "    tf.random.set_seed(33)\n",
    "\n",
    "    model_dir = os.path.join(MODEL_DIR, model.name)\n",
    "    if tf.io.gfile.exists(model_dir):\n",
    "        tf.io.gfile.rmtree(model_dir)\n",
    "\n",
    "    history = model.fit(\n",
    "        X_train, Y_train,\n",
    "        epochs=100,\n",
    "        batch_size=batch_size,\n",
    "        validation_data=val_data,\n",
    "        callbacks=[EarlyStopping(),TensorBoard(model_dir)],\n",
    "    )\n",
    "    return history"
   ]
  },
  {
   "cell_type": "markdown",
   "metadata": {},
   "source": [
    "## Training NNLM"
   ]
  },
  {
   "cell_type": "code",
   "execution_count": 66,
   "metadata": {},
   "outputs": [],
   "source": [
    "data = (X_train, Y_train)\n",
    "val_data = (X_valid, Y_valid)"
   ]
  },
  {
   "cell_type": "code",
   "execution_count": null,
   "metadata": {},
   "outputs": [],
   "source": []
  },
  {
   "cell_type": "code",
   "execution_count": 67,
   "metadata": {},
   "outputs": [
    {
     "name": "stdout",
     "output_type": "stream",
     "text": [
      "Epoch 1/100\n",
      "12/12 [==============================] - 4s 367ms/step - loss: 1.1248 - accuracy: 0.3543 - val_loss: 1.1088 - val_accuracy: 0.3602\n",
      "Epoch 2/100\n",
      "12/12 [==============================] - 4s 340ms/step - loss: 1.0867 - accuracy: 0.3857 - val_loss: 1.0749 - val_accuracy: 0.3920\n",
      "Epoch 3/100\n",
      "12/12 [==============================] - 4s 363ms/step - loss: 1.0499 - accuracy: 0.4245 - val_loss: 1.0423 - val_accuracy: 0.4332\n",
      "Epoch 4/100\n",
      "12/12 [==============================] - 4s 331ms/step - loss: 1.0145 - accuracy: 0.4722 - val_loss: 1.0110 - val_accuracy: 0.4814\n",
      "Epoch 5/100\n",
      "12/12 [==============================] - 4s 350ms/step - loss: 0.9804 - accuracy: 0.5340 - val_loss: 0.9809 - val_accuracy: 0.5492\n",
      "Epoch 6/100\n",
      "12/12 [==============================] - 4s 338ms/step - loss: 0.9475 - accuracy: 0.6079 - val_loss: 0.9519 - val_accuracy: 0.6161\n",
      "Epoch 7/100\n",
      "12/12 [==============================] - 4s 332ms/step - loss: 0.9157 - accuracy: 0.6786 - val_loss: 0.9239 - val_accuracy: 0.6708\n",
      "Epoch 8/100\n",
      "12/12 [==============================] - 4s 331ms/step - loss: 0.8849 - accuracy: 0.7340 - val_loss: 0.8970 - val_accuracy: 0.7078\n",
      "Epoch 9/100\n",
      "12/12 [==============================] - 4s 330ms/step - loss: 0.8553 - accuracy: 0.7759 - val_loss: 0.8712 - val_accuracy: 0.7398\n",
      "Epoch 10/100\n",
      "12/12 [==============================] - 4s 330ms/step - loss: 0.8268 - accuracy: 0.8064 - val_loss: 0.8464 - val_accuracy: 0.7599\n",
      "Epoch 11/100\n",
      "12/12 [==============================] - 4s 346ms/step - loss: 0.7993 - accuracy: 0.8289 - val_loss: 0.8227 - val_accuracy: 0.7730\n",
      "Epoch 12/100\n",
      "12/12 [==============================] - 4s 342ms/step - loss: 0.7729 - accuracy: 0.8453 - val_loss: 0.8000 - val_accuracy: 0.7813\n",
      "Epoch 13/100\n",
      "12/12 [==============================] - 4s 343ms/step - loss: 0.7475 - accuracy: 0.8583 - val_loss: 0.7784 - val_accuracy: 0.7890\n",
      "Epoch 14/100\n",
      "12/12 [==============================] - 4s 339ms/step - loss: 0.7232 - accuracy: 0.8692 - val_loss: 0.7577 - val_accuracy: 0.7953\n",
      "Epoch 15/100\n",
      "12/12 [==============================] - 4s 332ms/step - loss: 0.7000 - accuracy: 0.8772 - val_loss: 0.7381 - val_accuracy: 0.7996\n",
      "Epoch 16/100\n",
      "12/12 [==============================] - 4s 326ms/step - loss: 0.6778 - accuracy: 0.8832 - val_loss: 0.7195 - val_accuracy: 0.8048\n",
      "Epoch 17/100\n",
      "12/12 [==============================] - 4s 327ms/step - loss: 0.6566 - accuracy: 0.8884 - val_loss: 0.7018 - val_accuracy: 0.8086\n",
      "Epoch 18/100\n",
      "12/12 [==============================] - 4s 335ms/step - loss: 0.6364 - accuracy: 0.8934 - val_loss: 0.6851 - val_accuracy: 0.8133\n",
      "Epoch 19/100\n",
      "12/12 [==============================] - 4s 339ms/step - loss: 0.6171 - accuracy: 0.8971 - val_loss: 0.6692 - val_accuracy: 0.8179\n",
      "Epoch 20/100\n",
      "12/12 [==============================] - 4s 333ms/step - loss: 0.5987 - accuracy: 0.9005 - val_loss: 0.6541 - val_accuracy: 0.8198\n",
      "Epoch 21/100\n",
      "12/12 [==============================] - 4s 332ms/step - loss: 0.5812 - accuracy: 0.9034 - val_loss: 0.6399 - val_accuracy: 0.8217\n",
      "Epoch 22/100\n",
      "12/12 [==============================] - 4s 347ms/step - loss: 0.5646 - accuracy: 0.9059 - val_loss: 0.6265 - val_accuracy: 0.8231\n",
      "Epoch 23/100\n",
      "12/12 [==============================] - 4s 331ms/step - loss: 0.5487 - accuracy: 0.9078 - val_loss: 0.6138 - val_accuracy: 0.8235\n",
      "Epoch 24/100\n",
      "12/12 [==============================] - 4s 332ms/step - loss: 0.5335 - accuracy: 0.9095 - val_loss: 0.6018 - val_accuracy: 0.8256\n",
      "Epoch 25/100\n",
      "12/12 [==============================] - 4s 331ms/step - loss: 0.5191 - accuracy: 0.9114 - val_loss: 0.5904 - val_accuracy: 0.8279\n",
      "Epoch 26/100\n",
      "12/12 [==============================] - 4s 333ms/step - loss: 0.5054 - accuracy: 0.9129 - val_loss: 0.5797 - val_accuracy: 0.8287\n",
      "Epoch 27/100\n",
      "12/12 [==============================] - 4s 336ms/step - loss: 0.4924 - accuracy: 0.9145 - val_loss: 0.5696 - val_accuracy: 0.8289\n",
      "Epoch 28/100\n",
      "12/12 [==============================] - 4s 343ms/step - loss: 0.4800 - accuracy: 0.9158 - val_loss: 0.5600 - val_accuracy: 0.8300\n",
      "Epoch 29/100\n",
      "12/12 [==============================] - 4s 324ms/step - loss: 0.4681 - accuracy: 0.9168 - val_loss: 0.5510 - val_accuracy: 0.8306\n",
      "Epoch 30/100\n",
      "12/12 [==============================] - 4s 330ms/step - loss: 0.4569 - accuracy: 0.9177 - val_loss: 0.5425 - val_accuracy: 0.8306\n",
      "Epoch 31/100\n",
      "12/12 [==============================] - 4s 339ms/step - loss: 0.4462 - accuracy: 0.9185 - val_loss: 0.5345 - val_accuracy: 0.8306\n",
      "Epoch 32/100\n",
      "12/12 [==============================] - 4s 322ms/step - loss: 0.4360 - accuracy: 0.9192 - val_loss: 0.5269 - val_accuracy: 0.8312\n",
      "Epoch 33/100\n",
      "12/12 [==============================] - 4s 334ms/step - loss: 0.4263 - accuracy: 0.9202 - val_loss: 0.5198 - val_accuracy: 0.8316\n",
      "Epoch 34/100\n",
      "12/12 [==============================] - 4s 338ms/step - loss: 0.4170 - accuracy: 0.9211 - val_loss: 0.5130 - val_accuracy: 0.8310\n",
      "Epoch 35/100\n",
      "12/12 [==============================] - 4s 338ms/step - loss: 0.4082 - accuracy: 0.9221 - val_loss: 0.5067 - val_accuracy: 0.8314\n",
      "Epoch 36/100\n",
      "12/12 [==============================] - 4s 334ms/step - loss: 0.3997 - accuracy: 0.9226 - val_loss: 0.5007 - val_accuracy: 0.8323\n",
      "Epoch 37/100\n",
      "12/12 [==============================] - 4s 338ms/step - loss: 0.3917 - accuracy: 0.9230 - val_loss: 0.4950 - val_accuracy: 0.8327\n",
      "Epoch 38/100\n",
      "12/12 [==============================] - 4s 332ms/step - loss: 0.3840 - accuracy: 0.9237 - val_loss: 0.4897 - val_accuracy: 0.8331\n",
      "Epoch 39/100\n",
      "12/12 [==============================] - 4s 372ms/step - loss: 0.3766 - accuracy: 0.9242 - val_loss: 0.4846 - val_accuracy: 0.8325\n",
      "Epoch 40/100\n",
      "12/12 [==============================] - 4s 337ms/step - loss: 0.3696 - accuracy: 0.9250 - val_loss: 0.4799 - val_accuracy: 0.8325\n",
      "Epoch 41/100\n",
      "12/12 [==============================] - 4s 338ms/step - loss: 0.3629 - accuracy: 0.9254 - val_loss: 0.4753 - val_accuracy: 0.8331\n",
      "Epoch 42/100\n",
      "12/12 [==============================] - 4s 336ms/step - loss: 0.3564 - accuracy: 0.9259 - val_loss: 0.4711 - val_accuracy: 0.8329\n",
      "Epoch 43/100\n",
      "12/12 [==============================] - 4s 336ms/step - loss: 0.3502 - accuracy: 0.9264 - val_loss: 0.4671 - val_accuracy: 0.8337\n",
      "Epoch 44/100\n",
      "12/12 [==============================] - 4s 332ms/step - loss: 0.3443 - accuracy: 0.9265 - val_loss: 0.4633 - val_accuracy: 0.8329\n",
      "Epoch 45/100\n",
      "12/12 [==============================] - 4s 326ms/step - loss: 0.3386 - accuracy: 0.9268 - val_loss: 0.4596 - val_accuracy: 0.8331\n",
      "Epoch 46/100\n",
      "12/12 [==============================] - 4s 338ms/step - loss: 0.3331 - accuracy: 0.9271 - val_loss: 0.4562 - val_accuracy: 0.8329\n",
      "Epoch 47/100\n",
      "12/12 [==============================] - 4s 336ms/step - loss: 0.3279 - accuracy: 0.9275 - val_loss: 0.4530 - val_accuracy: 0.8335\n",
      "Epoch 48/100\n",
      "12/12 [==============================] - 4s 337ms/step - loss: 0.3228 - accuracy: 0.9280 - val_loss: 0.4500 - val_accuracy: 0.8335\n",
      "Epoch 49/100\n",
      "12/12 [==============================] - 4s 333ms/step - loss: 0.3180 - accuracy: 0.9282 - val_loss: 0.4472 - val_accuracy: 0.8331\n",
      "Epoch 50/100\n",
      "12/12 [==============================] - 4s 332ms/step - loss: 0.3133 - accuracy: 0.9287 - val_loss: 0.4445 - val_accuracy: 0.8331\n",
      "Epoch 51/100\n",
      "12/12 [==============================] - 4s 331ms/step - loss: 0.3088 - accuracy: 0.9291 - val_loss: 0.4419 - val_accuracy: 0.8339\n",
      "Epoch 52/100\n",
      "12/12 [==============================] - 4s 333ms/step - loss: 0.3045 - accuracy: 0.9294 - val_loss: 0.4395 - val_accuracy: 0.8341\n",
      "Epoch 53/100\n",
      "12/12 [==============================] - 4s 341ms/step - loss: 0.3003 - accuracy: 0.9296 - val_loss: 0.4372 - val_accuracy: 0.8339\n",
      "Epoch 54/100\n",
      "12/12 [==============================] - 4s 350ms/step - loss: 0.2963 - accuracy: 0.9300 - val_loss: 0.4351 - val_accuracy: 0.8352\n",
      "Epoch 55/100\n",
      "12/12 [==============================] - 4s 330ms/step - loss: 0.2924 - accuracy: 0.9304 - val_loss: 0.4331 - val_accuracy: 0.8352\n",
      "Epoch 56/100\n",
      "12/12 [==============================] - 4s 341ms/step - loss: 0.2887 - accuracy: 0.9307 - val_loss: 0.4312 - val_accuracy: 0.8348\n",
      "Epoch 57/100\n",
      "12/12 [==============================] - 4s 339ms/step - loss: 0.2850 - accuracy: 0.9307 - val_loss: 0.4295 - val_accuracy: 0.8343\n",
      "Epoch 58/100\n",
      "12/12 [==============================] - 4s 344ms/step - loss: 0.2815 - accuracy: 0.9312 - val_loss: 0.4278 - val_accuracy: 0.8341\n",
      "Epoch 59/100\n",
      "12/12 [==============================] - 4s 335ms/step - loss: 0.2782 - accuracy: 0.9313 - val_loss: 0.4262 - val_accuracy: 0.8341\n",
      "Epoch 60/100\n",
      "12/12 [==============================] - 4s 339ms/step - loss: 0.2749 - accuracy: 0.9315 - val_loss: 0.4248 - val_accuracy: 0.8343\n",
      "Epoch 61/100\n",
      "12/12 [==============================] - 4s 333ms/step - loss: 0.2717 - accuracy: 0.9320 - val_loss: 0.4234 - val_accuracy: 0.8345\n",
      "Epoch 62/100\n",
      "12/12 [==============================] - 4s 337ms/step - loss: 0.2686 - accuracy: 0.9323 - val_loss: 0.4221 - val_accuracy: 0.8348\n",
      "Epoch 63/100\n",
      "12/12 [==============================] - 4s 332ms/step - loss: 0.2657 - accuracy: 0.9325 - val_loss: 0.4209 - val_accuracy: 0.8345\n",
      "Epoch 64/100\n",
      "12/12 [==============================] - 4s 329ms/step - loss: 0.2628 - accuracy: 0.9328 - val_loss: 0.4198 - val_accuracy: 0.8343\n",
      "Epoch 65/100\n",
      "12/12 [==============================] - 4s 334ms/step - loss: 0.2600 - accuracy: 0.9329 - val_loss: 0.4187 - val_accuracy: 0.8348\n",
      "Epoch 66/100\n",
      "12/12 [==============================] - 4s 359ms/step - loss: 0.2573 - accuracy: 0.9332 - val_loss: 0.4178 - val_accuracy: 0.8343\n",
      "Epoch 67/100\n",
      "12/12 [==============================] - 4s 340ms/step - loss: 0.2546 - accuracy: 0.9334 - val_loss: 0.4168 - val_accuracy: 0.8348\n",
      "Epoch 68/100\n",
      "12/12 [==============================] - 4s 346ms/step - loss: 0.2521 - accuracy: 0.9337 - val_loss: 0.4160 - val_accuracy: 0.8343\n",
      "Epoch 69/100\n",
      "12/12 [==============================] - 4s 327ms/step - loss: 0.2496 - accuracy: 0.9340 - val_loss: 0.4152 - val_accuracy: 0.8350\n",
      "Epoch 70/100\n",
      "12/12 [==============================] - 4s 348ms/step - loss: 0.2472 - accuracy: 0.9341 - val_loss: 0.4145 - val_accuracy: 0.8350\n",
      "Epoch 71/100\n",
      "12/12 [==============================] - 4s 366ms/step - loss: 0.2448 - accuracy: 0.9343 - val_loss: 0.4139 - val_accuracy: 0.8352\n",
      "Epoch 72/100\n",
      "12/12 [==============================] - 4s 350ms/step - loss: 0.2426 - accuracy: 0.9345 - val_loss: 0.4133 - val_accuracy: 0.8350\n",
      "Epoch 73/100\n",
      "12/12 [==============================] - 4s 348ms/step - loss: 0.2403 - accuracy: 0.9348 - val_loss: 0.4127 - val_accuracy: 0.8350\n",
      "Epoch 74/100\n",
      "12/12 [==============================] - 4s 351ms/step - loss: 0.2382 - accuracy: 0.9349 - val_loss: 0.4122 - val_accuracy: 0.8350\n",
      "Epoch 75/100\n",
      "12/12 [==============================] - 4s 333ms/step - loss: 0.2361 - accuracy: 0.9352 - val_loss: 0.4118 - val_accuracy: 0.8352\n",
      "Epoch 76/100\n",
      "12/12 [==============================] - 4s 357ms/step - loss: 0.2340 - accuracy: 0.9355 - val_loss: 0.4114 - val_accuracy: 0.8348\n",
      "Epoch 77/100\n",
      "12/12 [==============================] - 4s 349ms/step - loss: 0.2320 - accuracy: 0.9357 - val_loss: 0.4110 - val_accuracy: 0.8348\n",
      "Epoch 78/100\n",
      "12/12 [==============================] - 4s 336ms/step - loss: 0.2300 - accuracy: 0.9358 - val_loss: 0.4107 - val_accuracy: 0.8345\n",
      "Epoch 79/100\n",
      "12/12 [==============================] - 4s 369ms/step - loss: 0.2281 - accuracy: 0.9362 - val_loss: 0.4105 - val_accuracy: 0.8341\n",
      "Epoch 80/100\n",
      "12/12 [==============================] - 4s 366ms/step - loss: 0.2263 - accuracy: 0.9364 - val_loss: 0.4102 - val_accuracy: 0.8350\n",
      "Epoch 81/100\n",
      "12/12 [==============================] - 4s 340ms/step - loss: 0.2245 - accuracy: 0.9367 - val_loss: 0.4101 - val_accuracy: 0.8348\n",
      "Epoch 82/100\n",
      "12/12 [==============================] - 4s 339ms/step - loss: 0.2227 - accuracy: 0.9369 - val_loss: 0.4099 - val_accuracy: 0.8350\n",
      "Epoch 83/100\n",
      "12/12 [==============================] - 4s 360ms/step - loss: 0.2210 - accuracy: 0.9372 - val_loss: 0.4098 - val_accuracy: 0.8350\n",
      "Epoch 84/100\n",
      "12/12 [==============================] - 4s 336ms/step - loss: 0.2193 - accuracy: 0.9374 - val_loss: 0.4097 - val_accuracy: 0.8352\n",
      "Epoch 85/100\n",
      "12/12 [==============================] - 4s 355ms/step - loss: 0.2176 - accuracy: 0.9378 - val_loss: 0.4097 - val_accuracy: 0.8350\n",
      "Epoch 86/100\n",
      "12/12 [==============================] - 4s 327ms/step - loss: 0.2160 - accuracy: 0.9378 - val_loss: 0.4097 - val_accuracy: 0.8352\n",
      "Epoch 87/100\n",
      "12/12 [==============================] - 4s 353ms/step - loss: 0.2144 - accuracy: 0.9381 - val_loss: 0.4097 - val_accuracy: 0.8352\n"
     ]
    }
   ],
   "source": [
    "nnlm_model = build_model(nnlm_module, 'nnlm')\n",
    "nnlm_history = train_and_evaluate(data, val_data, nnlm_model)"
   ]
  },
  {
   "cell_type": "code",
   "execution_count": 68,
   "metadata": {},
   "outputs": [
    {
     "data": {
      "text/plain": [
       "<AxesSubplot:>"
      ]
     },
     "execution_count": 68,
     "metadata": {},
     "output_type": "execute_result"
    },
    {
     "data": {
      "image/png": "[encoded data removed]",
      "text/plain": [
       "<Figure size 432x288 with 1 Axes>"
      ]
     },
     "metadata": {
      "needs_background": "light"
     },
     "output_type": "display_data"
    },
    {
     "data": {
      "image/png": "[encoded data removed]",
      "text/plain": [
       "<Figure size 432x288 with 1 Axes>"
      ]
     },
     "metadata": {
      "needs_background": "light"
     },
     "output_type": "display_data"
    }
   ],
   "source": [
    "history = nnlm_history\n",
    "pd.DataFrame(history.history)[['loss', 'val_loss']].plot()\n",
    "pd.DataFrame(history.history)[['accuracy', 'val_accuracy']].plot()"
   ]
  },
  {
   "cell_type": "markdown",
   "metadata": {},
   "source": [
    "## Bonus"
   ]
  },
  {
   "cell_type": "markdown",
   "metadata": {},
   "source": [
    "Try to beat the best model by modifying the model architecture, changing the TF-Hub embedding, and tweaking the training parameters."
   ]
  },
  {
   "cell_type": "markdown",
   "metadata": {},
   "source": [
    "Copyright 2020 Google Inc. Licensed under the Apache License, Version 2.0 (the \"License\"); you may not use this file except in compliance with the License. You may obtain a copy of the License at http://www.apache.org/licenses/LICENSE-2.0 Unless required by applicable law or agreed to in writing, software distributed under the License is distributed on an \"AS IS\" BASIS, WITHOUT WARRANTIES OR CONDITIONS OF ANY KIND, either express or implied. See the License for the specific language governing permissions and limitations under the License"
   ]
  }
 ],
 "metadata": {
  "environment": {
   "name": "tf2-2-3-gpu.2-3.m59",
   "type": "gcloud",
   "uri": "gcr.io/deeplearning-platform-release/tf2-2-3-gpu.2-3:m59"
  },
  "kernelspec": {
   "display_name": "Python 3",
   "language": "python",
   "name": "python3"
  },
  "language_info": {
   "codemirror_mode": {
    "name": "ipython",
    "version": 3
   },
   "file_extension": ".py",
   "mimetype": "text/x-python",
   "name": "python",
   "nbconvert_exporter": "python",
   "pygments_lexer": "ipython3",
   "version": "3.7.8"
  }
 },
 "nbformat": 4,
 "nbformat_minor": 4
}

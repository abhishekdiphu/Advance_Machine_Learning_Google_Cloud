{
 "cells": [
  {
   "cell_type": "markdown",
   "metadata": {},
   "source": [
    "# Time Series Prediction\n",
    "\n",
    "**Objectives**\n",
    " 1. Build a linear, DNN and CNN model in Keras.\n",
    " 2. Build a simple RNN model and a multi-layer RNN model in Keras.\n",
    " \n",
    "In this lab we will with a linear, DNN and CNN model \n",
    "\n",
    "Since the features of our model are sequential in nature, we'll next look at how to build various RNN models in Keras. We'll start with a simple RNN model and then see how to create a multi-layer RNN in Keras.\n",
    "\n",
    "We will be exploring a lot of different model types in this notebook.\n"
   ]
  },
  {
   "cell_type": "code",
   "execution_count": 1,
   "metadata": {
    "colab": {},
    "colab_type": "code",
    "id": "Nny3m465gKkY"
   },
   "outputs": [],
   "source": [
    "!sudo chown -R jupyter:jupyter /home/jupyter/training-data-analyst"
   ]
  },
  {
   "cell_type": "code",
   "execution_count": 2,
   "metadata": {},
   "outputs": [
    {
     "name": "stdout",
     "output_type": "stream",
     "text": [
      "Collecting google-cloud-bigquery==1.25.0\n",
      "  Downloading google_cloud_bigquery-1.25.0-py2.py3-none-any.whl (169 kB)\n",
      "\u001b[K     |████████████████████████████████| 169 kB 7.9 MB/s eta 0:00:01\n",
      "\u001b[?25hRequirement already satisfied: six<2.0.0dev,>=1.13.0 in /opt/conda/lib/python3.7/site-packages (from google-cloud-bigquery==1.25.0) (1.15.0)\n",
      "Requirement already satisfied: protobuf>=3.6.0 in /opt/conda/lib/python3.7/site-packages (from google-cloud-bigquery==1.25.0) (3.13.0)\n",
      "Requirement already satisfied: google-auth<2.0dev,>=1.9.0 in /opt/conda/lib/python3.7/site-packages (from google-cloud-bigquery==1.25.0) (1.23.0)\n",
      "Collecting google-resumable-media<0.6dev,>=0.5.0\n",
      "  Downloading google_resumable_media-0.5.1-py2.py3-none-any.whl (38 kB)\n",
      "Requirement already satisfied: google-cloud-core<2.0dev,>=1.1.0 in /opt/conda/lib/python3.7/site-packages (from google-cloud-bigquery==1.25.0) (1.3.0)\n",
      "Requirement already satisfied: google-api-core<2.0dev,>=1.15.0 in /opt/conda/lib/python3.7/site-packages (from google-cloud-bigquery==1.25.0) (1.22.4)\n",
      "Requirement already satisfied: setuptools in /opt/conda/lib/python3.7/site-packages (from protobuf>=3.6.0->google-cloud-bigquery==1.25.0) (50.3.2)\n",
      "Requirement already satisfied: cachetools<5.0,>=2.0.0 in /opt/conda/lib/python3.7/site-packages (from google-auth<2.0dev,>=1.9.0->google-cloud-bigquery==1.25.0) (4.1.1)\n",
      "Requirement already satisfied: pyasn1-modules>=0.2.1 in /opt/conda/lib/python3.7/site-packages (from google-auth<2.0dev,>=1.9.0->google-cloud-bigquery==1.25.0) (0.2.8)\n",
      "Requirement already satisfied: rsa<5,>=3.1.4; python_version >= \"3.5\" in /opt/conda/lib/python3.7/site-packages (from google-auth<2.0dev,>=1.9.0->google-cloud-bigquery==1.25.0) (4.6)\n",
      "Requirement already satisfied: pytz in /opt/conda/lib/python3.7/site-packages (from google-api-core<2.0dev,>=1.15.0->google-cloud-bigquery==1.25.0) (2020.4)\n",
      "Requirement already satisfied: googleapis-common-protos<2.0dev,>=1.6.0 in /opt/conda/lib/python3.7/site-packages (from google-api-core<2.0dev,>=1.15.0->google-cloud-bigquery==1.25.0) (1.52.0)\n",
      "Requirement already satisfied: requests<3.0.0dev,>=2.18.0 in /opt/conda/lib/python3.7/site-packages (from google-api-core<2.0dev,>=1.15.0->google-cloud-bigquery==1.25.0) (2.24.0)\n",
      "Requirement already satisfied: pyasn1<0.5.0,>=0.4.6 in /opt/conda/lib/python3.7/site-packages (from pyasn1-modules>=0.2.1->google-auth<2.0dev,>=1.9.0->google-cloud-bigquery==1.25.0) (0.4.8)\n",
      "Requirement already satisfied: certifi>=2017.4.17 in /opt/conda/lib/python3.7/site-packages (from requests<3.0.0dev,>=2.18.0->google-api-core<2.0dev,>=1.15.0->google-cloud-bigquery==1.25.0) (2020.11.8)\n",
      "Requirement already satisfied: urllib3!=1.25.0,!=1.25.1,<1.26,>=1.21.1 in /opt/conda/lib/python3.7/site-packages (from requests<3.0.0dev,>=2.18.0->google-api-core<2.0dev,>=1.15.0->google-cloud-bigquery==1.25.0) (1.25.11)\n",
      "Requirement already satisfied: idna<3,>=2.5 in /opt/conda/lib/python3.7/site-packages (from requests<3.0.0dev,>=2.18.0->google-api-core<2.0dev,>=1.15.0->google-cloud-bigquery==1.25.0) (2.10)\n",
      "Requirement already satisfied: chardet<4,>=3.0.2 in /opt/conda/lib/python3.7/site-packages (from requests<3.0.0dev,>=2.18.0->google-api-core<2.0dev,>=1.15.0->google-cloud-bigquery==1.25.0) (3.0.4)\n",
      "Installing collected packages: google-resumable-media, google-cloud-bigquery\n",
      "\u001b[31mERROR: After October 2020 you may experience errors when installing or updating packages. This is because pip will change the way that it resolves dependency conflicts.\n",
      "\n",
      "We recommend you use --use-feature=2020-resolver to test your packages with the new resolver before it becomes the default.\n",
      "\n",
      "tfx 0.23.0 requires attrs<20,>=19.3.0, but you'll have attrs 20.3.0 which is incompatible.\n",
      "tfx 0.23.0 requires google-resumable-media<0.7.0,>=0.6.0, but you'll have google-resumable-media 0.5.1 which is incompatible.\n",
      "tfx 0.23.0 requires kubernetes<12,>=10.0.1, but you'll have kubernetes 12.0.0 which is incompatible.\n",
      "tfx 0.23.0 requires pyarrow<0.18,>=0.17, but you'll have pyarrow 2.0.0 which is incompatible.\n",
      "google-cloud-storage 1.30.0 requires google-resumable-media<2.0dev,>=0.6.0, but you'll have google-resumable-media 0.5.1 which is incompatible.\u001b[0m\n",
      "Successfully installed google-cloud-bigquery-1.25.0 google-resumable-media-0.5.1\n"
     ]
    }
   ],
   "source": [
    "!pip install --user google-cloud-bigquery==1.25.0"
   ]
  },
  {
   "cell_type": "markdown",
   "metadata": {},
   "source": [
    "**Note**: Restart your kernel to use updated packages."
   ]
  },
  {
   "cell_type": "markdown",
   "metadata": {},
   "source": [
    "Kindly ignore the deprecation warnings and incompatibility errors related to google-cloud-storage."
   ]
  },
  {
   "cell_type": "markdown",
   "metadata": {},
   "source": [
    "## Load necessary libraries and set up environment variables"
   ]
  },
  {
   "cell_type": "code",
   "execution_count": 3,
   "metadata": {},
   "outputs": [],
   "source": [
    "PROJECT = \"qwiklabs-gcp-04-61ae09ee3a9c\" # REPLACE WITH YOUR PROJECT NAME\n",
    "BUCKET = \"qwiklabs-gcp-04-61ae09ee3a9c\" # REPLACE WITH YOUR BUCKET\n",
    "REGION = \"us-central1\" # REPLACE WITH YOUR BUCKET REGION e.g. us-central1"
   ]
  },
  {
   "cell_type": "code",
   "execution_count": 4,
   "metadata": {},
   "outputs": [],
   "source": [
    "%env \n",
    "PROJECT = PROJECT\n",
    "BUCKET = BUCKET\n",
    "REGION = REGION"
   ]
  },
  {
   "cell_type": "code",
   "execution_count": 5,
   "metadata": {},
   "outputs": [],
   "source": [
    "import os\n",
    "\n",
    "import matplotlib as mpl\n",
    "import matplotlib.pyplot as plt\n",
    "import numpy as np\n",
    "import pandas as pd\n",
    "import tensorflow as tf\n",
    "\n",
    "from google.cloud import bigquery\n",
    "from tensorflow.keras.utils import to_categorical\n",
    "from tensorflow.keras.models import Sequential\n",
    "from tensorflow.keras.layers import (Dense, DenseFeatures,\n",
    "                                     Conv1D, MaxPool1D,\n",
    "                                     Reshape, RNN,\n",
    "                                     LSTM, GRU, Bidirectional)\n",
    "from tensorflow.keras.callbacks import TensorBoard, ModelCheckpoint\n",
    "from tensorflow.keras.optimizers import Adam\n",
    "\n",
    "# To plot pretty figures\n",
    "%matplotlib inline\n",
    "mpl.rc('axes', labelsize=14)\n",
    "mpl.rc('xtick', labelsize=12)\n",
    "mpl.rc('ytick', labelsize=12)\n",
    "\n",
    "# For reproducible results.\n",
    "from numpy.random import seed\n",
    "seed(1)\n",
    "tf.random.set_seed(2)"
   ]
  },
  {
   "cell_type": "markdown",
   "metadata": {},
   "source": [
    "## Explore time series data\n",
    "\n",
    "We'll start by pulling a small sample of the time series data from Big Query and write some helper functions to clean up the data for modeling. We'll use the data from the `percent_change_sp500` table in BigQuery. The `close_values_prior_260` column contains the close values for any given stock for the previous 260 days. "
   ]
  },
  {
   "cell_type": "code",
   "execution_count": 6,
   "metadata": {},
   "outputs": [
    {
     "name": "stdout",
     "output_type": "stream",
     "text": [
      "CPU times: user 8.83 ms, sys: 112 µs, total: 8.94 ms\n",
      "Wall time: 15.9 ms\n"
     ]
    }
   ],
   "source": [
    "%%time\n",
    "bq = bigquery.Client(project=PROJECT)\n",
    "\n",
    "bq_query = '''\n",
    "#standardSQL\n",
    "SELECT\n",
    "  symbol,\n",
    "  Date,\n",
    "  direction,\n",
    "  close_values_prior_260\n",
    "FROM\n",
    "  `stock_market.eps_percent_change_sp500`\n",
    "LIMIT\n",
    "  100\n",
    "'''\n"
   ]
  },
  {
   "cell_type": "markdown",
   "metadata": {},
   "source": [
    "The function `clean_data` below does three things:\n",
    " 1. First, we'll remove any inf or NA values\n",
    " 2. Next, we parse the `Date` field to read it as a string.\n",
    " 3. Lastly, we convert the label `direction` into a numeric quantity, mapping 'DOWN' to 0, 'STAY' to 1 and 'UP' to 2. "
   ]
  },
  {
   "cell_type": "code",
   "execution_count": 7,
   "metadata": {},
   "outputs": [],
   "source": [
    "def clean_data(input_df):\n",
    "    \"\"\"Cleans data to prepare for training.\n",
    "\n",
    "    Args:\n",
    "        input_df: Pandas dataframe.\n",
    "    Returns:\n",
    "        Pandas dataframe.\n",
    "    \"\"\"\n",
    "    df = input_df.copy()\n",
    "\n",
    "    # Remove inf/na values.\n",
    "    real_valued_rows = ~(df == np.inf).max(axis=1)\n",
    "    df = df[real_valued_rows].dropna()\n",
    "\n",
    "    # TF doesn't accept datetimes in DataFrame.\n",
    "    df['Date'] = pd.to_datetime(df['Date'], errors='coerce')\n",
    "    df['Date'] = df['Date'].dt.strftime('%Y-%m-%d')\n",
    "\n",
    "    # TF requires numeric label.\n",
    "    df['direction_numeric'] = df['direction'].apply(lambda x: {'DOWN': 0,\n",
    "                                                               'STAY': 1,\n",
    "                                                               'UP': 2}[x])\n",
    "    return df"
   ]
  },
  {
   "cell_type": "markdown",
   "metadata": {},
   "source": [
    "## Read data and preprocessing\n",
    "\n",
    "Before we begin modeling, we'll preprocess our features by scaling to the z-score. This will ensure that the range of the feature values being fed to the model are comparable and should help with convergence during gradient descent."
   ]
  },
  {
   "cell_type": "code",
   "execution_count": 8,
   "metadata": {},
   "outputs": [],
   "source": [
    "STOCK_HISTORY_COLUMN = 'close_values_prior_260'\n",
    "COL_NAMES = ['day_' + str(day) for day in range(0, 260)]\n",
    "LABEL = 'direction_numeric'"
   ]
  },
  {
   "cell_type": "code",
   "execution_count": 9,
   "metadata": {},
   "outputs": [],
   "source": [
    "def _scale_features(df):\n",
    "    \"\"\"z-scale feature columns of Pandas dataframe.\n",
    "\n",
    "    Args:\n",
    "        features: Pandas dataframe.\n",
    "    Returns:\n",
    "        Pandas dataframe with each column standardized according to the\n",
    "        values in that column.\n",
    "    \"\"\"\n",
    "    avg = df.mean()\n",
    "    std = df.std()\n",
    "    return (df - avg) / std\n",
    "\n",
    "\n",
    "def create_features(df, label_name):\n",
    "    \"\"\"Create modeling features and label from Pandas dataframe.\n",
    "\n",
    "    Args:\n",
    "        df: Pandas dataframe.\n",
    "        label_name: str, the column name of the label.\n",
    "    Returns:\n",
    "        Pandas dataframe\n",
    "    \"\"\"\n",
    "    # Expand 1 column containing a list of close prices to 260 columns.\n",
    "    time_series_features = df[STOCK_HISTORY_COLUMN].apply(pd.Series)\n",
    "\n",
    "    # Rename columns.\n",
    "    time_series_features.columns = COL_NAMES\n",
    "    time_series_features = _scale_features(time_series_features)\n",
    "\n",
    "    # Concat time series features with static features and label.\n",
    "    label_column = df[LABEL]\n",
    "\n",
    "    return pd.concat([time_series_features,\n",
    "                      label_column], axis=1)"
   ]
  },
  {
   "cell_type": "markdown",
   "metadata": {},
   "source": [
    "### Make train-eval-test split\n",
    "\n",
    "Next, we'll make repeatable splits for our train/validation/test datasets and save these datasets to local csv files. The query below will take a subsample of the entire dataset and then create a 70-15-15 split for the train/validation/test sets. "
   ]
  },
  {
   "cell_type": "code",
   "execution_count": 11,
   "metadata": {},
   "outputs": [],
   "source": [
    "def _create_split(phase):\n",
    "    \"\"\"Create string to produce train/valid/test splits for a SQL query.\n",
    "\n",
    "    Args:\n",
    "        phase: str, either TRAIN, VALID, or TEST.\n",
    "    Returns:\n",
    "        String.\n",
    "    \"\"\"\n",
    "    floor, ceiling = '2002-11-01', '2010-07-01'\n",
    "    if phase == 'VALID':\n",
    "        floor, ceiling = '2010-07-01', '2011-09-01'\n",
    "    elif phase == 'TEST':\n",
    "        floor, ceiling = '2011-09-01', '2012-11-30'\n",
    "    return '''\n",
    "    WHERE Date >= '{0}'\n",
    "    AND Date < '{1}'\n",
    "    '''.format(floor, ceiling)\n",
    "\n",
    "\n",
    "def create_query(phase):\n",
    "    \"\"\"Create SQL query to create train/valid/test splits on subsample.\n",
    "\n",
    "    Args:\n",
    "        phase: str, either TRAIN, VALID, or TEST.\n",
    "        sample_size: str, amount of data to take for subsample.\n",
    "    Returns:\n",
    "        String.\n",
    "    \"\"\"\n",
    "    basequery = \"\"\"\n",
    "    #standardSQL\n",
    "    SELECT\n",
    "      symbol,\n",
    "      Date,\n",
    "      direction,\n",
    "      close_values_prior_260\n",
    "    FROM\n",
    "      `stock_market.eps_percent_change_sp500`\n",
    "    \"\"\"\n",
    "    \n",
    "    return basequery + _create_split(phase)"
   ]
  },
  {
   "cell_type": "markdown",
   "metadata": {},
   "source": [
    "## Modeling\n",
    "\n",
    "For experimentation purposes, we'll train various models using data we can fit in memory using the `.csv` files we created above. "
   ]
  },
  {
   "cell_type": "code",
   "execution_count": 12,
   "metadata": {},
   "outputs": [],
   "source": [
    "N_TIME_STEPS = 260\n",
    "N_LABELS = 3\n",
    "\n",
    "Xtrain = pd.read_csv('stock-train.csv')\n",
    "Xvalid = pd.read_csv('stock-valid.csv')\n",
    "\n",
    "ytrain = Xtrain.pop(LABEL)\n",
    "yvalid  = Xvalid.pop(LABEL)\n",
    "\n",
    "ytrain_categorical = to_categorical(ytrain.values)\n",
    "yvalid_categorical = to_categorical(yvalid.values)"
   ]
  },
  {
   "cell_type": "markdown",
   "metadata": {},
   "source": [
    "To monitor training progress and compare evaluation metrics for different models, we'll use the function below to plot metrics captured from the training job such as training and validation loss or accuracy."
   ]
  },
  {
   "cell_type": "code",
   "execution_count": 16,
   "metadata": {},
   "outputs": [
    {
     "data": {
      "text/html": [
       "<div>\n",
       "<style scoped>\n",
       "    .dataframe tbody tr th:only-of-type {\n",
       "        vertical-align: middle;\n",
       "    }\n",
       "\n",
       "    .dataframe tbody tr th {\n",
       "        vertical-align: top;\n",
       "    }\n",
       "\n",
       "    .dataframe thead th {\n",
       "        text-align: right;\n",
       "    }\n",
       "</style>\n",
       "<table border=\"1\" class=\"dataframe\">\n",
       "  <thead>\n",
       "    <tr style=\"text-align: right;\">\n",
       "      <th></th>\n",
       "      <th>day_0</th>\n",
       "      <th>day_1</th>\n",
       "      <th>day_2</th>\n",
       "      <th>day_3</th>\n",
       "      <th>day_4</th>\n",
       "      <th>day_5</th>\n",
       "      <th>day_6</th>\n",
       "      <th>day_7</th>\n",
       "      <th>day_8</th>\n",
       "      <th>day_9</th>\n",
       "      <th>...</th>\n",
       "      <th>day_250</th>\n",
       "      <th>day_251</th>\n",
       "      <th>day_252</th>\n",
       "      <th>day_253</th>\n",
       "      <th>day_254</th>\n",
       "      <th>day_255</th>\n",
       "      <th>day_256</th>\n",
       "      <th>day_257</th>\n",
       "      <th>day_258</th>\n",
       "      <th>day_259</th>\n",
       "    </tr>\n",
       "  </thead>\n",
       "  <tbody>\n",
       "    <tr>\n",
       "      <th>0</th>\n",
       "      <td>-0.144946</td>\n",
       "      <td>-0.135877</td>\n",
       "      <td>-0.146586</td>\n",
       "      <td>-0.149944</td>\n",
       "      <td>-0.151658</td>\n",
       "      <td>-0.149648</td>\n",
       "      <td>-0.150216</td>\n",
       "      <td>-0.151742</td>\n",
       "      <td>-0.135856</td>\n",
       "      <td>-0.127655</td>\n",
       "      <td>...</td>\n",
       "      <td>-0.175549</td>\n",
       "      <td>-0.175757</td>\n",
       "      <td>-0.164736</td>\n",
       "      <td>-0.172003</td>\n",
       "      <td>-0.183098</td>\n",
       "      <td>-0.192609</td>\n",
       "      <td>-0.185822</td>\n",
       "      <td>-0.213345</td>\n",
       "      <td>-0.216334</td>\n",
       "      <td>-0.217794</td>\n",
       "    </tr>\n",
       "    <tr>\n",
       "      <th>1</th>\n",
       "      <td>-0.458200</td>\n",
       "      <td>-0.455591</td>\n",
       "      <td>-0.449417</td>\n",
       "      <td>-0.435703</td>\n",
       "      <td>-0.440224</td>\n",
       "      <td>-0.451866</td>\n",
       "      <td>-0.436883</td>\n",
       "      <td>-0.506776</td>\n",
       "      <td>-0.502588</td>\n",
       "      <td>-0.502273</td>\n",
       "      <td>...</td>\n",
       "      <td>-0.294629</td>\n",
       "      <td>-0.291526</td>\n",
       "      <td>-0.280120</td>\n",
       "      <td>-0.279749</td>\n",
       "      <td>-0.277877</td>\n",
       "      <td>-0.275013</td>\n",
       "      <td>-0.273712</td>\n",
       "      <td>-0.272388</td>\n",
       "      <td>-0.272866</td>\n",
       "      <td>-0.275396</td>\n",
       "    </tr>\n",
       "    <tr>\n",
       "      <th>2</th>\n",
       "      <td>-0.499667</td>\n",
       "      <td>-0.462806</td>\n",
       "      <td>-0.493355</td>\n",
       "      <td>-0.533280</td>\n",
       "      <td>-0.523828</td>\n",
       "      <td>-0.526971</td>\n",
       "      <td>-0.543039</td>\n",
       "      <td>-0.578633</td>\n",
       "      <td>-0.543261</td>\n",
       "      <td>-0.551535</td>\n",
       "      <td>...</td>\n",
       "      <td>-0.454946</td>\n",
       "      <td>-0.447208</td>\n",
       "      <td>-0.449216</td>\n",
       "      <td>-0.449001</td>\n",
       "      <td>-0.425582</td>\n",
       "      <td>-0.423695</td>\n",
       "      <td>-0.406763</td>\n",
       "      <td>-0.405733</td>\n",
       "      <td>-0.396572</td>\n",
       "      <td>-0.396778</td>\n",
       "    </tr>\n",
       "    <tr>\n",
       "      <th>3</th>\n",
       "      <td>-0.391268</td>\n",
       "      <td>-0.341053</td>\n",
       "      <td>-0.369879</td>\n",
       "      <td>-0.386690</td>\n",
       "      <td>-0.375050</td>\n",
       "      <td>-0.316947</td>\n",
       "      <td>-0.345732</td>\n",
       "      <td>-0.349629</td>\n",
       "      <td>-0.341235</td>\n",
       "      <td>-0.357845</td>\n",
       "      <td>...</td>\n",
       "      <td>-0.647680</td>\n",
       "      <td>-0.645668</td>\n",
       "      <td>-0.649038</td>\n",
       "      <td>-0.648785</td>\n",
       "      <td>-0.642600</td>\n",
       "      <td>-0.641747</td>\n",
       "      <td>-0.644087</td>\n",
       "      <td>-0.642570</td>\n",
       "      <td>-0.634895</td>\n",
       "      <td>-0.637778</td>\n",
       "    </tr>\n",
       "    <tr>\n",
       "      <th>4</th>\n",
       "      <td>-0.144946</td>\n",
       "      <td>-0.135877</td>\n",
       "      <td>-0.146586</td>\n",
       "      <td>-0.149944</td>\n",
       "      <td>-0.151658</td>\n",
       "      <td>-0.149648</td>\n",
       "      <td>-0.150216</td>\n",
       "      <td>-0.151742</td>\n",
       "      <td>-0.135856</td>\n",
       "      <td>-0.127655</td>\n",
       "      <td>...</td>\n",
       "      <td>-0.175549</td>\n",
       "      <td>-0.175757</td>\n",
       "      <td>-0.164736</td>\n",
       "      <td>-0.172003</td>\n",
       "      <td>-0.183098</td>\n",
       "      <td>-0.192609</td>\n",
       "      <td>-0.185822</td>\n",
       "      <td>-0.213345</td>\n",
       "      <td>-0.216334</td>\n",
       "      <td>-0.217794</td>\n",
       "    </tr>\n",
       "  </tbody>\n",
       "</table>\n",
       "<p>5 rows × 260 columns</p>\n",
       "</div>"
      ],
      "text/plain": [
       "      day_0     day_1     day_2     day_3     day_4     day_5     day_6  \\\n",
       "0 -0.144946 -0.135877 -0.146586 -0.149944 -0.151658 -0.149648 -0.150216   \n",
       "1 -0.458200 -0.455591 -0.449417 -0.435703 -0.440224 -0.451866 -0.436883   \n",
       "2 -0.499667 -0.462806 -0.493355 -0.533280 -0.523828 -0.526971 -0.543039   \n",
       "3 -0.391268 -0.341053 -0.369879 -0.386690 -0.375050 -0.316947 -0.345732   \n",
       "4 -0.144946 -0.135877 -0.146586 -0.149944 -0.151658 -0.149648 -0.150216   \n",
       "\n",
       "      day_7     day_8     day_9  ...   day_250   day_251   day_252   day_253  \\\n",
       "0 -0.151742 -0.135856 -0.127655  ... -0.175549 -0.175757 -0.164736 -0.172003   \n",
       "1 -0.506776 -0.502588 -0.502273  ... -0.294629 -0.291526 -0.280120 -0.279749   \n",
       "2 -0.578633 -0.543261 -0.551535  ... -0.454946 -0.447208 -0.449216 -0.449001   \n",
       "3 -0.349629 -0.341235 -0.357845  ... -0.647680 -0.645668 -0.649038 -0.648785   \n",
       "4 -0.151742 -0.135856 -0.127655  ... -0.175549 -0.175757 -0.164736 -0.172003   \n",
       "\n",
       "    day_254   day_255   day_256   day_257   day_258   day_259  \n",
       "0 -0.183098 -0.192609 -0.185822 -0.213345 -0.216334 -0.217794  \n",
       "1 -0.277877 -0.275013 -0.273712 -0.272388 -0.272866 -0.275396  \n",
       "2 -0.425582 -0.423695 -0.406763 -0.405733 -0.396572 -0.396778  \n",
       "3 -0.642600 -0.641747 -0.644087 -0.642570 -0.634895 -0.637778  \n",
       "4 -0.183098 -0.192609 -0.185822 -0.213345 -0.216334 -0.217794  \n",
       "\n",
       "[5 rows x 260 columns]"
      ]
     },
     "execution_count": 16,
     "metadata": {},
     "output_type": "execute_result"
    }
   ],
   "source": [
    "Xtrain.head()"
   ]
  },
  {
   "cell_type": "code",
   "execution_count": 15,
   "metadata": {},
   "outputs": [
    {
     "data": {
      "text/plain": [
       "0    2\n",
       "1    2\n",
       "2    2\n",
       "3    2\n",
       "4    2\n",
       "Name: direction_numeric, dtype: int64"
      ]
     },
     "execution_count": 15,
     "metadata": {},
     "output_type": "execute_result"
    }
   ],
   "source": [
    "ytrain.head()"
   ]
  },
  {
   "cell_type": "code",
   "execution_count": 21,
   "metadata": {},
   "outputs": [
    {
     "data": {
      "text/html": [
       "<div>\n",
       "<style scoped>\n",
       "    .dataframe tbody tr th:only-of-type {\n",
       "        vertical-align: middle;\n",
       "    }\n",
       "\n",
       "    .dataframe tbody tr th {\n",
       "        vertical-align: top;\n",
       "    }\n",
       "\n",
       "    .dataframe thead th {\n",
       "        text-align: right;\n",
       "    }\n",
       "</style>\n",
       "<table border=\"1\" class=\"dataframe\">\n",
       "  <thead>\n",
       "    <tr style=\"text-align: right;\">\n",
       "      <th></th>\n",
       "      <th>day_0</th>\n",
       "      <th>day_1</th>\n",
       "      <th>day_2</th>\n",
       "      <th>day_3</th>\n",
       "      <th>day_4</th>\n",
       "      <th>day_5</th>\n",
       "      <th>day_6</th>\n",
       "      <th>day_7</th>\n",
       "      <th>day_8</th>\n",
       "      <th>day_9</th>\n",
       "      <th>...</th>\n",
       "      <th>day_250</th>\n",
       "      <th>day_251</th>\n",
       "      <th>day_252</th>\n",
       "      <th>day_253</th>\n",
       "      <th>day_254</th>\n",
       "      <th>day_255</th>\n",
       "      <th>day_256</th>\n",
       "      <th>day_257</th>\n",
       "      <th>day_258</th>\n",
       "      <th>day_259</th>\n",
       "    </tr>\n",
       "  </thead>\n",
       "  <tbody>\n",
       "    <tr>\n",
       "      <th>0</th>\n",
       "      <td>-0.445308</td>\n",
       "      <td>-0.464056</td>\n",
       "      <td>-0.472228</td>\n",
       "      <td>-0.460390</td>\n",
       "      <td>-0.458222</td>\n",
       "      <td>-0.458362</td>\n",
       "      <td>-0.448449</td>\n",
       "      <td>-0.443740</td>\n",
       "      <td>-0.456983</td>\n",
       "      <td>-0.470379</td>\n",
       "      <td>...</td>\n",
       "      <td>-0.452690</td>\n",
       "      <td>-0.470656</td>\n",
       "      <td>-0.461597</td>\n",
       "      <td>-0.458729</td>\n",
       "      <td>-0.454458</td>\n",
       "      <td>-0.432277</td>\n",
       "      <td>-0.438652</td>\n",
       "      <td>-0.463850</td>\n",
       "      <td>-0.478945</td>\n",
       "      <td>-0.483748</td>\n",
       "    </tr>\n",
       "    <tr>\n",
       "      <th>1</th>\n",
       "      <td>-0.911869</td>\n",
       "      <td>-0.914515</td>\n",
       "      <td>-0.914645</td>\n",
       "      <td>-0.911092</td>\n",
       "      <td>-0.903038</td>\n",
       "      <td>-0.906745</td>\n",
       "      <td>-0.914415</td>\n",
       "      <td>-0.907080</td>\n",
       "      <td>-0.906184</td>\n",
       "      <td>-0.911941</td>\n",
       "      <td>...</td>\n",
       "      <td>-0.938796</td>\n",
       "      <td>-0.933844</td>\n",
       "      <td>-0.929590</td>\n",
       "      <td>-0.930278</td>\n",
       "      <td>-0.931648</td>\n",
       "      <td>-0.929182</td>\n",
       "      <td>-0.927178</td>\n",
       "      <td>-0.928457</td>\n",
       "      <td>-0.931890</td>\n",
       "      <td>-0.934536</td>\n",
       "    </tr>\n",
       "    <tr>\n",
       "      <th>2</th>\n",
       "      <td>-0.951657</td>\n",
       "      <td>-0.958659</td>\n",
       "      <td>-0.962615</td>\n",
       "      <td>-0.956611</td>\n",
       "      <td>-0.958111</td>\n",
       "      <td>-0.954450</td>\n",
       "      <td>-0.952971</td>\n",
       "      <td>-0.947278</td>\n",
       "      <td>-0.951882</td>\n",
       "      <td>-0.957211</td>\n",
       "      <td>...</td>\n",
       "      <td>-0.951750</td>\n",
       "      <td>-0.947322</td>\n",
       "      <td>-0.945387</td>\n",
       "      <td>-0.943706</td>\n",
       "      <td>-0.943297</td>\n",
       "      <td>-0.938810</td>\n",
       "      <td>-0.935807</td>\n",
       "      <td>-0.932374</td>\n",
       "      <td>-0.936204</td>\n",
       "      <td>-0.939647</td>\n",
       "    </tr>\n",
       "    <tr>\n",
       "      <th>3</th>\n",
       "      <td>0.265190</td>\n",
       "      <td>0.279272</td>\n",
       "      <td>0.282469</td>\n",
       "      <td>0.272621</td>\n",
       "      <td>0.261721</td>\n",
       "      <td>0.266147</td>\n",
       "      <td>0.279886</td>\n",
       "      <td>0.275601</td>\n",
       "      <td>0.211284</td>\n",
       "      <td>0.220762</td>\n",
       "      <td>...</td>\n",
       "      <td>0.002921</td>\n",
       "      <td>0.007198</td>\n",
       "      <td>0.003631</td>\n",
       "      <td>0.000776</td>\n",
       "      <td>-0.004909</td>\n",
       "      <td>-0.019073</td>\n",
       "      <td>-0.026220</td>\n",
       "      <td>-0.031367</td>\n",
       "      <td>-0.034430</td>\n",
       "      <td>-0.031387</td>\n",
       "    </tr>\n",
       "    <tr>\n",
       "      <th>4</th>\n",
       "      <td>-0.918500</td>\n",
       "      <td>-0.923533</td>\n",
       "      <td>-0.927469</td>\n",
       "      <td>-0.921234</td>\n",
       "      <td>-0.917395</td>\n",
       "      <td>-0.920375</td>\n",
       "      <td>-0.925464</td>\n",
       "      <td>-0.921655</td>\n",
       "      <td>-0.919846</td>\n",
       "      <td>-0.928058</td>\n",
       "      <td>...</td>\n",
       "      <td>-0.931222</td>\n",
       "      <td>-0.924132</td>\n",
       "      <td>-0.925245</td>\n",
       "      <td>-0.927909</td>\n",
       "      <td>-0.928095</td>\n",
       "      <td>-0.923877</td>\n",
       "      <td>-0.922079</td>\n",
       "      <td>-0.922580</td>\n",
       "      <td>-0.924439</td>\n",
       "      <td>-0.927262</td>\n",
       "    </tr>\n",
       "  </tbody>\n",
       "</table>\n",
       "<p>5 rows × 260 columns</p>\n",
       "</div>"
      ],
      "text/plain": [
       "      day_0     day_1     day_2     day_3     day_4     day_5     day_6  \\\n",
       "0 -0.445308 -0.464056 -0.472228 -0.460390 -0.458222 -0.458362 -0.448449   \n",
       "1 -0.911869 -0.914515 -0.914645 -0.911092 -0.903038 -0.906745 -0.914415   \n",
       "2 -0.951657 -0.958659 -0.962615 -0.956611 -0.958111 -0.954450 -0.952971   \n",
       "3  0.265190  0.279272  0.282469  0.272621  0.261721  0.266147  0.279886   \n",
       "4 -0.918500 -0.923533 -0.927469 -0.921234 -0.917395 -0.920375 -0.925464   \n",
       "\n",
       "      day_7     day_8     day_9  ...   day_250   day_251   day_252   day_253  \\\n",
       "0 -0.443740 -0.456983 -0.470379  ... -0.452690 -0.470656 -0.461597 -0.458729   \n",
       "1 -0.907080 -0.906184 -0.911941  ... -0.938796 -0.933844 -0.929590 -0.930278   \n",
       "2 -0.947278 -0.951882 -0.957211  ... -0.951750 -0.947322 -0.945387 -0.943706   \n",
       "3  0.275601  0.211284  0.220762  ...  0.002921  0.007198  0.003631  0.000776   \n",
       "4 -0.921655 -0.919846 -0.928058  ... -0.931222 -0.924132 -0.925245 -0.927909   \n",
       "\n",
       "    day_254   day_255   day_256   day_257   day_258   day_259  \n",
       "0 -0.454458 -0.432277 -0.438652 -0.463850 -0.478945 -0.483748  \n",
       "1 -0.931648 -0.929182 -0.927178 -0.928457 -0.931890 -0.934536  \n",
       "2 -0.943297 -0.938810 -0.935807 -0.932374 -0.936204 -0.939647  \n",
       "3 -0.004909 -0.019073 -0.026220 -0.031367 -0.034430 -0.031387  \n",
       "4 -0.928095 -0.923877 -0.922079 -0.922580 -0.924439 -0.927262  \n",
       "\n",
       "[5 rows x 260 columns]"
      ]
     },
     "execution_count": 21,
     "metadata": {},
     "output_type": "execute_result"
    }
   ],
   "source": [
    "Xvalid.head()\n"
   ]
  },
  {
   "cell_type": "code",
   "execution_count": 22,
   "metadata": {},
   "outputs": [
    {
     "data": {
      "text/plain": [
       "0    2\n",
       "1    2\n",
       "2    2\n",
       "3    2\n",
       "4    2\n",
       "Name: direction_numeric, dtype: int64"
      ]
     },
     "execution_count": 22,
     "metadata": {},
     "output_type": "execute_result"
    }
   ],
   "source": [
    "yvalid.head()"
   ]
  },
  {
   "cell_type": "code",
   "execution_count": 23,
   "metadata": {},
   "outputs": [],
   "source": [
    "def plot_curves(train_data, val_data, label='Accuracy'):\n",
    "    \"\"\"Plot training and validation metrics on single axis.\n",
    "\n",
    "    Args:\n",
    "        train_data: list, metrics obtrained from training data.\n",
    "        val_data: list, metrics obtained from validation data.\n",
    "        label: str, title and label for plot.\n",
    "    Returns:\n",
    "        Matplotlib plot.\n",
    "    \"\"\"\n",
    "    plt.plot(np.arange(len(train_data)) + 0.5,\n",
    "             train_data,\n",
    "             \"b.-\", label=\"Training \" + label)\n",
    "    plt.plot(np.arange(len(val_data)) + 1,\n",
    "             val_data, \"r.-\",\n",
    "             label=\"Validation \" + label)\n",
    "    plt.gca().xaxis.set_major_locator(mpl.ticker.MaxNLocator(integer=True))\n",
    "    plt.legend(fontsize=14)\n",
    "    plt.xlabel(\"Epochs\")\n",
    "    plt.ylabel(label)\n",
    "    plt.grid(True)  "
   ]
  },
  {
   "cell_type": "code",
   "execution_count": null,
   "metadata": {},
   "outputs": [],
   "source": []
  },
  {
   "cell_type": "markdown",
   "metadata": {},
   "source": [
    "### Baseline\n",
    "\n",
    "Before we begin modeling in Keras, let's create a benchmark using a simple heuristic. Let's see what kind of accuracy we would get on the validation set if we predict the majority class of the training set. "
   ]
  },
  {
   "cell_type": "code",
   "execution_count": 24,
   "metadata": {},
   "outputs": [
    {
     "data": {
      "text/plain": [
       "0.29490392648287383"
      ]
     },
     "execution_count": 24,
     "metadata": {},
     "output_type": "execute_result"
    }
   ],
   "source": [
    "sum(yvalid == ytrain.value_counts().idxmax()) / yvalid.shape[0]"
   ]
  },
  {
   "cell_type": "markdown",
   "metadata": {},
   "source": [
    "Ok. So just naively guessing the most common outcome `UP` will give about 29.5% accuracy on the validation set. "
   ]
  },
  {
   "cell_type": "markdown",
   "metadata": {},
   "source": [
    "### Linear model\n",
    "\n",
    "We'll start with a simple linear model, mapping our sequential input to a single fully dense layer. "
   ]
  },
  {
   "cell_type": "code",
   "execution_count": 25,
   "metadata": {},
   "outputs": [],
   "source": [
    "model = Sequential()\n",
    "model.add(Dense(units=N_LABELS,\n",
    "                activation='softmax',\n",
    "                kernel_regularizer=tf.keras.regularizers.l1(l=0.1)))\n",
    "\n",
    "model.compile(optimizer=Adam(lr=0.001),\n",
    "              loss='categorical_crossentropy',\n",
    "              metrics=['accuracy'])\n",
    "\n"
   ]
  },
  {
   "cell_type": "code",
   "execution_count": 26,
   "metadata": {},
   "outputs": [],
   "source": [
    "history = model.fit(x=Xtrain.values,\n",
    "                    y=ytrain_categorical,\n",
    "                    batch_size=Xtrain.shape[0],\n",
    "                    validation_data=(Xvalid.values, yvalid_categorical),\n",
    "                    epochs=30,\n",
    "                    verbose=0)"
   ]
  },
  {
   "cell_type": "code",
   "execution_count": 27,
   "metadata": {},
   "outputs": [
    {
     "data": {
      "image/png": "[encoded data removed]",
      "text/plain": [
       "<Figure size 432x288 with 1 Axes>"
      ]
     },
     "metadata": {
      "needs_background": "light"
     },
     "output_type": "display_data"
    }
   ],
   "source": [
    "plot_curves(history.history['loss'],\n",
    "            history.history['val_loss'],\n",
    "            label='Loss')"
   ]
  },
  {
   "cell_type": "code",
   "execution_count": null,
   "metadata": {},
   "outputs": [],
   "source": []
  },
  {
   "cell_type": "code",
   "execution_count": 28,
   "metadata": {},
   "outputs": [
    {
     "data": {
      "image/png": "[encoded data removed]",
      "text/plain": [
       "<Figure size 432x288 with 1 Axes>"
      ]
     },
     "metadata": {
      "needs_background": "light"
     },
     "output_type": "display_data"
    }
   ],
   "source": [
    "plot_curves(history.history['accuracy'],\n",
    "            history.history['val_accuracy'],\n",
    "            label='Accuracy')"
   ]
  },
  {
   "cell_type": "markdown",
   "metadata": {},
   "source": [
    "The accuracy seems to level out pretty quickly. To report the accuracy, we'll average the accuracy on the validation set across the last few epochs of training."
   ]
  },
  {
   "cell_type": "code",
   "execution_count": 29,
   "metadata": {},
   "outputs": [
    {
     "data": {
      "text/plain": [
       "0.3453634023666382"
      ]
     },
     "execution_count": 29,
     "metadata": {},
     "output_type": "execute_result"
    }
   ],
   "source": [
    "np.mean(history.history['val_accuracy'][-5:])"
   ]
  },
  {
   "cell_type": "markdown",
   "metadata": {},
   "source": [
    "### Deep Neural Network"
   ]
  },
  {
   "cell_type": "markdown",
   "metadata": {},
   "source": [
    "The linear model is an improvement on our naive benchmark. Perhaps we can do better with a more complicated model. Next, we'll create a deep neural network with Keras. We'll experiment with a two layer DNN here but feel free to try a more complex model or add any other additional techniques to try an improve your performance. "
   ]
  },
  {
   "cell_type": "code",
   "execution_count": 30,
   "metadata": {},
   "outputs": [],
   "source": [
    "dnn_hidden_units = [16, 8]\n",
    "\n",
    "model = Sequential()\n",
    "for layer in dnn_hidden_units:\n",
    "    model.add(Dense(units=layer,\n",
    "                    activation=\"relu\"))\n",
    "\n",
    "model.add(Dense(units=N_LABELS,\n",
    "                activation=\"softmax\",\n",
    "                kernel_regularizer=tf.keras.regularizers.l1(l=0.1)))\n",
    "\n",
    "model.compile(optimizer=Adam(lr=0.001),\n",
    "              loss='categorical_crossentropy',\n",
    "              metrics=['accuracy'])\n",
    "\n",
    "history = model.fit(x=Xtrain.values,\n",
    "                    y=ytrain_categorical,\n",
    "                    batch_size=Xtrain.shape[0],\n",
    "                    validation_data=(Xvalid.values, yvalid_categorical),\n",
    "                    epochs=10,\n",
    "                    verbose=0)"
   ]
  },
  {
   "cell_type": "code",
   "execution_count": 31,
   "metadata": {},
   "outputs": [
    {
     "data": {
      "image/png": "[encoded data removed]",
      "text/plain": [
       "<Figure size 432x288 with 1 Axes>"
      ]
     },
     "metadata": {
      "needs_background": "light"
     },
     "output_type": "display_data"
    }
   ],
   "source": [
    "plot_curves(history.history['loss'],\n",
    "            history.history['val_loss'],\n",
    "            label='Loss')"
   ]
  },
  {
   "cell_type": "code",
   "execution_count": 32,
   "metadata": {},
   "outputs": [
    {
     "data": {
      "image/png": "[encoded data removed]",
      "text/plain": [
       "<Figure size 432x288 with 1 Axes>"
      ]
     },
     "metadata": {
      "needs_background": "light"
     },
     "output_type": "display_data"
    }
   ],
   "source": [
    "plot_curves(history.history['accuracy'],\n",
    "            history.history['val_accuracy'],\n",
    "            label='Accuracy')"
   ]
  },
  {
   "cell_type": "code",
   "execution_count": 33,
   "metadata": {},
   "outputs": [
    {
     "data": {
      "text/plain": [
       "0.3421052634716034"
      ]
     },
     "execution_count": 33,
     "metadata": {},
     "output_type": "execute_result"
    }
   ],
   "source": [
    "np.mean(history.history['val_accuracy'][-5:])"
   ]
  },
  {
   "cell_type": "markdown",
   "metadata": {},
   "source": [
    "### Convolutional Neural Network\n",
    "\n",
    "The DNN does slightly better. Let's see how a convolutional neural network performs. \n",
    "\n",
    "A 1-dimensional convolutional can be useful for extracting features from sequential data or deriving features from shorter, fixed-length segments of the data set. Check out the documentation for how to implement a [Conv1d in Tensorflow](https://www.tensorflow.org/api_docs/python/tf/keras/layers/Conv1D). Max pooling is a downsampling strategy commonly used in conjunction with convolutional neural networks. Next, we'll build a CNN model in Keras using the `Conv1D` to create convolution layers and `MaxPool1D` to perform max pooling before passing to a fully connected dense layer. "
   ]
  },
  {
   "cell_type": "code",
   "execution_count": 34,
   "metadata": {},
   "outputs": [],
   "source": [
    "model = Sequential()\n",
    "\n",
    "# Convolutional layer\n",
    "model.add(Reshape(target_shape=[N_TIME_STEPS, 1]))\n",
    "model.add(Conv1D(filters=5,\n",
    "                 kernel_size=5,\n",
    "                 strides=2,\n",
    "                 padding=\"valid\",\n",
    "                 input_shape=[None, 1]))\n",
    "model.add(MaxPool1D(pool_size=2,\n",
    "                    strides=None,\n",
    "                    padding='valid'))\n",
    "\n",
    "\n",
    "# Flatten the result and pass through DNN.\n",
    "model.add(tf.keras.layers.Flatten())\n",
    "model.add(Dense(units=N_TIME_STEPS//4,\n",
    "                activation=\"relu\"))\n",
    "\n",
    "model.add(Dense(units=N_LABELS, \n",
    "                activation=\"softmax\",\n",
    "                kernel_regularizer=tf.keras.regularizers.l1(l=0.1)))\n",
    "\n",
    "model.compile(optimizer=Adam(lr=0.01),\n",
    "              loss='categorical_crossentropy',\n",
    "              metrics=['accuracy'])\n",
    "\n",
    "history = model.fit(x=Xtrain.values,\n",
    "                    y=ytrain_categorical,\n",
    "                    batch_size=Xtrain.shape[0],\n",
    "                    validation_data=(Xvalid.values, yvalid_categorical),\n",
    "                    epochs=10,\n",
    "                    verbose=0)"
   ]
  },
  {
   "cell_type": "code",
   "execution_count": 35,
   "metadata": {},
   "outputs": [
    {
     "data": {
      "image/png": "[encoded data removed]",
      "text/plain": [
       "<Figure size 432x288 with 1 Axes>"
      ]
     },
     "metadata": {
      "needs_background": "light"
     },
     "output_type": "display_data"
    }
   ],
   "source": [
    "plot_curves(history.history['loss'],\n",
    "            history.history['val_loss'],\n",
    "            label='Loss')"
   ]
  },
  {
   "cell_type": "code",
   "execution_count": 36,
   "metadata": {},
   "outputs": [
    {
     "data": {
      "image/png": "[encoded data removed]",
      "text/plain": [
       "<Figure size 432x288 with 1 Axes>"
      ]
     },
     "metadata": {
      "needs_background": "light"
     },
     "output_type": "display_data"
    }
   ],
   "source": [
    "plot_curves(history.history['accuracy'],\n",
    "            history.history['val_accuracy'],\n",
    "            label='Accuracy')"
   ]
  },
  {
   "cell_type": "code",
   "execution_count": 203,
   "metadata": {},
   "outputs": [
    {
     "data": {
      "text/plain": [
       "0.34569758"
      ]
     },
     "execution_count": 203,
     "metadata": {},
     "output_type": "execute_result"
    }
   ],
   "source": [
    "np.mean(history.history['val_accuracy'][-5:])"
   ]
  },
  {
   "cell_type": "markdown",
   "metadata": {},
   "source": [
    "### Recurrent Neural Network\n",
    "\n",
    "RNNs are particularly well-suited for learning sequential data. They retain state information from one iteration to the next by feeding the output from one cell as input for the next step. In the cell below, we'll build a RNN model in Keras. The final state of the RNN is captured and then passed through a fully connected layer to produce a prediction."
   ]
  },
  {
   "cell_type": "code",
   "execution_count": 37,
   "metadata": {},
   "outputs": [],
   "source": [
    "model = Sequential()\n",
    "\n",
    "# Reshape inputs to pass through RNN layer.\n",
    "model.add(Reshape(target_shape=[N_TIME_STEPS, 1]))\n",
    "model.add(LSTM(N_TIME_STEPS // 8,\n",
    "               activation='relu',\n",
    "               return_sequences=False))\n",
    "\n",
    "model.add(Dense(units=N_LABELS,\n",
    "                activation='softmax',\n",
    "                kernel_regularizer=tf.keras.regularizers.l1(l=0.1)))\n",
    "\n",
    "# Create the model.\n",
    "model.compile(optimizer=Adam(lr=0.001),\n",
    "              loss='categorical_crossentropy',\n",
    "              metrics=['accuracy'])\n",
    "\n",
    "history = model.fit(x=Xtrain.values,\n",
    "                    y=ytrain_categorical,\n",
    "                    batch_size=Xtrain.shape[0],\n",
    "                    validation_data=(Xvalid.values, yvalid_categorical),\n",
    "                    epochs=40,\n",
    "                    verbose=0)"
   ]
  },
  {
   "cell_type": "code",
   "execution_count": 38,
   "metadata": {},
   "outputs": [
    {
     "data": {
      "image/png": "[encoded data removed]",
      "text/plain": [
       "<Figure size 432x288 with 1 Axes>"
      ]
     },
     "metadata": {
      "needs_background": "light"
     },
     "output_type": "display_data"
    }
   ],
   "source": [
    "plot_curves(history.history['loss'],\n",
    "            history.history['val_loss'],\n",
    "            label='Loss')"
   ]
  },
  {
   "cell_type": "code",
   "execution_count": 39,
   "metadata": {},
   "outputs": [
    {
     "data": {
      "image/png": "[encoded data removed]",
      "text/plain": [
       "<Figure size 432x288 with 1 Axes>"
      ]
     },
     "metadata": {
      "needs_background": "light"
     },
     "output_type": "display_data"
    }
   ],
   "source": [
    "plot_curves(history.history['accuracy'],\n",
    "            history.history['val_accuracy'],\n",
    "            label='Accuracy')"
   ]
  },
  {
   "cell_type": "code",
   "execution_count": 41,
   "metadata": {},
   "outputs": [
    {
     "data": {
      "text/plain": [
       "0.3590643286705017"
      ]
     },
     "execution_count": 41,
     "metadata": {},
     "output_type": "execute_result"
    }
   ],
   "source": [
    "np.mean(history.history['val_accuracy'][-5:])"
   ]
  },
  {
   "cell_type": "markdown",
   "metadata": {},
   "source": [
    "### Multi-layer RNN\n",
    "\n",
    "Next, we'll build multi-layer RNN. Just as multiple layers of a deep neural network allow for more complicated features to be learned during training, additional RNN layers can potentially learn complex features in sequential data. For a multi-layer RNN the output of the first RNN layer is fed as the input into the next RNN layer."
   ]
  },
  {
   "cell_type": "code",
   "execution_count": null,
   "metadata": {},
   "outputs": [
    {
     "name": "stdout",
     "output_type": "stream",
     "text": [
      "Epoch 1/50\n",
      "1/1 [==============================] - 3s 3s/step - loss: 1.8452 - accuracy: 0.3179 - val_loss: 1.8499 - val_accuracy: 0.3124\n",
      "Epoch 2/50\n",
      "1/1 [==============================] - 1s 1s/step - loss: 1.8422 - accuracy: 0.3384 - val_loss: 1.8476 - val_accuracy: 0.3191\n",
      "Epoch 3/50\n",
      "1/1 [==============================] - 1s 934ms/step - loss: 1.8393 - accuracy: 0.3382 - val_loss: 1.8452 - val_accuracy: 0.3237\n",
      "Epoch 4/50\n",
      "1/1 [==============================] - 1s 827ms/step - loss: 1.8365 - accuracy: 0.3423 - val_loss: 1.8427 - val_accuracy: 0.3262\n",
      "Epoch 5/50\n",
      "1/1 [==============================] - 1s 882ms/step - loss: 1.8338 - accuracy: 0.3492 - val_loss: 1.8400 - val_accuracy: 0.3325\n",
      "Epoch 6/50\n",
      "1/1 [==============================] - 1s 941ms/step - loss: 1.8310 - accuracy: 0.3531 - val_loss: 1.8375 - val_accuracy: 0.3312\n",
      "Epoch 7/50\n",
      "1/1 [==============================] - 1s 1s/step - loss: 1.8284 - accuracy: 0.3576 - val_loss: 1.8349 - val_accuracy: 0.3300\n",
      "Epoch 8/50\n",
      "1/1 [==============================] - 1s 1s/step - loss: 1.8259 - accuracy: 0.3603 - val_loss: 1.8322 - val_accuracy: 0.3358\n",
      "Epoch 9/50\n",
      "1/1 [==============================] - 1s 1s/step - loss: 1.8233 - accuracy: 0.3609 - val_loss: 1.8294 - val_accuracy: 0.3333\n",
      "Epoch 10/50\n",
      "1/1 [==============================] - 1s 854ms/step - loss: 1.8208 - accuracy: 0.3612 - val_loss: 1.8267 - val_accuracy: 0.3308\n",
      "Epoch 11/50\n",
      "1/1 [==============================] - 1s 964ms/step - loss: 1.8182 - accuracy: 0.3606 - val_loss: 1.8239 - val_accuracy: 0.3300\n",
      "Epoch 12/50\n",
      "1/1 [==============================] - 1s 999ms/step - loss: 1.8157 - accuracy: 0.3599 - val_loss: 1.8211 - val_accuracy: 0.3304\n",
      "Epoch 13/50\n",
      "1/1 [==============================] - 1s 870ms/step - loss: 1.8131 - accuracy: 0.3595 - val_loss: 1.8184 - val_accuracy: 0.3317\n",
      "Epoch 14/50\n",
      "1/1 [==============================] - 1s 1s/step - loss: 1.8105 - accuracy: 0.3589 - val_loss: 1.8156 - val_accuracy: 0.3346\n",
      "Epoch 15/50\n",
      "1/1 [==============================] - 1s 1s/step - loss: 1.8080 - accuracy: 0.3587 - val_loss: 1.8130 - val_accuracy: 0.3350\n",
      "Epoch 16/50\n",
      "1/1 [==============================] - 1s 1s/step - loss: 1.8055 - accuracy: 0.3599 - val_loss: 1.8104 - val_accuracy: 0.3304\n",
      "Epoch 17/50\n",
      "1/1 [==============================] - 1s 1s/step - loss: 1.8030 - accuracy: 0.3604 - val_loss: 1.8078 - val_accuracy: 0.3329\n",
      "Epoch 18/50\n",
      "1/1 [==============================] - 1s 932ms/step - loss: 1.8006 - accuracy: 0.3609 - val_loss: 1.8053 - val_accuracy: 0.3421\n",
      "Epoch 19/50\n",
      "1/1 [==============================] - 1s 1s/step - loss: 1.7981 - accuracy: 0.3631 - val_loss: 1.8028 - val_accuracy: 0.3534\n",
      "Epoch 20/50\n",
      "1/1 [==============================] - 1s 1s/step - loss: 1.7957 - accuracy: 0.3644 - val_loss: 1.8003 - val_accuracy: 0.3630\n",
      "Epoch 21/50\n",
      "1/1 [==============================] - 1s 910ms/step - loss: 1.7932 - accuracy: 0.3680 - val_loss: 1.7978 - val_accuracy: 0.3638\n",
      "Epoch 22/50\n",
      "1/1 [==============================] - 1s 872ms/step - loss: 1.7907 - accuracy: 0.3669 - val_loss: 1.7954 - val_accuracy: 0.3638\n",
      "Epoch 23/50\n",
      "1/1 [==============================] - 1s 1s/step - loss: 1.7883 - accuracy: 0.3669 - val_loss: 1.7931 - val_accuracy: 0.3609\n",
      "Epoch 24/50\n",
      "1/1 [==============================] - 1s 931ms/step - loss: 1.7859 - accuracy: 0.3690 - val_loss: 1.7910 - val_accuracy: 0.3596\n",
      "Epoch 25/50\n",
      "1/1 [==============================] - 1s 1s/step - loss: 1.7837 - accuracy: 0.3690 - val_loss: 1.7888 - val_accuracy: 0.3580\n",
      "Epoch 26/50\n",
      "1/1 [==============================] - 1s 1s/step - loss: 1.7814 - accuracy: 0.3686 - val_loss: 1.7866 - val_accuracy: 0.3551\n",
      "Epoch 27/50\n",
      "1/1 [==============================] - 2s 2s/step - loss: 1.7791 - accuracy: 0.3690 - val_loss: 1.7843 - val_accuracy: 0.3546\n",
      "Epoch 28/50\n",
      "1/1 [==============================] - 1s 1s/step - loss: 1.7768 - accuracy: 0.3676 - val_loss: 1.7821 - val_accuracy: 0.3555\n",
      "Epoch 29/50\n",
      "1/1 [==============================] - 1s 921ms/step - loss: 1.7745 - accuracy: 0.3685 - val_loss: 1.7799 - val_accuracy: 0.3551\n",
      "Epoch 30/50\n",
      "1/1 [==============================] - 1s 1s/step - loss: 1.7723 - accuracy: 0.3682 - val_loss: 1.7776 - val_accuracy: 0.3542\n",
      "Epoch 31/50\n",
      "1/1 [==============================] - 1s 1s/step - loss: 1.7699 - accuracy: 0.3683 - val_loss: 1.7753 - val_accuracy: 0.3555\n",
      "Epoch 32/50\n",
      "1/1 [==============================] - 2s 2s/step - loss: 1.7676 - accuracy: 0.3682 - val_loss: 1.7732 - val_accuracy: 0.3563\n",
      "Epoch 33/50\n",
      "1/1 [==============================] - 1s 889ms/step - loss: 1.7654 - accuracy: 0.3690 - val_loss: 1.7710 - val_accuracy: 0.3567\n",
      "Epoch 34/50\n",
      "1/1 [==============================] - 1s 1s/step - loss: 1.7633 - accuracy: 0.3688 - val_loss: 1.7688 - val_accuracy: 0.3584\n",
      "Epoch 35/50\n",
      "1/1 [==============================] - 1s 999ms/step - loss: 1.7611 - accuracy: 0.3694 - val_loss: 1.7666 - val_accuracy: 0.3588\n",
      "Epoch 36/50\n",
      "1/1 [==============================] - 1s 1s/step - loss: 1.7589 - accuracy: 0.3707 - val_loss: 1.7644 - val_accuracy: 0.3605\n",
      "Epoch 37/50\n",
      "1/1 [==============================] - 1s 963ms/step - loss: 1.7567 - accuracy: 0.3716 - val_loss: 1.7621 - val_accuracy: 0.3630\n",
      "Epoch 38/50\n",
      "1/1 [==============================] - 1s 1s/step - loss: 1.7545 - accuracy: 0.3719 - val_loss: 1.7599 - val_accuracy: 0.3676\n",
      "Epoch 39/50\n",
      "1/1 [==============================] - 1s 986ms/step - loss: 1.7524 - accuracy: 0.3719 - val_loss: 1.7577 - val_accuracy: 0.3701\n",
      "Epoch 40/50\n",
      "1/1 [==============================] - 1s 1s/step - loss: 1.7502 - accuracy: 0.3723 - val_loss: 1.7554 - val_accuracy: 0.3693\n",
      "Epoch 41/50\n",
      "1/1 [==============================] - 1s 1s/step - loss: 1.7480 - accuracy: 0.3724 - val_loss: 1.7532 - val_accuracy: 0.3668\n",
      "Epoch 42/50\n",
      "1/1 [==============================] - 1s 818ms/step - loss: 1.7459 - accuracy: 0.3733 - val_loss: 1.7510 - val_accuracy: 0.3630\n",
      "Epoch 43/50\n",
      "1/1 [==============================] - 1s 895ms/step - loss: 1.7437 - accuracy: 0.3733 - val_loss: 1.7488 - val_accuracy: 0.3617\n",
      "Epoch 44/50\n",
      "1/1 [==============================] - 1s 1s/step - loss: 1.7414 - accuracy: 0.3737 - val_loss: 1.7465 - val_accuracy: 0.3605\n",
      "Epoch 45/50\n",
      "1/1 [==============================] - 1s 889ms/step - loss: 1.7392 - accuracy: 0.3729 - val_loss: 1.7443 - val_accuracy: 0.3592\n",
      "Epoch 46/50\n"
     ]
    }
   ],
   "source": [
    "rnn_hidden_units = [N_TIME_STEPS // 16,\n",
    "                    N_TIME_STEPS // 32]\n",
    "\n",
    "model = Sequential()\n",
    "\n",
    "# Reshape inputs to pass through RNN layer.\n",
    "model.add(Reshape(target_shape=[N_TIME_STEPS, 1]))\n",
    "\n",
    "for layer in rnn_hidden_units[:-1]:\n",
    "    model.add(GRU(units=layer,\n",
    "                  activation='relu',\n",
    "                  return_sequences=True))\n",
    "\n",
    "model.add(GRU(units=rnn_hidden_units[-1],\n",
    "              return_sequences=False))\n",
    "model.add(Dense(units=N_LABELS,\n",
    "                activation=\"softmax\",\n",
    "                kernel_regularizer=tf.keras.regularizers.l1(l=0.1)))\n",
    "\n",
    "model.compile(optimizer=Adam(lr=0.001),\n",
    "              loss='categorical_crossentropy',\n",
    "              metrics=['accuracy'])\n",
    "\n",
    "history = model.fit(x=Xtrain.values,\n",
    "                    y=ytrain_categorical,\n",
    "                    batch_size=Xtrain.shape[0],\n",
    "                    validation_data=(Xvalid.values, yvalid_categorical),\n",
    "                    epochs=50,\n",
    "                    verbose=1)"
   ]
  },
  {
   "cell_type": "code",
   "execution_count": null,
   "metadata": {},
   "outputs": [],
   "source": [
    "plot_curves(history.history['loss'],\n",
    "            history.history['val_loss'],\n",
    "            label='Loss')"
   ]
  },
  {
   "cell_type": "code",
   "execution_count": null,
   "metadata": {},
   "outputs": [],
   "source": [
    "plot_curves(history.history['accuracy'],\n",
    "            history.history['val_accuracy'],\n",
    "            label='Accuracy')"
   ]
  },
  {
   "cell_type": "code",
   "execution_count": null,
   "metadata": {},
   "outputs": [],
   "source": [
    "np.mean(history.history['val_accuracy'][-5:])"
   ]
  },
  {
   "cell_type": "markdown",
   "metadata": {},
   "source": [
    "Copyright 2020 Google Inc. Licensed under the Apache License, Version 2.0 (the \"License\"); you may not use this file except in compliance with the License. You may obtain a copy of the License at http://www.apache.org/licenses/LICENSE-2.0 Unless required by applicable law or agreed to in writing, software distributed under the License is distributed on an \"AS IS\" BASIS, WITHOUT WARRANTIES OR CONDITIONS OF ANY KIND, either express or implied. See the License for the specific language governing permissions and limitations under the License"
   ]
  }
 ],
 "metadata": {
  "environment": {
   "name": "tf2-2-3-gpu.2-3.m59",
   "type": "gcloud",
   "uri": "gcr.io/deeplearning-platform-release/tf2-2-3-gpu.2-3:m59"
  },
  "kernelspec": {
   "display_name": "Python 3",
   "language": "python",
   "name": "python3"
  },
  "language_info": {
   "codemirror_mode": {
    "name": "ipython",
    "version": 3
   },
   "file_extension": ".py",
   "mimetype": "text/x-python",
   "name": "python",
   "nbconvert_exporter": "python",
   "pygments_lexer": "ipython3",
   "version": "3.7.3"
  }
 },
 "nbformat": 4,
 "nbformat_minor": 4
}

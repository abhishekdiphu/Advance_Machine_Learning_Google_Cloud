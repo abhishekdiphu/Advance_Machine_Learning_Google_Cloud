{
 "cells": [
  {
   "cell_type": "markdown",
   "metadata": {},
   "source": [
    "# Time Series Prediction\n",
    "\n",
    "**Objectives**\n",
    " 1. Build a linear, DNN and CNN model in Keras.\n",
    " 2. Build a simple RNN model and a multi-layer RNN model in Keras.\n",
    " \n",
    "In this lab we will with a linear, DNN and CNN model \n",
    "\n",
    "Since the features of our model are sequential in nature, we'll next look at how to build various RNN models in Keras. We'll start with a simple RNN model and then see how to create a multi-layer RNN in Keras.\n",
    "\n",
    "We will be exploring a lot of different model types in this notebook.\n"
   ]
  },
  {
   "cell_type": "code",
   "execution_count": 1,
   "metadata": {
    "colab": {},
    "colab_type": "code",
    "id": "Nny3m465gKkY"
   },
   "outputs": [],
   "source": [
    "!sudo chown -R jupyter:jupyter /home/jupyter/training-data-analyst"
   ]
  },
  {
   "cell_type": "code",
   "execution_count": 2,
   "metadata": {},
   "outputs": [
    {
     "name": "stdout",
     "output_type": "stream",
     "text": [
      "Collecting google-cloud-bigquery==1.25.0\n",
      "  Downloading google_cloud_bigquery-1.25.0-py2.py3-none-any.whl (169 kB)\n",
      "\u001b[K     |████████████████████████████████| 169 kB 7.6 MB/s eta 0:00:01\n",
      "\u001b[?25hRequirement already satisfied: google-api-core<2.0dev,>=1.15.0 in /opt/conda/lib/python3.7/site-packages (from google-cloud-bigquery==1.25.0) (1.22.4)\n",
      "Requirement already satisfied: google-cloud-core<2.0dev,>=1.1.0 in /opt/conda/lib/python3.7/site-packages (from google-cloud-bigquery==1.25.0) (1.3.0)\n",
      "Requirement already satisfied: google-auth<2.0dev,>=1.9.0 in /opt/conda/lib/python3.7/site-packages (from google-cloud-bigquery==1.25.0) (1.23.0)\n",
      "Collecting google-resumable-media<0.6dev,>=0.5.0\n",
      "  Downloading google_resumable_media-0.5.1-py2.py3-none-any.whl (38 kB)\n",
      "Requirement already satisfied: protobuf>=3.6.0 in /opt/conda/lib/python3.7/site-packages (from google-cloud-bigquery==1.25.0) (3.13.0)\n",
      "Requirement already satisfied: six<2.0.0dev,>=1.13.0 in /opt/conda/lib/python3.7/site-packages (from google-cloud-bigquery==1.25.0) (1.15.0)\n",
      "Requirement already satisfied: pytz in /opt/conda/lib/python3.7/site-packages (from google-api-core<2.0dev,>=1.15.0->google-cloud-bigquery==1.25.0) (2020.4)\n",
      "Requirement already satisfied: googleapis-common-protos<2.0dev,>=1.6.0 in /opt/conda/lib/python3.7/site-packages (from google-api-core<2.0dev,>=1.15.0->google-cloud-bigquery==1.25.0) (1.52.0)\n",
      "Requirement already satisfied: requests<3.0.0dev,>=2.18.0 in /opt/conda/lib/python3.7/site-packages (from google-api-core<2.0dev,>=1.15.0->google-cloud-bigquery==1.25.0) (2.24.0)\n",
      "Requirement already satisfied: setuptools>=34.0.0 in /opt/conda/lib/python3.7/site-packages (from google-api-core<2.0dev,>=1.15.0->google-cloud-bigquery==1.25.0) (50.3.2)\n",
      "Requirement already satisfied: rsa<5,>=3.1.4; python_version >= \"3.5\" in /opt/conda/lib/python3.7/site-packages (from google-auth<2.0dev,>=1.9.0->google-cloud-bigquery==1.25.0) (4.6)\n",
      "Requirement already satisfied: cachetools<5.0,>=2.0.0 in /opt/conda/lib/python3.7/site-packages (from google-auth<2.0dev,>=1.9.0->google-cloud-bigquery==1.25.0) (4.1.1)\n",
      "Requirement already satisfied: pyasn1-modules>=0.2.1 in /opt/conda/lib/python3.7/site-packages (from google-auth<2.0dev,>=1.9.0->google-cloud-bigquery==1.25.0) (0.2.8)\n",
      "Requirement already satisfied: certifi>=2017.4.17 in /opt/conda/lib/python3.7/site-packages (from requests<3.0.0dev,>=2.18.0->google-api-core<2.0dev,>=1.15.0->google-cloud-bigquery==1.25.0) (2020.11.8)\n",
      "Requirement already satisfied: chardet<4,>=3.0.2 in /opt/conda/lib/python3.7/site-packages (from requests<3.0.0dev,>=2.18.0->google-api-core<2.0dev,>=1.15.0->google-cloud-bigquery==1.25.0) (3.0.4)\n",
      "Requirement already satisfied: idna<3,>=2.5 in /opt/conda/lib/python3.7/site-packages (from requests<3.0.0dev,>=2.18.0->google-api-core<2.0dev,>=1.15.0->google-cloud-bigquery==1.25.0) (2.10)\n",
      "Requirement already satisfied: urllib3!=1.25.0,!=1.25.1,<1.26,>=1.21.1 in /opt/conda/lib/python3.7/site-packages (from requests<3.0.0dev,>=2.18.0->google-api-core<2.0dev,>=1.15.0->google-cloud-bigquery==1.25.0) (1.25.11)\n",
      "Requirement already satisfied: pyasn1>=0.1.3 in /opt/conda/lib/python3.7/site-packages (from rsa<5,>=3.1.4; python_version >= \"3.5\"->google-auth<2.0dev,>=1.9.0->google-cloud-bigquery==1.25.0) (0.4.8)\n",
      "Installing collected packages: google-resumable-media, google-cloud-bigquery\n",
      "\u001b[31mERROR: After October 2020 you may experience errors when installing or updating packages. This is because pip will change the way that it resolves dependency conflicts.\n",
      "\n",
      "We recommend you use --use-feature=2020-resolver to test your packages with the new resolver before it becomes the default.\n",
      "\n",
      "tfx 0.23.0 requires attrs<20,>=19.3.0, but you'll have attrs 20.3.0 which is incompatible.\n",
      "tfx 0.23.0 requires google-resumable-media<0.7.0,>=0.6.0, but you'll have google-resumable-media 0.5.1 which is incompatible.\n",
      "tfx 0.23.0 requires kubernetes<12,>=10.0.1, but you'll have kubernetes 12.0.0 which is incompatible.\n",
      "tfx 0.23.0 requires pyarrow<0.18,>=0.17, but you'll have pyarrow 2.0.0 which is incompatible.\n",
      "google-cloud-storage 1.30.0 requires google-resumable-media<2.0dev,>=0.6.0, but you'll have google-resumable-media 0.5.1 which is incompatible.\u001b[0m\n",
      "Successfully installed google-cloud-bigquery-1.25.0 google-resumable-media-0.5.1\n"
     ]
    }
   ],
   "source": [
    "!pip install --user google-cloud-bigquery==1.25.0"
   ]
  },
  {
   "cell_type": "markdown",
   "metadata": {},
   "source": [
    "**Note**: Restart your kernel to use updated packages."
   ]
  },
  {
   "cell_type": "markdown",
   "metadata": {},
   "source": [
    "Kindly ignore the deprecation warnings and incompatibility errors related to google-cloud-storage."
   ]
  },
  {
   "cell_type": "markdown",
   "metadata": {},
   "source": [
    "## Load necessary libraries and set up environment variables"
   ]
  },
  {
   "cell_type": "code",
   "execution_count": 3,
   "metadata": {},
   "outputs": [],
   "source": [
    "PROJECT = \"qwiklabs-gcp-02-586ca7df7289\" # REPLACE WITH YOUR PROJECT NAME\n",
    "BUCKET = \"qwiklabs-gcp-02-586ca7df7289\" # REPLACE WITH YOUR BUCKET\n",
    "REGION = \"us-central1\" # REPLACE WITH YOUR BUCKET REGION e.g. us-central1"
   ]
  },
  {
   "cell_type": "code",
   "execution_count": 4,
   "metadata": {},
   "outputs": [],
   "source": [
    "%env \n",
    "PROJECT = PROJECT\n",
    "BUCKET = BUCKET\n",
    "REGION = REGION"
   ]
  },
  {
   "cell_type": "code",
   "execution_count": 5,
   "metadata": {},
   "outputs": [],
   "source": [
    "import os\n",
    "\n",
    "import matplotlib as mpl\n",
    "import matplotlib.pyplot as plt\n",
    "import numpy as np\n",
    "import pandas as pd\n",
    "import tensorflow as tf\n",
    "\n",
    "from google.cloud import bigquery\n",
    "from tensorflow.keras.utils import to_categorical\n",
    "from tensorflow.keras.models import Sequential\n",
    "from tensorflow.keras.layers import (Dense, DenseFeatures,\n",
    "                                     Conv1D, MaxPool1D,\n",
    "                                     Reshape, RNN,\n",
    "                                     LSTM, GRU, Bidirectional)\n",
    "from tensorflow.keras.callbacks import TensorBoard, ModelCheckpoint\n",
    "from tensorflow.keras.optimizers import Adam\n",
    "\n",
    "# To plot pretty figures\n",
    "%matplotlib inline\n",
    "mpl.rc('axes', labelsize=14)\n",
    "mpl.rc('xtick', labelsize=12)\n",
    "mpl.rc('ytick', labelsize=12)\n",
    "\n",
    "# For reproducible results.\n",
    "from numpy.random import seed\n",
    "seed(1)\n",
    "tf.random.set_seed(2)"
   ]
  },
  {
   "cell_type": "markdown",
   "metadata": {},
   "source": [
    "## Explore time series data\n",
    "\n",
    "We'll start by pulling a small sample of the time series data from Big Query and write some helper functions to clean up the data for modeling. We'll use the data from the `percent_change_sp500` table in BigQuery. The `close_values_prior_260` column contains the close values for any given stock for the previous 260 days. "
   ]
  },
  {
   "cell_type": "code",
   "execution_count": 7,
   "metadata": {},
   "outputs": [
    {
     "name": "stdout",
     "output_type": "stream",
     "text": [
      "CPU times: user 3.3 ms, sys: 476 µs, total: 3.77 ms\n",
      "Wall time: 5.71 ms\n"
     ]
    }
   ],
   "source": [
    "%%time\n",
    "bq = bigquery.Client(project=PROJECT)\n",
    "\n",
    "bq_query = '''\n",
    "#standardSQL\n",
    "SELECT\n",
    "  symbol,\n",
    "  Date,\n",
    "  direction,\n",
    "  close_values_prior_260\n",
    "FROM\n",
    "  `stock_market.eps_percent_change_sp500`\n",
    "LIMIT\n",
    "  100000\n",
    "'''\n"
   ]
  },
  {
   "cell_type": "markdown",
   "metadata": {},
   "source": [
    "The function `clean_data` below does three things:\n",
    " 1. First, we'll remove any inf or NA values\n",
    " 2. Next, we parse the `Date` field to read it as a string.\n",
    " 3. Lastly, we convert the label `direction` into a numeric quantity, mapping 'DOWN' to 0, 'STAY' to 1 and 'UP' to 2. "
   ]
  },
  {
   "cell_type": "code",
   "execution_count": 8,
   "metadata": {},
   "outputs": [],
   "source": [
    "def clean_data(input_df):\n",
    "    \"\"\"Cleans data to prepare for training.\n",
    "\n",
    "    Args:\n",
    "        input_df: Pandas dataframe.\n",
    "    Returns:\n",
    "        Pandas dataframe.\n",
    "    \"\"\"\n",
    "    df = input_df.copy()\n",
    "\n",
    "    # Remove inf/na values.\n",
    "    real_valued_rows = ~(df == np.inf).max(axis=1)\n",
    "    df = df[real_valued_rows].dropna()\n",
    "\n",
    "    # TF doesn't accept datetimes in DataFrame.\n",
    "    df['Date'] = pd.to_datetime(df['Date'], errors='coerce')\n",
    "    df['Date'] = df['Date'].dt.strftime('%Y-%m-%d')\n",
    "\n",
    "    # TF requires numeric label.\n",
    "    df['direction_numeric'] = df['direction'].apply(lambda x: {'DOWN': 0,\n",
    "                                                               'STAY': 1,\n",
    "                                                               'UP': 2}[x])\n",
    "    return df"
   ]
  },
  {
   "cell_type": "markdown",
   "metadata": {},
   "source": [
    "## Read data and preprocessing\n",
    "\n",
    "Before we begin modeling, we'll preprocess our features by scaling to the z-score. This will ensure that the range of the feature values being fed to the model are comparable and should help with convergence during gradient descent."
   ]
  },
  {
   "cell_type": "code",
   "execution_count": 9,
   "metadata": {},
   "outputs": [],
   "source": [
    "STOCK_HISTORY_COLUMN = 'close_values_prior_260'\n",
    "COL_NAMES = ['day_' + str(day) for day in range(0, 260)]\n",
    "LABEL = 'direction_numeric'"
   ]
  },
  {
   "cell_type": "code",
   "execution_count": 10,
   "metadata": {},
   "outputs": [],
   "source": [
    "def _scale_features(df):\n",
    "    \"\"\"z-scale feature columns of Pandas dataframe.\n",
    "\n",
    "    Args:\n",
    "        features: Pandas dataframe.\n",
    "    Returns:\n",
    "        Pandas dataframe with each column standardized according to the\n",
    "        values in that column.\n",
    "    \"\"\"\n",
    "    avg = df.mean()\n",
    "    std = df.std()\n",
    "    return (df - avg) / std\n",
    "\n",
    "\n",
    "def create_features(df, label_name):\n",
    "    \"\"\"Create modeling features and label from Pandas dataframe.\n",
    "\n",
    "    Args:\n",
    "        df: Pandas dataframe.\n",
    "        label_name: str, the column name of the label.\n",
    "    Returns:\n",
    "        Pandas dataframe\n",
    "    \"\"\"\n",
    "    # Expand 1 column containing a list of close prices to 260 columns.\n",
    "    time_series_features = df[STOCK_HISTORY_COLUMN].apply(pd.Series)\n",
    "\n",
    "    # Rename columns.\n",
    "    time_series_features.columns = COL_NAMES\n",
    "    time_series_features = _scale_features(time_series_features)\n",
    "\n",
    "    # Concat time series features with static features and label.\n",
    "    label_column = df[LABEL]\n",
    "\n",
    "    return pd.concat([time_series_features,\n",
    "                      label_column], axis=1)"
   ]
  },
  {
   "cell_type": "markdown",
   "metadata": {},
   "source": [
    "### Make train-eval-test split\n",
    "\n",
    "Next, we'll make repeatable splits for our train/validation/test datasets and save these datasets to local csv files. The query below will take a subsample of the entire dataset and then create a 70-15-15 split for the train/validation/test sets. "
   ]
  },
  {
   "cell_type": "code",
   "execution_count": 11,
   "metadata": {},
   "outputs": [],
   "source": [
    "def _create_split(phase):\n",
    "    \"\"\"Create string to produce train/valid/test splits for a SQL query.\n",
    "\n",
    "    Args:\n",
    "        phase: str, either TRAIN, VALID, or TEST.\n",
    "    Returns:\n",
    "        String.\n",
    "    \"\"\"\n",
    "    floor, ceiling = '2002-11-01', '2010-07-01'\n",
    "    if phase == 'VALID':\n",
    "        floor, ceiling = '2010-07-01', '2011-09-01'\n",
    "    elif phase == 'TEST':\n",
    "        floor, ceiling = '2011-09-01', '2012-11-30'\n",
    "    return '''\n",
    "    WHERE Date >= '{0}'\n",
    "    AND Date < '{1}'\n",
    "    '''.format(floor, ceiling)\n",
    "\n",
    "\n",
    "def create_query(phase):\n",
    "    \"\"\"Create SQL query to create train/valid/test splits on subsample.\n",
    "\n",
    "    Args:\n",
    "        phase: str, either TRAIN, VALID, or TEST.\n",
    "        sample_size: str, amount of data to take for subsample.\n",
    "    Returns:\n",
    "        String.\n",
    "    \"\"\"\n",
    "    basequery = \"\"\"\n",
    "    #standardSQL\n",
    "    SELECT\n",
    "      symbol,\n",
    "      Date,\n",
    "      direction,\n",
    "      close_values_prior_260\n",
    "    FROM\n",
    "      `stock_market.eps_percent_change_sp500`\n",
    "    \"\"\"\n",
    "    \n",
    "    return basequery + _create_split(phase)"
   ]
  },
  {
   "cell_type": "markdown",
   "metadata": {},
   "source": [
    "## Modeling\n",
    "\n",
    "For experimentation purposes, we'll train various models using data we can fit in memory using the `.csv` files we created above. "
   ]
  },
  {
   "cell_type": "code",
   "execution_count": 30,
   "metadata": {},
   "outputs": [],
   "source": [
    "N_TIME_STEPS = 260\n",
    "N_LABELS = 3\n",
    "\n",
    "Xtrain = pd.read_csv('stock-train.csv')\n",
    "Xvalid = pd.read_csv('stock-valid.csv')\n",
    "\n",
    "ytrain = Xtrain.pop(LABEL)\n",
    "yvalid  = Xvalid.pop(LABEL)\n",
    "\n",
    "ytrain_categorical = to_categorical(ytrain.values)\n",
    "yvalid_categorical = to_categorical(yvalid.values)"
   ]
  },
  {
   "cell_type": "markdown",
   "metadata": {},
   "source": [
    "To monitor training progress and compare evaluation metrics for different models, we'll use the function below to plot metrics captured from the training job such as training and validation loss or accuracy."
   ]
  },
  {
   "cell_type": "code",
   "execution_count": 31,
   "metadata": {},
   "outputs": [],
   "source": [
    "def plot_curves(train_data, val_data, label='Accuracy'):\n",
    "    \"\"\"Plot training and validation metrics on single axis.\n",
    "\n",
    "    Args:\n",
    "        train_data: list, metrics obtrained from training data.\n",
    "        val_data: list, metrics obtained from validation data.\n",
    "        label: str, title and label for plot.\n",
    "    Returns:\n",
    "        Matplotlib plot.\n",
    "    \"\"\"\n",
    "    plt.plot(np.arange(len(train_data)) + 0.5,\n",
    "             train_data,\n",
    "             \"b.-\", label=\"Training \" + label)\n",
    "    plt.plot(np.arange(len(val_data)) + 1,\n",
    "             val_data, \"r.-\",\n",
    "             label=\"Validation \" + label)\n",
    "    plt.gca().xaxis.set_major_locator(mpl.ticker.MaxNLocator(integer=True))\n",
    "    plt.legend(fontsize=14)\n",
    "    plt.xlabel(\"Epochs\")\n",
    "    plt.ylabel(label)\n",
    "    plt.grid(True)  "
   ]
  },
  {
   "cell_type": "markdown",
   "metadata": {},
   "source": [
    "### Recurrent Neural Network\n",
    "\n",
    "RNNs are particularly well-suited for learning sequential data. They retain state information from one iteration to the next by feeding the output from one cell as input for the next step. In the cell below, we'll build a RNN model in Keras. The final state of the RNN is captured and then passed through a fully connected layer to produce a prediction."
   ]
  },
  {
   "cell_type": "code",
   "execution_count": 33,
   "metadata": {},
   "outputs": [
    {
     "name": "stdout",
     "output_type": "stream",
     "text": [
      "Epoch 1/40\n",
      "1/1 [==============================] - 2s 2s/step - loss: 2.9951 - accuracy: 0.3466 - val_loss: 2.9877 - val_accuracy: 0.2949\n",
      "Epoch 2/40\n",
      "1/1 [==============================] - 1s 790ms/step - loss: 2.9851 - accuracy: 0.3456 - val_loss: 2.9785 - val_accuracy: 0.2949\n",
      "Epoch 3/40\n",
      "1/1 [==============================] - 1s 745ms/step - loss: 2.9755 - accuracy: 0.3458 - val_loss: 2.9693 - val_accuracy: 0.2978\n",
      "Epoch 4/40\n",
      "1/1 [==============================] - 1s 789ms/step - loss: 2.9659 - accuracy: 0.3458 - val_loss: 2.9601 - val_accuracy: 0.3008\n",
      "Epoch 5/40\n",
      "1/1 [==============================] - 1s 1s/step - loss: 2.9562 - accuracy: 0.3478 - val_loss: 2.9509 - val_accuracy: 0.3028\n",
      "Epoch 6/40\n",
      "1/1 [==============================] - 1s 810ms/step - loss: 2.9465 - accuracy: 0.3499 - val_loss: 2.9416 - val_accuracy: 0.3041\n",
      "Epoch 7/40\n",
      "1/1 [==============================] - 1s 794ms/step - loss: 2.9368 - accuracy: 0.3512 - val_loss: 2.9324 - val_accuracy: 0.3112\n",
      "Epoch 8/40\n",
      "1/1 [==============================] - 1s 1s/step - loss: 2.9273 - accuracy: 0.3506 - val_loss: 2.9234 - val_accuracy: 0.3154\n",
      "Epoch 9/40\n",
      "1/1 [==============================] - 1s 877ms/step - loss: 2.9179 - accuracy: 0.3521 - val_loss: 2.9143 - val_accuracy: 0.3133\n",
      "Epoch 10/40\n",
      "1/1 [==============================] - 1s 797ms/step - loss: 2.9086 - accuracy: 0.3527 - val_loss: 2.9052 - val_accuracy: 0.3187\n",
      "Epoch 11/40\n",
      "1/1 [==============================] - 1s 1s/step - loss: 2.8992 - accuracy: 0.3550 - val_loss: 2.8960 - val_accuracy: 0.3208\n",
      "Epoch 12/40\n",
      "1/1 [==============================] - 1s 1s/step - loss: 2.8897 - accuracy: 0.3559 - val_loss: 2.8869 - val_accuracy: 0.3262\n",
      "Epoch 13/40\n",
      "1/1 [==============================] - 1s 1s/step - loss: 2.8804 - accuracy: 0.3577 - val_loss: 2.8779 - val_accuracy: 0.3304\n",
      "Epoch 14/40\n",
      "1/1 [==============================] - 1s 702ms/step - loss: 2.8712 - accuracy: 0.3607 - val_loss: 2.8690 - val_accuracy: 0.3308\n",
      "Epoch 15/40\n",
      "1/1 [==============================] - 1s 793ms/step - loss: 2.8621 - accuracy: 0.3616 - val_loss: 2.8601 - val_accuracy: 0.3354\n",
      "Epoch 16/40\n",
      "1/1 [==============================] - 1s 968ms/step - loss: 2.8530 - accuracy: 0.3632 - val_loss: 2.8511 - val_accuracy: 0.3388\n",
      "Epoch 17/40\n",
      "1/1 [==============================] - 1s 1s/step - loss: 2.8438 - accuracy: 0.3644 - val_loss: 2.8420 - val_accuracy: 0.3450\n",
      "Epoch 18/40\n",
      "1/1 [==============================] - 1s 839ms/step - loss: 2.8347 - accuracy: 0.3650 - val_loss: 2.8329 - val_accuracy: 0.3496\n",
      "Epoch 19/40\n",
      "1/1 [==============================] - 1s 870ms/step - loss: 2.8254 - accuracy: 0.3653 - val_loss: 2.8239 - val_accuracy: 0.3525\n",
      "Epoch 20/40\n",
      "1/1 [==============================] - 1s 1s/step - loss: 2.8163 - accuracy: 0.3665 - val_loss: 2.8149 - val_accuracy: 0.3538\n",
      "Epoch 21/40\n",
      "1/1 [==============================] - 1s 801ms/step - loss: 2.8072 - accuracy: 0.3675 - val_loss: 2.8058 - val_accuracy: 0.3551\n",
      "Epoch 22/40\n",
      "1/1 [==============================] - 1s 872ms/step - loss: 2.7980 - accuracy: 0.3676 - val_loss: 2.7967 - val_accuracy: 0.3546\n",
      "Epoch 23/40\n",
      "1/1 [==============================] - 1s 1s/step - loss: 2.7887 - accuracy: 0.3670 - val_loss: 2.7875 - val_accuracy: 0.3546\n",
      "Epoch 24/40\n",
      "1/1 [==============================] - 1s 1s/step - loss: 2.7795 - accuracy: 0.3684 - val_loss: 2.7783 - val_accuracy: 0.3546\n",
      "Epoch 25/40\n",
      "1/1 [==============================] - 1s 1s/step - loss: 2.7702 - accuracy: 0.3694 - val_loss: 2.7692 - val_accuracy: 0.3576\n",
      "Epoch 26/40\n",
      "1/1 [==============================] - 1s 775ms/step - loss: 2.7610 - accuracy: 0.3699 - val_loss: 2.7601 - val_accuracy: 0.3584\n",
      "Epoch 27/40\n",
      "1/1 [==============================] - 1s 1s/step - loss: 2.7519 - accuracy: 0.3698 - val_loss: 2.7511 - val_accuracy: 0.3605\n",
      "Epoch 28/40\n",
      "1/1 [==============================] - 1s 1s/step - loss: 2.7428 - accuracy: 0.3689 - val_loss: 2.7421 - val_accuracy: 0.3617\n",
      "Epoch 29/40\n",
      "1/1 [==============================] - 1s 986ms/step - loss: 2.7337 - accuracy: 0.3696 - val_loss: 2.7332 - val_accuracy: 0.3634\n",
      "Epoch 30/40\n",
      "1/1 [==============================] - 1s 871ms/step - loss: 2.7248 - accuracy: 0.3695 - val_loss: 2.7246 - val_accuracy: 0.3613\n",
      "Epoch 31/40\n",
      "1/1 [==============================] - 1s 943ms/step - loss: 2.7162 - accuracy: 0.3703 - val_loss: 2.7161 - val_accuracy: 0.3605\n",
      "Epoch 32/40\n",
      "1/1 [==============================] - 1s 746ms/step - loss: 2.7075 - accuracy: 0.3711 - val_loss: 2.7075 - val_accuracy: 0.3596\n",
      "Epoch 33/40\n",
      "1/1 [==============================] - 1s 742ms/step - loss: 2.6989 - accuracy: 0.3698 - val_loss: 2.6988 - val_accuracy: 0.3605\n",
      "Epoch 34/40\n",
      "1/1 [==============================] - 2s 2s/step - loss: 2.6901 - accuracy: 0.3699 - val_loss: 2.6901 - val_accuracy: 0.3596\n",
      "Epoch 35/40\n",
      "1/1 [==============================] - 1s 1s/step - loss: 2.6812 - accuracy: 0.3705 - val_loss: 2.6815 - val_accuracy: 0.3588\n",
      "Epoch 36/40\n",
      "1/1 [==============================] - 1s 1s/step - loss: 2.6725 - accuracy: 0.3711 - val_loss: 2.6732 - val_accuracy: 0.3584\n",
      "Epoch 37/40\n",
      "1/1 [==============================] - 1s 905ms/step - loss: 2.6640 - accuracy: 0.3710 - val_loss: 2.6650 - val_accuracy: 0.3601\n",
      "Epoch 38/40\n",
      "1/1 [==============================] - 1s 850ms/step - loss: 2.6556 - accuracy: 0.3716 - val_loss: 2.6565 - val_accuracy: 0.3596\n",
      "Epoch 39/40\n",
      "1/1 [==============================] - 1s 1s/step - loss: 2.6479 - accuracy: 0.3723 - val_loss: 2.6477 - val_accuracy: 0.3592\n",
      "Epoch 40/40\n",
      "1/1 [==============================] - 1s 921ms/step - loss: 2.6388 - accuracy: 0.3716 - val_loss: 2.6386 - val_accuracy: 0.3601\n"
     ]
    }
   ],
   "source": [
    "model = Sequential()\n",
    "\n",
    "# Reshape inputs to pass through RNN layer.\n",
    "model.add(Reshape(target_shape=[N_TIME_STEPS, 1]))\n",
    "model.add(LSTM(N_TIME_STEPS // 8,\n",
    "               activation='relu',\n",
    "               return_sequences=False))\n",
    "\n",
    "model.add(Dense(units=N_LABELS,\n",
    "                activation='softmax',\n",
    "                kernel_regularizer=tf.keras.regularizers.l1(l=0.1)))\n",
    "\n",
    "# Create the model.\n",
    "model.compile(optimizer=Adam(lr=0.001),\n",
    "              loss='categorical_crossentropy',\n",
    "              metrics=['accuracy'])\n",
    "\n",
    "history = model.fit(x=Xtrain.values,\n",
    "                    y=ytrain_categorical,\n",
    "                    batch_size=Xtrain.shape[0],\n",
    "                    validation_data=(Xvalid.values, yvalid_categorical),\n",
    "                    epochs=40,\n",
    "                    verbose=1)"
   ]
  },
  {
   "cell_type": "code",
   "execution_count": 34,
   "metadata": {},
   "outputs": [
    {
     "data": {
      "image/png": "[encoded data removed]",
      "text/plain": [
       "<Figure size 432x288 with 1 Axes>"
      ]
     },
     "metadata": {
      "needs_background": "light"
     },
     "output_type": "display_data"
    }
   ],
   "source": [
    "plot_curves(history.history['loss'],\n",
    "            history.history['val_loss'],\n",
    "            label='Loss')"
   ]
  },
  {
   "cell_type": "code",
   "execution_count": 35,
   "metadata": {},
   "outputs": [
    {
     "data": {
      "image/png": "[encoded data removed]",
      "text/plain": [
       "<Figure size 432x288 with 1 Axes>"
      ]
     },
     "metadata": {
      "needs_background": "light"
     },
     "output_type": "display_data"
    }
   ],
   "source": [
    "plot_curves(history.history['accuracy'],\n",
    "            history.history['val_accuracy'],\n",
    "            label='Accuracy')"
   ]
  },
  {
   "cell_type": "code",
   "execution_count": 36,
   "metadata": {},
   "outputs": [
    {
     "data": {
      "text/plain": [
       "0.35948203802108764"
      ]
     },
     "execution_count": 36,
     "metadata": {},
     "output_type": "execute_result"
    }
   ],
   "source": [
    "np.mean(history.history['val_accuracy'][-5:])"
   ]
  },
  {
   "cell_type": "markdown",
   "metadata": {},
   "source": [
    "### Multi-layer RNN\n",
    "\n",
    "Next, we'll build multi-layer RNN. Just as multiple layers of a deep neural network allow for more complicated features to be learned during training, additional RNN layers can potentially learn complex features in sequential data. For a multi-layer RNN the output of the first RNN layer is fed as the input into the next RNN layer."
   ]
  },
  {
   "cell_type": "code",
   "execution_count": 43,
   "metadata": {},
   "outputs": [
    {
     "ename": "SyntaxError",
     "evalue": "keyword argument repeated (<ipython-input-43-88e3331ccf8e>, line 29)",
     "output_type": "error",
     "traceback": [
      "\u001b[0;36m  File \u001b[0;32m\"<ipython-input-43-88e3331ccf8e>\"\u001b[0;36m, line \u001b[0;32m29\u001b[0m\n\u001b[0;31m    epochs=50,\u001b[0m\n\u001b[0m    ^\u001b[0m\n\u001b[0;31mSyntaxError\u001b[0m\u001b[0;31m:\u001b[0m keyword argument repeated\n"
     ]
    }
   ],
   "source": [
    "rnn_hidden_units = [N_TIME_STEPS // 16,\n",
    "                    N_TIME_STEPS // 32]\n",
    "\n",
    "model = Sequential()\n",
    "\n",
    "# Reshape inputs to pass through RNN layer.\n",
    "model.add(Reshape(target_shape=[N_TIME_STEPS, 1]))\n",
    "\n",
    "for layer in rnn_hidden_units[:-1]:\n",
    "    model.add(GRU(units=layer,\n",
    "                  activation='relu',\n",
    "                  return_sequences=True))\n",
    "\n",
    "model.add(GRU(units=rnn_hidden_units[-1],\n",
    "              return_sequences=False))\n",
    "model.add(Dense(units=N_LABELS,\n",
    "                activation=\"softmax\",\n",
    "                kernel_regularizer=tf.keras.regularizers.l1(l=0.1)))\n",
    "\n",
    "model.compile(optimizer=Adam(lr=0.001),\n",
    "              loss='categorical_crossentropy',\n",
    "              metrics=['accuracy'])\n",
    "\n",
    "history = model.fit(x=Xtrain.values,\n",
    "                    y=ytrain_categorical,\n",
    "                    \n",
    "                    batch_size=Xtrain.shape[0],\n",
    "                    validation_data=(Xvalid.values, yvalid_categorical),\n",
    "                    epochs=,\n",
    "                    verbose=1)"
   ]
  },
  {
   "cell_type": "code",
   "execution_count": 39,
   "metadata": {},
   "outputs": [
    {
     "data": {
      "image/png": "[encoded data removed]",
      "text/plain": [
       "<Figure size 432x288 with 1 Axes>"
      ]
     },
     "metadata": {
      "needs_background": "light"
     },
     "output_type": "display_data"
    }
   ],
   "source": [
    "plot_curves(history.history['loss'],\n",
    "            history.history['val_loss'],\n",
    "            label='Loss')"
   ]
  },
  {
   "cell_type": "code",
   "execution_count": 40,
   "metadata": {},
   "outputs": [
    {
     "data": {
      "image/png": "[encoded data removed]",
      "text/plain": [
       "<Figure size 432x288 with 1 Axes>"
      ]
     },
     "metadata": {
      "needs_background": "light"
     },
     "output_type": "display_data"
    }
   ],
   "source": [
    "plot_curves(history.history['accuracy'],\n",
    "            history.history['val_accuracy'],\n",
    "            label='Accuracy')"
   ]
  },
  {
   "cell_type": "code",
   "execution_count": 41,
   "metadata": {},
   "outputs": [
    {
     "data": {
      "text/plain": [
       "0.3624060034751892"
      ]
     },
     "execution_count": 41,
     "metadata": {},
     "output_type": "execute_result"
    }
   ],
   "source": [
    "np.mean(history.history['val_accuracy'][-5:])"
   ]
  },
  {
   "cell_type": "markdown",
   "metadata": {},
   "source": [
    "Copyright 2020 Google Inc. Licensed under the Apache License, Version 2.0 (the \"License\"); you may not use this file except in compliance with the License. You may obtain a copy of the License at http://www.apache.org/licenses/LICENSE-2.0 Unless required by applicable law or agreed to in writing, software distributed under the License is distributed on an \"AS IS\" BASIS, WITHOUT WARRANTIES OR CONDITIONS OF ANY KIND, either express or implied. See the License for the specific language governing permissions and limitations under the License"
   ]
  },
  {
   "cell_type": "code",
   "execution_count": null,
   "metadata": {},
   "outputs": [],
   "source": []
  },
  {
   "cell_type": "code",
   "execution_count": null,
   "metadata": {},
   "outputs": [],
   "source": []
  },
  {
   "cell_type": "code",
   "execution_count": null,
   "metadata": {},
   "outputs": [],
   "source": []
  },
  {
   "cell_type": "code",
   "execution_count": null,
   "metadata": {},
   "outputs": [],
   "source": []
  }
 ],
 "metadata": {
  "environment": {
   "name": "tf2-2-3-gpu.2-3.m59",
   "type": "gcloud",
   "uri": "gcr.io/deeplearning-platform-release/tf2-2-3-gpu.2-3:m59"
  },
  "kernelspec": {
   "display_name": "Python 3",
   "language": "python",
   "name": "python3"
  },
  "language_info": {
   "codemirror_mode": {
    "name": "ipython",
    "version": 3
   },
   "file_extension": ".py",
   "mimetype": "text/x-python",
   "name": "python",
   "nbconvert_exporter": "python",
   "pygments_lexer": "ipython3",
   "version": "3.7.8"
  }
 },
 "nbformat": 4,
 "nbformat_minor": 4
}
